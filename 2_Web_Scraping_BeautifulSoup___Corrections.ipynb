{
  "cells": [
    {
      "cell_type": "markdown",
      "metadata": {
        "id": "qWUK25s9YosK"
      },
      "source": [
        "# 2. Web Scraping - BeautifulSoup\n",
        "\n",
        "<img src='https://xn--kvin-duranty-beb.fr/wp-content/uploads/2022/10/Web-Scraping-_-IPSSI-PRS-1.png'>\n",
        "\n",
        "Dans cet exercice, nous utiliserons la bibliothèque BeautifulSoup afin de collecter les données des sites internet suivants :\n",
        "\n",
        "- Partie 1 : [TheProject.html](http://info.cern.ch/hypertext/WWW/TheProject.html)\n",
        "Nous reprenons le site scrapé  précédement via la bibliothèque `requests`, l'objectif est de comprendre le fonctionnement de la bibliothèque `BeautifulSoup`.\n",
        "\n",
        "\n",
        "- Partie 2 : [Blog Du Modérateur](https://www.blogdumoderateur.com/)\n",
        "L'objectif sera de collecter la liste des articles présents sur la page d'accueil du site.\n",
        "\n",
        "- Partie 3 : [Doctolib](https://www.doctolib.fr/dentiste/paris)\n",
        "Nous verrons que certains sites ont une structure html/css qui entrave la collecte de données, heureusement d'autres bibliothèques existent et permettent de contourner ces restrictions (Selenium).\n",
        "\n",
        "\n",
        "\n",
        "# Partie 1 - [TheProject.html](http://info.cern.ch/hypertext/WWW/TheProject.html)\n",
        "\n",
        "## 2.1 Installez la bibliothèque BeautifulSoup.\n",
        "Utilitisez la commande suivante dans votre terminal :  `pip install BeautifulSoup4`"
      ]
    },
    {
      "cell_type": "markdown",
      "metadata": {
        "id": "ZQxGgE2TVf-q"
      },
      "source": [
        "## 2.2 Importez le package `BeautifulSoup` à partir de la bibliothèque `bs4`.\n",
        "Importez également la bibliothèque `requests`"
      ]
    },
    {
      "cell_type": "code",
      "execution_count": null,
      "metadata": {
        "id": "LRc3uDZ9Vf-r"
      },
      "outputs": [],
      "source": [
        "from bs4 import BeautifulSoup\n",
        "import requests"
      ]
    },
    {
      "cell_type": "markdown",
      "metadata": {
        "id": "wJCSB4D-Vf-r"
      },
      "source": [
        "## 2.3 Faites une requête à l'adresse [TheProject.html](http://info.cern.ch/hypertext/WWW/TheProject.html) via la bibliothèque `requests`.\n",
        "Stockez la réponse dans une variable `response` et affichez le type de cette variable."
      ]
    },
    {
      "cell_type": "code",
      "execution_count": null,
      "metadata": {
        "id": "DOQdjyxeVf-r",
        "outputId": "6763af16-5fab-4d3f-c3ac-2d92193dc623",
        "colab": {
          "base_uri": "https://localhost:8080/"
        }
      },
      "outputs": [
        {
          "output_type": "execute_result",
          "data": {
            "text/plain": [
              "requests.models.Response"
            ]
          },
          "metadata": {},
          "execution_count": 2
        }
      ],
      "source": [
        "response = requests.get(\"http://info.cern.ch/hypertext/WWW/TheProject.html\")\n",
        "type(response)"
      ]
    },
    {
      "cell_type": "markdown",
      "metadata": {
        "id": "6Mx8I9U9Vf-s"
      },
      "source": [
        "## 2.4 Instanciez une variable soup à partir du module `BeautifulSoup` et de la variable `response.text`.\n",
        "\n",
        "Affichez le type de cette variable `soup` ainsi que son instance `text`"
      ]
    },
    {
      "cell_type": "code",
      "execution_count": null,
      "metadata": {
        "id": "FisMAg1LVf-s",
        "outputId": "52964962-016d-4cc2-b229-4d8194bd3fa6"
      },
      "outputs": [
        {
          "data": {
            "text/plain": [
              "bs4.BeautifulSoup"
            ]
          },
          "execution_count": 3,
          "metadata": {},
          "output_type": "execute_result"
        }
      ],
      "source": [
        "soup = BeautifulSoup(response.text)\n",
        "type(soup)"
      ]
    },
    {
      "cell_type": "code",
      "execution_count": null,
      "metadata": {
        "id": "_6Rtaza1Vf-t",
        "outputId": "48a02b2b-b3d5-4cd1-95ac-60cabe5efde9"
      },
      "outputs": [
        {
          "data": {
            "text/plain": [
              "\"\\nThe World Wide Web project\\n\\n\\nWorld Wide WebThe WorldWideWeb (W3) is a wide-area\\nhypermedia information retrieval\\ninitiative aiming to give universal\\naccess to a large universe of documents.\\nEverything there is online about\\nW3 is linked directly or indirectly\\nto this document, including an executive\\nsummary of the project, Mailing lists\\n, Policy , November's  W3  news ,\\nFrequently Asked Questions .\\n\\nWhat's out there?\\n Pointers to the\\nworld's online information, subjects\\n, W3 servers, etc.\\nHelp\\n on the browser you are using\\nSoftware Products\\n A list of W3 project\\ncomponents and their current state.\\n(e.g. Line Mode ,X11 Viola ,  NeXTStep\\n, Servers , Tools , Mail robot ,\\nLibrary )\\nTechnical\\n Details of protocols, formats,\\nprogram internals etc\\nBibliography\\n Paper documentation\\non  W3 and references.\\nPeople\\n A list of some people involved\\nin the project.\\nHistory\\n A summary of the history\\nof the project.\\nHow can I help ?\\n If you would like\\nto support the web..\\nGetting code\\n Getting the code by\\nanonymous FTP , etc.\\n\\n\""
            ]
          },
          "execution_count": 4,
          "metadata": {},
          "output_type": "execute_result"
        }
      ],
      "source": [
        "soup.text"
      ]
    },
    {
      "cell_type": "markdown",
      "metadata": {
        "id": "T52IN4EmVf-t"
      },
      "source": [
        "## 2.5 Utilisez la méthode `find_all` afin de trouver les balises `header`,`body`, `title`, `h1`, `p` et `a`."
      ]
    },
    {
      "cell_type": "code",
      "execution_count": null,
      "metadata": {
        "id": "DHjD9jxoVf-t",
        "outputId": "66db2bab-06ff-4adb-8bf8-5af93580971e"
      },
      "outputs": [
        {
          "data": {
            "text/plain": [
              "[<header>\n",
              " <title>The World Wide Web project</title>\n",
              " <nextid n=\"55\">\n",
              " </nextid></header>]"
            ]
          },
          "execution_count": 5,
          "metadata": {},
          "output_type": "execute_result"
        }
      ],
      "source": [
        "# header\n",
        "soup.find_all('header')"
      ]
    },
    {
      "cell_type": "code",
      "execution_count": null,
      "metadata": {
        "id": "NFoGyEvLVf-t",
        "outputId": "905a5b06-d9bd-4507-811b-208fd765e3b9"
      },
      "outputs": [
        {
          "data": {
            "text/plain": [
              "[<body><header>\n",
              " <title>The World Wide Web project</title>\n",
              " <nextid n=\"55\">\n",
              " </nextid></header>\n",
              " <h1>World Wide Web</h1>The WorldWideWeb (W3) is a wide-area<a href=\"WhatIs.html\" name=\"0\">\n",
              " hypermedia</a> information retrieval\n",
              " initiative aiming to give universal\n",
              " access to a large universe of documents.<p>\n",
              " Everything there is online about\n",
              " W3 is linked directly or indirectly\n",
              " to this document, including an <a href=\"Summary.html\" name=\"24\">executive\n",
              " summary</a> of the project, <a href=\"Administration/Mailing/Overview.html\" name=\"29\">Mailing lists</a>\n",
              " , <a href=\"Policy.html\" name=\"30\">Policy</a> , November's  <a href=\"News/9211.html\" name=\"34\">W3  news</a> ,\n",
              " <a href=\"FAQ/List.html\" name=\"41\">Frequently Asked Questions</a> .\n",
              " </p><dl>\n",
              " <dt><a href=\"../DataSources/Top.html\" name=\"44\">What's out there?</a>\n",
              " </dt><dd> Pointers to the\n",
              " world's online information,<a href=\"../DataSources/bySubject/Overview.html\" name=\"45\"> subjects</a>\n",
              " , <a href=\"../DataSources/WWW/Servers.html\" name=\"z54\">W3 servers</a>, etc.\n",
              " </dd><dt><a href=\"Help.html\" name=\"46\">Help</a>\n",
              " </dt><dd> on the browser you are using\n",
              " </dd><dt><a href=\"Status.html\" name=\"13\">Software Products</a>\n",
              " </dt><dd> A list of W3 project\n",
              " components and their current state.\n",
              " (e.g. <a href=\"LineMode/Browser.html\" name=\"27\">Line Mode</a> ,X11 <a href=\"Status.html#35\" name=\"35\">Viola</a> ,  <a href=\"NeXT/WorldWideWeb.html\" name=\"26\">NeXTStep</a>\n",
              " , <a href=\"Daemon/Overview.html\" name=\"25\">Servers</a> , <a href=\"Tools/Overview.html\" name=\"51\">Tools</a> ,<a href=\"MailRobot/Overview.html\" name=\"53\"> Mail robot</a> ,<a href=\"Status.html#57\" name=\"52\">\n",
              " Library</a> )\n",
              " </dd><dt><a href=\"Technical.html\" name=\"47\">Technical</a>\n",
              " </dt><dd> Details of protocols, formats,\n",
              " program internals etc\n",
              " </dd><dt><a href=\"Bibliography.html\" name=\"40\">Bibliography</a>\n",
              " </dt><dd> Paper documentation\n",
              " on  W3 and references.\n",
              " </dd><dt><a href=\"People.html\" name=\"14\">People</a>\n",
              " </dt><dd> A list of some people involved\n",
              " in the project.\n",
              " </dd><dt><a href=\"History.html\" name=\"15\">History</a>\n",
              " </dt><dd> A summary of the history\n",
              " of the project.\n",
              " </dd><dt><a href=\"Helping.html\" name=\"37\">How can I help</a> ?\n",
              " </dt><dd> If you would like\n",
              " to support the web..\n",
              " </dd><dt><a href=\"../README.html\" name=\"48\">Getting code</a>\n",
              " </dt><dd> Getting the code by<a href=\"LineMode/Defaults/Distribution.html\" name=\"49\">\n",
              " anonymous FTP</a> , etc.\n",
              " </dd></dl>\n",
              " </body>]"
            ]
          },
          "execution_count": 6,
          "metadata": {},
          "output_type": "execute_result"
        }
      ],
      "source": [
        "# body\n",
        "soup.find_all('body')"
      ]
    },
    {
      "cell_type": "code",
      "execution_count": null,
      "metadata": {
        "id": "dLiOi7BdVf-u",
        "outputId": "0bfc9da4-6a84-4617-c1f5-dc1ed3cb2118"
      },
      "outputs": [
        {
          "data": {
            "text/plain": [
              "<title>The World Wide Web project</title>"
            ]
          },
          "execution_count": 7,
          "metadata": {},
          "output_type": "execute_result"
        }
      ],
      "source": [
        "# title\n",
        "soup.find('title')"
      ]
    },
    {
      "cell_type": "code",
      "execution_count": null,
      "metadata": {
        "id": "YbPMP6UWVf-u",
        "outputId": "628c43a9-3dc1-444c-d1da-0041ac8d1ee4"
      },
      "outputs": [
        {
          "data": {
            "text/plain": [
              "[<h1>World Wide Web</h1>]"
            ]
          },
          "execution_count": 8,
          "metadata": {},
          "output_type": "execute_result"
        }
      ],
      "source": [
        "# h1\n",
        "soup.find_all('h1')"
      ]
    },
    {
      "cell_type": "code",
      "execution_count": null,
      "metadata": {
        "id": "QKVG3YHBVf-u",
        "outputId": "07fff736-6830-4e33-b2fe-d09286dc1533"
      },
      "outputs": [
        {
          "data": {
            "text/plain": [
              "<p>\n",
              "Everything there is online about\n",
              "W3 is linked directly or indirectly\n",
              "to this document, including an <a href=\"Summary.html\" name=\"24\">executive\n",
              "summary</a> of the project, <a href=\"Administration/Mailing/Overview.html\" name=\"29\">Mailing lists</a>\n",
              ", <a href=\"Policy.html\" name=\"30\">Policy</a> , November's  <a href=\"News/9211.html\" name=\"34\">W3  news</a> ,\n",
              "<a href=\"FAQ/List.html\" name=\"41\">Frequently Asked Questions</a> .\n",
              "</p>"
            ]
          },
          "execution_count": 9,
          "metadata": {},
          "output_type": "execute_result"
        }
      ],
      "source": [
        "#p\n",
        "soup.find('p')"
      ]
    },
    {
      "cell_type": "code",
      "execution_count": null,
      "metadata": {
        "id": "pEfwdtbWVf-u",
        "outputId": "4ed13b8b-eb4c-45aa-ec20-fcda15e5860e"
      },
      "outputs": [
        {
          "data": {
            "text/plain": [
              "[<a href=\"WhatIs.html\" name=\"0\">\n",
              " hypermedia</a>,\n",
              " <a href=\"Summary.html\" name=\"24\">executive\n",
              " summary</a>,\n",
              " <a href=\"Administration/Mailing/Overview.html\" name=\"29\">Mailing lists</a>,\n",
              " <a href=\"Policy.html\" name=\"30\">Policy</a>,\n",
              " <a href=\"News/9211.html\" name=\"34\">W3  news</a>,\n",
              " <a href=\"FAQ/List.html\" name=\"41\">Frequently Asked Questions</a>,\n",
              " <a href=\"../DataSources/Top.html\" name=\"44\">What's out there?</a>,\n",
              " <a href=\"../DataSources/bySubject/Overview.html\" name=\"45\"> subjects</a>,\n",
              " <a href=\"../DataSources/WWW/Servers.html\" name=\"z54\">W3 servers</a>,\n",
              " <a href=\"Help.html\" name=\"46\">Help</a>,\n",
              " <a href=\"Status.html\" name=\"13\">Software Products</a>,\n",
              " <a href=\"LineMode/Browser.html\" name=\"27\">Line Mode</a>,\n",
              " <a href=\"Status.html#35\" name=\"35\">Viola</a>,\n",
              " <a href=\"NeXT/WorldWideWeb.html\" name=\"26\">NeXTStep</a>,\n",
              " <a href=\"Daemon/Overview.html\" name=\"25\">Servers</a>,\n",
              " <a href=\"Tools/Overview.html\" name=\"51\">Tools</a>,\n",
              " <a href=\"MailRobot/Overview.html\" name=\"53\"> Mail robot</a>,\n",
              " <a href=\"Status.html#57\" name=\"52\">\n",
              " Library</a>,\n",
              " <a href=\"Technical.html\" name=\"47\">Technical</a>,\n",
              " <a href=\"Bibliography.html\" name=\"40\">Bibliography</a>,\n",
              " <a href=\"People.html\" name=\"14\">People</a>,\n",
              " <a href=\"History.html\" name=\"15\">History</a>,\n",
              " <a href=\"Helping.html\" name=\"37\">How can I help</a>,\n",
              " <a href=\"../README.html\" name=\"48\">Getting code</a>,\n",
              " <a href=\"LineMode/Defaults/Distribution.html\" name=\"49\">\n",
              " anonymous FTP</a>]"
            ]
          },
          "execution_count": 10,
          "metadata": {},
          "output_type": "execute_result"
        }
      ],
      "source": [
        "# a\n",
        "soup.find_all('a')"
      ]
    },
    {
      "cell_type": "markdown",
      "metadata": {
        "id": "oSG6GtB1Vf-u"
      },
      "source": [
        "## 2.6 Affichez les attributs du premier lien.\n",
        "Récupérer dans une liste l'ensemble des attributs `href`."
      ]
    },
    {
      "cell_type": "code",
      "execution_count": null,
      "metadata": {
        "id": "nqprORXoVf-u",
        "outputId": "c6620b76-c301-4d3a-e21b-1e0c50d92ea6"
      },
      "outputs": [
        {
          "data": {
            "text/plain": [
              "{'name': '0', 'href': 'WhatIs.html'}"
            ]
          },
          "execution_count": 11,
          "metadata": {},
          "output_type": "execute_result"
        }
      ],
      "source": [
        "soup.find_all('a')[0].attrs"
      ]
    },
    {
      "cell_type": "code",
      "execution_count": null,
      "metadata": {
        "id": "xY37RZjVVf-v",
        "outputId": "0cb5845e-62a6-4d4d-9525-76128328197d"
      },
      "outputs": [
        {
          "data": {
            "text/plain": [
              "['WhatIs.html',\n",
              " 'Summary.html',\n",
              " 'Administration/Mailing/Overview.html',\n",
              " 'Policy.html',\n",
              " 'News/9211.html',\n",
              " 'FAQ/List.html',\n",
              " '../DataSources/Top.html',\n",
              " '../DataSources/bySubject/Overview.html',\n",
              " '../DataSources/WWW/Servers.html',\n",
              " 'Help.html',\n",
              " 'Status.html',\n",
              " 'LineMode/Browser.html',\n",
              " 'Status.html#35',\n",
              " 'NeXT/WorldWideWeb.html',\n",
              " 'Daemon/Overview.html',\n",
              " 'Tools/Overview.html',\n",
              " 'MailRobot/Overview.html',\n",
              " 'Status.html#57',\n",
              " 'Technical.html',\n",
              " 'Bibliography.html',\n",
              " 'People.html',\n",
              " 'History.html',\n",
              " 'Helping.html',\n",
              " '../README.html',\n",
              " 'LineMode/Defaults/Distribution.html']"
            ]
          },
          "execution_count": 12,
          "metadata": {},
          "output_type": "execute_result"
        }
      ],
      "source": [
        "[a['href'] for a in soup.find_all('a')]"
      ]
    },
    {
      "cell_type": "markdown",
      "metadata": {
        "id": "9AdV9o6tVf-v"
      },
      "source": [
        "# Partie 2 - Collecte de données du [Blog du Modérateur](https://www.blogdumoderateur.com/)\n",
        "\n",
        "<img src='https://f.hellowork.com/blogdumoderateur/2017/05/blogdumoderateur-og.png'>\n",
        "\n",
        "Ce deuxième exercice a pour but de collecter les articles du site le Blog Du Modérateur. Pour cela nous utiliserons la bibliothèque BeautifulSoup afin de scraper les éléments suivants présents sur la page d'accueil : \n",
        "\n",
        "- le nom de l’article,\n",
        "- le lien de l’image,\n",
        "- le lien de l’article\n",
        "- la catégorie de l’article\n",
        "- la date de publication de l’article\n",
        "\n",
        "Nous créerons un script qui automatisera la collecte des données en prenant en compte les exceptions et qui retournera un fichier json contenant l'ensemble de nos données."
      ]
    },
    {
      "cell_type": "markdown",
      "metadata": {
        "id": "_j1lLeFMVf-v"
      },
      "source": [
        "## 2.7 Faites une requête au site du Blog du Modérateur puis instanciez une variable `soup`.\n",
        "\n",
        "Utilisez l'adresse url suivante : `https://www.blogdumoderateur.com/`"
      ]
    },
    {
      "cell_type": "code",
      "execution_count": null,
      "metadata": {
        "id": "btkvuvVgVf-v"
      },
      "outputs": [],
      "source": [
        "headers = {'User-Agent': 'Mozilla/5.0 (Macintosh; Intel Mac OS X 10_15_7) AppleWebKit/537.36 (KHTML, like Gecko) Chrome/106.0.0.0 Safari/537.36'}\n",
        "\n",
        "response = requests.get('https://www.blogdumoderateur.com/', headers).text\n",
        "soup = BeautifulSoup(response)"
      ]
    },
    {
      "cell_type": "markdown",
      "metadata": {
        "id": "dLkrC_x_Vf-v"
      },
      "source": [
        "## 2.8 Collectez dans une variable `article` les articles présents sur la page d'acceuil."
      ]
    },
    {
      "cell_type": "code",
      "execution_count": null,
      "metadata": {
        "id": "iVMLn6k6Vf-v",
        "outputId": "b0d4a0c6-0477-4d17-be5e-9d5003a0acc4",
        "colab": {
          "base_uri": "https://localhost:8080/"
        }
      },
      "outputs": [
        {
          "output_type": "execute_result",
          "data": {
            "text/plain": [
              "<article class=\"d-flex py-4_2 post-114760 post type-post status-publish format-standard has-post-thumbnail category-marketing tag-emailing\" id=\"post-114760\">\n",
              "<div class=\"post-thumbnail picture rounded-img\">\n",
              "<img alt=\"Emailing : méthodes et outils pour nettoyer votre liste de contacts\" class=\"attachment-thumbnail size-thumbnail wp-post-image\" height=\"144\" loading=\"lazy\" sizes=\"(min-width: 768px) 276px, (min-width: 400px) 510px, (max-width: 400px) 276px, 276px\" src=\"https://f.hellowork.com/blogdumoderateur/2022/10/emailing-nettoyer-contacts-276x144.jpg\" srcset=\"https://f.hellowork.com/blogdumoderateur/2022/10/emailing-nettoyer-contacts-276x144.jpg 276w, https://f.hellowork.com/blogdumoderateur/2022/10/emailing-nettoyer-contacts-510x267.jpg 510w, https://f.hellowork.com/blogdumoderateur/2022/10/emailing-nettoyer-contacts-370x194.jpg 370w\" width=\"276\"/>\n",
              "</div><!-- .post-thumbnail -->\n",
              "<div class=\"entry-meta\">\n",
              "<span class=\"favtag color-b\">Emailing</span>\n",
              "<span class=\"posted-on t-def px-3\"><time class=\"entry-date published updated\" datetime=\"2022-10-17T09:29:54+02:00\">17 octobre</time></span>\n",
              "<header class=\"entry-header pt-2\">\n",
              "<a href=\"https://www.blogdumoderateur.com/emailing-methodes-outils-nettoyer-liste-contacts/\">\n",
              "<h3 class=\"entry-title\">Emailing : méthodes et outils pour nettoyer votre liste de contacts</h3>\n",
              "</a>\n",
              "</header><!-- .entry-header -->\n",
              "</div>\n",
              "</article>"
            ]
          },
          "metadata": {},
          "execution_count": 4
        }
      ],
      "source": [
        "article = soup.find_all('article')\n",
        "article[0]"
      ]
    },
    {
      "cell_type": "markdown",
      "metadata": {
        "id": "idTIoGLOVf-v"
      },
      "source": [
        "## 2.9 Récupérez le `nom` du premier article."
      ]
    },
    {
      "cell_type": "code",
      "execution_count": null,
      "metadata": {
        "id": "u8rMMQNNVf-v",
        "outputId": "3ba0e1c1-0432-4c1a-8aea-132e5cdb7d80"
      },
      "outputs": [
        {
          "data": {
            "text/plain": [
              "'Netflix lance un abonnement moins cher en France, avec de la publicité'"
            ]
          },
          "execution_count": 15,
          "metadata": {},
          "output_type": "execute_result"
        }
      ],
      "source": [
        "article[0].find('div').find('img')['alt']"
      ]
    },
    {
      "cell_type": "code",
      "execution_count": null,
      "metadata": {
        "id": "g5TIvJHGVf-v",
        "outputId": "d403c4be-85da-4227-e0a7-eddf709a950c"
      },
      "outputs": [
        {
          "data": {
            "text/plain": [
              "'Netflix lance un abonnement moins cher en France, avec de la publicité'"
            ]
          },
          "execution_count": 16,
          "metadata": {},
          "output_type": "execute_result"
        }
      ],
      "source": [
        "article[0].find('img')['alt']"
      ]
    },
    {
      "cell_type": "code",
      "execution_count": null,
      "metadata": {
        "id": "4uRy8VEvVf-v",
        "outputId": "3a7ff1d2-0bcd-45db-c59c-c93c7e665a6d"
      },
      "outputs": [
        {
          "data": {
            "text/plain": [
              "'Google met à jour ses recommandations SEO\\xa0: quels changements\\xa0?'"
            ]
          },
          "execution_count": 17,
          "metadata": {},
          "output_type": "execute_result"
        }
      ],
      "source": [
        "article[1].find('h3').text"
      ]
    },
    {
      "cell_type": "markdown",
      "metadata": {
        "id": "7ycA5NTCVf-v"
      },
      "source": [
        "##  2.10 Récupérez le `lien de l'image` du premier article."
      ]
    },
    {
      "cell_type": "code",
      "execution_count": null,
      "metadata": {
        "id": "BmnlzGAPVf-v",
        "outputId": "4302b382-b17d-4054-e4fd-9cdcec16def5"
      },
      "outputs": [
        {
          "data": {
            "text/plain": [
              "'https://f.hellowork.com/blogdumoderateur/2022/10/netflix-essentiel-avec-pub-276x144.jpg'"
            ]
          },
          "execution_count": 18,
          "metadata": {},
          "output_type": "execute_result"
        }
      ],
      "source": [
        "article[0].find('img')['src']"
      ]
    },
    {
      "cell_type": "code",
      "source": [
        "article[0].find('img').attrs"
      ],
      "metadata": {
        "colab": {
          "base_uri": "https://localhost:8080/"
        },
        "id": "uLpLbIR-52kv",
        "outputId": "1082f16b-0cf0-489a-e014-1c6d18b261a4"
      },
      "execution_count": null,
      "outputs": [
        {
          "output_type": "execute_result",
          "data": {
            "text/plain": [
              "{'width': '276',\n",
              " 'height': '144',\n",
              " 'src': 'https://f.hellowork.com/blogdumoderateur/2022/10/emailing-nettoyer-contacts-276x144.jpg',\n",
              " 'class': ['attachment-thumbnail', 'size-thumbnail', 'wp-post-image'],\n",
              " 'alt': 'Emailing\\xa0: méthodes et outils pour nettoyer votre liste de contacts',\n",
              " 'sizes': '(min-width: 768px) 276px, (min-width: 400px) 510px, (max-width: 400px) 276px, 276px',\n",
              " 'loading': 'lazy',\n",
              " 'srcset': 'https://f.hellowork.com/blogdumoderateur/2022/10/emailing-nettoyer-contacts-276x144.jpg 276w, https://f.hellowork.com/blogdumoderateur/2022/10/emailing-nettoyer-contacts-510x267.jpg 510w, https://f.hellowork.com/blogdumoderateur/2022/10/emailing-nettoyer-contacts-370x194.jpg 370w'}"
            ]
          },
          "metadata": {},
          "execution_count": 5
        }
      ]
    },
    {
      "cell_type": "code",
      "execution_count": null,
      "metadata": {
        "id": "rTFTMkzQVf-v",
        "outputId": "16c705fa-6dae-4884-fc67-37379a8de9a9"
      },
      "outputs": [
        {
          "data": {
            "text/plain": [
              "'https://f.hellowork.com/blogdumoderateur/2022/10/google-webmaster-guidelines-nouveau-nom-276x144.jpg 276w, https://f.hellowork.com/blogdumoderateur/2022/10/google-webmaster-guidelines-nouveau-nom-294x154.jpg 294w, https://f.hellowork.com/blogdumoderateur/2022/10/google-webmaster-guidelines-nouveau-nom-664x347.jpg 664w, https://f.hellowork.com/blogdumoderateur/2022/10/google-webmaster-guidelines-nouveau-nom-768x402.jpg 768w, https://f.hellowork.com/blogdumoderateur/2022/10/google-webmaster-guidelines-nouveau-nom-510x267.jpg 510w, https://f.hellowork.com/blogdumoderateur/2022/10/google-webmaster-guidelines-nouveau-nom-370x194.jpg 370w, https://f.hellowork.com/blogdumoderateur/2022/10/google-webmaster-guidelines-nouveau-nom-150x79.jpg 150w, https://f.hellowork.com/blogdumoderateur/2022/10/google-webmaster-guidelines-nouveau-nom.jpg 1200w'"
            ]
          },
          "execution_count": 19,
          "metadata": {},
          "output_type": "execute_result"
        }
      ],
      "source": [
        "article[1].find('img')['srcset']"
      ]
    },
    {
      "cell_type": "markdown",
      "metadata": {
        "id": "2WSvRs2rVf-w"
      },
      "source": [
        "## 2.11 Récupérez le `lien` du premier article."
      ]
    },
    {
      "cell_type": "code",
      "execution_count": null,
      "metadata": {
        "id": "rE48Z0B2Vf-w",
        "outputId": "babfe3d8-bcd2-41aa-d60a-239fb7c58cea"
      },
      "outputs": [
        {
          "data": {
            "text/plain": [
              "'https://www.blogdumoderateur.com/netflix-lance-abonnement-moins-cher-france/'"
            ]
          },
          "execution_count": 20,
          "metadata": {},
          "output_type": "execute_result"
        }
      ],
      "source": [
        "article[0].find('a')['href']"
      ]
    },
    {
      "cell_type": "code",
      "execution_count": null,
      "metadata": {
        "id": "1-EZFO6GVf-w",
        "outputId": "34160ff7-54a2-47ed-80e0-eb6e78d5e667"
      },
      "outputs": [
        {
          "data": {
            "text/plain": [
              "'https://www.blogdumoderateur.com/google-plateforme-formation-developpeurs/'"
            ]
          },
          "execution_count": 21,
          "metadata": {},
          "output_type": "execute_result"
        }
      ],
      "source": [
        "article[-1].parent['href']"
      ]
    },
    {
      "cell_type": "markdown",
      "metadata": {
        "id": "aPy5FWMwVf-w"
      },
      "source": [
        "## 2.12 Récupérez la `catégorie` du premier article."
      ]
    },
    {
      "cell_type": "code",
      "execution_count": null,
      "metadata": {
        "id": "bc6N2oUPVf-w",
        "outputId": "0a76696d-5aa2-49d5-f5ea-bb15edb9aa45"
      },
      "outputs": [
        {
          "data": {
            "text/plain": [
              "'Vidéo'"
            ]
          },
          "execution_count": 22,
          "metadata": {},
          "output_type": "execute_result"
        }
      ],
      "source": [
        "article[0].find('span').text"
      ]
    },
    {
      "cell_type": "markdown",
      "metadata": {
        "id": "yOT5mHXlVf-w"
      },
      "source": [
        "## 2.13 Récupérez la `date de publication` du premier article."
      ]
    },
    {
      "cell_type": "code",
      "execution_count": null,
      "metadata": {
        "id": "6G8I7_oUVf-w",
        "outputId": "d07eddc0-aa05-49a4-fc45-f42a0355e056"
      },
      "outputs": [
        {
          "data": {
            "text/plain": [
              "<article class=\"d-flex py-4_2 post-114755 post type-post status-publish format-standard has-post-thumbnail category-web tag-publicite tag-video\" id=\"post-114755\">\n",
              "<div class=\"post-thumbnail picture rounded-img\">\n",
              "<img alt=\"Netflix lance un abonnement moins cher en France, avec de la publicité\" class=\"attachment-thumbnail size-thumbnail wp-post-image\" height=\"144\" loading=\"lazy\" sizes=\"(min-width: 768px) 276px, (min-width: 400px) 510px, (max-width: 400px) 276px, 276px\" src=\"https://f.hellowork.com/blogdumoderateur/2022/10/netflix-essentiel-avec-pub-276x144.jpg\" srcset=\"https://f.hellowork.com/blogdumoderateur/2022/10/netflix-essentiel-avec-pub-276x144.jpg 276w, https://f.hellowork.com/blogdumoderateur/2022/10/netflix-essentiel-avec-pub-510x267.jpg 510w, https://f.hellowork.com/blogdumoderateur/2022/10/netflix-essentiel-avec-pub-370x194.jpg 370w\" width=\"276\"/>\n",
              "</div><!-- .post-thumbnail -->\n",
              "<div class=\"entry-meta\">\n",
              "<span class=\"favtag color-b\">Vidéo</span>\n",
              "<span class=\"posted-on t-def px-3\"><time class=\"entry-date published updated\" datetime=\"2022-10-14T11:43:46+02:00\">14 octobre</time></span>\n",
              "<header class=\"entry-header pt-2\">\n",
              "<a href=\"https://www.blogdumoderateur.com/netflix-lance-abonnement-moins-cher-france/\">\n",
              "<h3 class=\"entry-title\">Netflix lance un abonnement moins cher en France, avec de la publicité</h3>\n",
              "</a>\n",
              "</header><!-- .entry-header -->\n",
              "</div>\n",
              "</article>"
            ]
          },
          "execution_count": 23,
          "metadata": {},
          "output_type": "execute_result"
        }
      ],
      "source": [
        "article[0]"
      ]
    },
    {
      "cell_type": "code",
      "execution_count": null,
      "metadata": {
        "id": "RaS2mstAVf-w",
        "outputId": "1dfc433f-c428-49aa-c9ac-2ac4f308419d"
      },
      "outputs": [
        {
          "data": {
            "text/plain": [
              "'14 octobre'"
            ]
          },
          "execution_count": 24,
          "metadata": {},
          "output_type": "execute_result"
        }
      ],
      "source": [
        "article[0].find('span', class_='posted-on').find('time').text"
      ]
    },
    {
      "cell_type": "code",
      "execution_count": null,
      "metadata": {
        "id": "03Sb7PehVf-w",
        "outputId": "7d67837c-fee2-4ef3-94e0-146362ae253c"
      },
      "outputs": [
        {
          "data": {
            "text/plain": [
              "'14 octobre'"
            ]
          },
          "execution_count": 25,
          "metadata": {},
          "output_type": "execute_result"
        }
      ],
      "source": [
        "article[0].find('time').text"
      ]
    },
    {
      "cell_type": "code",
      "execution_count": null,
      "metadata": {
        "id": "4t80tfqxVf-w",
        "outputId": "fda6f38f-b13e-467e-e141-d93904efbf1a"
      },
      "outputs": [
        {
          "data": {
            "text/plain": [
              "'2022-10-14T11:43:46+02:00'"
            ]
          },
          "execution_count": 26,
          "metadata": {},
          "output_type": "execute_result"
        }
      ],
      "source": [
        "article[0].find('time')['datetime']"
      ]
    },
    {
      "cell_type": "markdown",
      "metadata": {
        "id": "kQOR4FsQVf-w"
      },
      "source": [
        "# Créez une fonction `scraping_bdm` qui collecte l'ensemble des données des articles présent sur la page d'acceuil et qui renvoi un fichier au format `json`."
      ]
    },
    {
      "cell_type": "code",
      "execution_count": null,
      "metadata": {
        "id": "nSOWyt-UVf-w"
      },
      "outputs": [],
      "source": [
        "def sraping_bdm(list_article):\n",
        "    \n",
        "    donnée = {}\n",
        "    \n",
        "    for article in list_article:\n",
        "        donnée_articles = {}\n",
        "        \n",
        "        id_ = article['id']\n",
        "        \n",
        "        # Nome de l'article\n",
        "        donnée_articles['name'] = article.find('h3').text\n",
        "        \n",
        "        #- le lien des images,\n",
        "        try:\n",
        "            donnée_articles['img_src'] = article.find('img')['src']\n",
        "        except:\n",
        "            donnée_articles['img_src'] = 'NaN'\n",
        "        \n",
        "        \n",
        "        #- le lien de l'article,\n",
        "        try:\n",
        "            donnée_articles['link'] = article.find('a')['href']\n",
        "        except:\n",
        "            donnée_articles['link'] = article.parent['href']\n",
        "        \n",
        "        #- la thématique de l'article,\n",
        "        try:\n",
        "            donnée_articles['subject'] = article.find('span').text\n",
        "        except:\n",
        "            donnée_articles['subject'] = 'NaN'\n",
        "        \n",
        "        #- la date de publication de l'article\n",
        "        donnée_articles['time'] = article.find('time')['datetime']\n",
        "        \n",
        "        donnée[id_] = donnée_articles\n",
        "        \n",
        "    return donnée"
      ]
    },
    {
      "cell_type": "code",
      "execution_count": null,
      "metadata": {
        "id": "CNA9oTeTVf-w"
      },
      "outputs": [],
      "source": [
        "data = sraping_bdm(soup.find_all('article'))"
      ]
    },
    {
      "cell_type": "code",
      "execution_count": null,
      "metadata": {
        "id": "_zD17av5Vf-w",
        "outputId": "cba7d841-88c1-4b0b-f8ca-c52be1fd88f8"
      },
      "outputs": [
        {
          "data": {
            "text/plain": [
              "{'name': 'Microsoft lance une alternative à Canva\\xa0: ce qu’il faut savoir',\n",
              " 'img_src': 'https://f.hellowork.com/blogdumoderateur/2022/10/microsoft-designer-lancement-276x144.jpg',\n",
              " 'link': 'https://www.blogdumoderateur.com/microsoft-lance-alternative-canva/',\n",
              " 'subject': 'Design',\n",
              " 'time': '2022-10-13T11:15:33+02:00'}"
            ]
          },
          "execution_count": 29,
          "metadata": {},
          "output_type": "execute_result"
        }
      ],
      "source": [
        "data['post-114633']"
      ]
    },
    {
      "cell_type": "code",
      "execution_count": null,
      "metadata": {
        "id": "AWDxv17UVf-w"
      },
      "outputs": [],
      "source": [
        "import json\n",
        "with open('data.json', 'w') as f:\n",
        "    json.dump(data, f)"
      ]
    },
    {
      "cell_type": "markdown",
      "metadata": {
        "id": "p9PZCYjoVf-w"
      },
      "source": [
        "# Partie 3 - Collecte de données de Doctolib - Bonus\n",
        "\n",
        "\n",
        "<img src='https://upload.wikimedia.org/wikipedia/fr/thumb/7/7f/Logo-doctolib.svg/640px-Logo-doctolib.svg.png'>\n",
        "\n",
        "\n",
        "L'objectif est de collecter les données des dentistes référencés sur le sites de Doctolib exerçant à Paris à partir de l'adresse suivante : `https://www.doctolib.fr/dentiste/paris`.\n",
        "\n",
        "Les informations que nous souhaitons collecter sont les suivantes :\n",
        "- le nom du praticien\n",
        "- la profession du praticien\n",
        "- l'adresse du praticien\n",
        "- la ville du praticien\n",
        "- l'image de la fiche Doctolib du praticien"
      ]
    },
    {
      "cell_type": "code",
      "execution_count": null,
      "metadata": {
        "id": "VqgocgCaVf-w"
      },
      "outputs": [],
      "source": [
        "headers = {'User-Agent': 'Mozilla/5.0 (Macintosh; Intel Mac OS X 10_15_7) AppleWebKit/537.36 (KHTML, like Gecko) Chrome/106.0.0.0 Safari/537.36'}\n",
        "\n",
        "response = requests.get('https://www.doctolib.fr/dentiste/paris', headers).text\n",
        "soup = BeautifulSoup(response)"
      ]
    },
    {
      "cell_type": "code",
      "execution_count": null,
      "metadata": {
        "scrolled": false,
        "id": "dP-ueZOSVf-x",
        "outputId": "e20bde49-6982-4084-cf57-259b9b145ad7"
      },
      "outputs": [
        {
          "data": {
            "text/plain": [
              "'[{\"@context\":\"http://schema.org/\",\"@type\":\"Physician\",\"name\":\"Christine COLOMBANI\",\"medicalSpecialty\":\"Chirurgien-dentiste\",\"legalName\":null,\"url\":\"/dentiste/paris/christine-colombani\",\"address\":{\"@type\":\"PostalAddress\",\"name\":\"\",\"streetAddress\":\"34 Rue Geoffroy-Saint-Hilaire\",\"postalCode\":\"75005\",\"addressLocality\":\"Paris\"},\"paymentAccepted\":\"Cash, Check\"},{\"@context\":\"http://schema.org/\",\"@type\":\"Physician\",\"name\":\"Annelle Deyehe\",\"medicalSpecialty\":\"Chirurgien-dentiste\",\"legalName\":null,\"url\":\"/dentiste/paris/annelle-deyehe\",\"address\":{\"@type\":\"PostalAddress\",\"name\":\"Les chirurgiens-dentistes Paris République \",\"streetAddress\":\"48 Rue de Malte\",\"postalCode\":\"75011\",\"addressLocality\":\"Paris\"},\"paymentAccepted\":\"Cash, Check, Credit card\"},{\"@context\":\"http://schema.org/\",\"@type\":\"Physician\",\"name\":\"Milton NGANGWELE MUTANDU\",\"medicalSpecialty\":\"Chirurgien-dentiste\",\"legalName\":null,\"url\":\"/dentiste/paris/milton-ngangwele-mutandu\",\"address\":{\"@type\":\"PostalAddress\",\"name\":\"Centre Dentaire Nobel Santé + Paris 14 Alésia\",\"streetAddress\":\"71 Avenue du Général Leclerc\",\"postalCode\":\"75014\",\"addressLocality\":\"Paris\"},\"paymentAccepted\":\"\"},{\"@context\":\"http://schema.org/\",\"@type\":\"Physician\",\"name\":\"Karen SMIROU\",\"medicalSpecialty\":\"Chirurgien-dentiste\",\"legalName\":null,\"url\":\"/dentiste/paris/karen-smirou\",\"address\":{\"@type\":\"PostalAddress\",\"name\":\"Cabinet dentaire du docteur Halfon Laurent\",\"streetAddress\":\"81 Avenue Jean Jaurès\",\"postalCode\":\"75019\",\"addressLocality\":\"Paris\"},\"paymentAccepted\":\"Cash, Check, Credit card\"},{\"@context\":\"http://schema.org/\",\"@type\":\"Physician\",\"name\":\"Danielle Sarfati-Lasry\",\"medicalSpecialty\":\"Chirurgien-dentiste\",\"legalName\":null,\"url\":\"/dentiste/paris/danielle-sarfati-lasry\",\"address\":{\"@type\":\"PostalAddress\",\"name\":\"\",\"streetAddress\":\"323 Rue de Vaugirard\",\"postalCode\":\"75015\",\"addressLocality\":\"Paris\"},\"paymentAccepted\":\"Cash, Check, Credit card\"},{\"@context\":\"http://schema.org/\",\"@type\":\"Physician\",\"name\":\"Sacha Perez\",\"medicalSpecialty\":\"Chirurgien-dentiste\",\"legalName\":null,\"url\":\"/dentiste/paris/sacha-perez-paris-12\",\"address\":{\"@type\":\"PostalAddress\",\"name\":\"Cabinet dentaire du docteur Benjamin Darmon\",\"streetAddress\":\"245 Avenue Daumesnil\",\"postalCode\":\"75012\",\"addressLocality\":\"Paris\"},\"paymentAccepted\":\"Cash, Check, Credit card\"},{\"@context\":\"http://schema.org/\",\"@type\":\"Physician\",\"name\":\"Dan Rutbi\",\"medicalSpecialty\":\"Chirurgien-dentiste\",\"legalName\":\"DAN RUTBI\",\"url\":\"/dentiste/paris/dan-rutbi\",\"address\":{\"@type\":\"PostalAddress\",\"name\":\"Clinique dentaire Notre Dame des Champs\",\"streetAddress\":\"76 Rue Notre Dame des Champs\",\"postalCode\":\"75006\",\"addressLocality\":\"Paris\"},\"paymentAccepted\":\"Cash, Check, Credit card\"},{\"@context\":\"http://schema.org/\",\"@type\":\"Physician\",\"name\":\"Johann Pierrard\",\"medicalSpecialty\":\"Chirurgien-dentiste\",\"legalName\":\"MONSIEUR Johann Pierrard\",\"url\":\"/dentiste/paris/johann-pierrard\",\"address\":{\"@type\":\"PostalAddress\",\"name\":\"Cabinet du Docteur Johann Pierrard\",\"streetAddress\":\"28 Place Dupleix\",\"postalCode\":\"75015\",\"addressLocality\":\"Paris\"},\"paymentAccepted\":\"Cash, Check, Credit card\"},{\"@context\":\"http://schema.org/\",\"@type\":\"Physician\",\"name\":\"Gary Finelle\",\"medicalSpecialty\":\"Chirurgien-dentiste\",\"legalName\":\"FINELLE GARY\",\"url\":\"/dentiste/paris/gary-finelle\",\"address\":{\"@type\":\"PostalAddress\",\"name\":\"Dental7Paris\",\"streetAddress\":\"59 Avenue de la Bourdonnais\",\"postalCode\":\"75007\",\"addressLocality\":\"Paris\"},\"paymentAccepted\":\"Cash, Check, Credit card\"},{\"@context\":\"http://schema.org/\",\"@type\":\"Physician\",\"name\":\"Miglena Aleksandrova\",\"medicalSpecialty\":\"Chirurgien-dentiste\",\"legalName\":null,\"url\":\"/dentiste/paris/mazouni-irena\",\"address\":{\"@type\":\"PostalAddress\",\"name\":\"Cabinet dentaire Edith\",\"streetAddress\":\"4 Rue de Sontay\",\"postalCode\":\"75116\",\"addressLocality\":\"Paris\"},\"paymentAccepted\":\"Cash, Check, Credit card\"},{\"@context\":\"http://schema.org/\",\"@type\":\"Physician\",\"name\":\"Lia YACOUB\",\"medicalSpecialty\":\"Chirurgien-dentiste\",\"legalName\":\"\",\"url\":\"/dentiste/paris/lia-yacoub\",\"address\":{\"@type\":\"PostalAddress\",\"name\":\"\",\"streetAddress\":\"60 Rue Rémy Dumoncel\",\"postalCode\":\"75014\",\"addressLocality\":\"Paris\"},\"paymentAccepted\":\"Cash, Check, Credit card\"},{\"@context\":\"http://schema.org/\",\"@type\":\"Physician\",\"name\":\"Didier Achour\",\"medicalSpecialty\":\"Chirurgien-dentiste\",\"legalName\":\"\",\"url\":\"/dentiste/paris/didier-achour\",\"address\":{\"@type\":\"PostalAddress\",\"name\":\"\",\"streetAddress\":\"126 Rue de Tolbiac\",\"postalCode\":\"75013\",\"addressLocality\":\"Paris\"},\"paymentAccepted\":\"Cash, Check\"},{\"@context\":\"http://schema.org/\",\"@type\":\"Physician\",\"name\":\"Arnaud DELAHAYE\",\"medicalSpecialty\":\"Chirurgien-dentiste\",\"legalName\":null,\"url\":\"/dentiste/paris/arnaud-delahaye\",\"address\":{\"@type\":\"PostalAddress\",\"name\":\"Dentylis - Paris 17 - Prony Pereire\",\"streetAddress\":\"91 Rue de Prony\",\"postalCode\":\"75017\",\"addressLocality\":\"Paris\"},\"paymentAccepted\":\"Cash, Check, Credit card\"},{\"@context\":\"http://schema.org/\",\"@type\":\"Physician\",\"name\":\"Marc Sawicki\",\"medicalSpecialty\":\"Chirurgien-dentiste\",\"legalName\":null,\"url\":\"/dentiste/paris-10/marc-sawicki\",\"address\":{\"@type\":\"PostalAddress\",\"name\":\"Cabinet du docteur Sawicki\",\"streetAddress\":\"13 Boulevard de Magenta\",\"postalCode\":\"75010\",\"addressLocality\":\"Paris\"},\"paymentAccepted\":\"Cash, Check, Credit card\"},{\"@context\":\"http://schema.org/\",\"@type\":\"Physician\",\"name\":\"Eric Naouri\",\"medicalSpecialty\":\"Chirurgien-dentiste\",\"legalName\":\"\",\"url\":\"/dentiste/paris/eric-naouri\",\"address\":{\"@type\":\"PostalAddress\",\"name\":\"\",\"streetAddress\":\"74 Rue de la Croix Nivert\",\"postalCode\":\"75015\",\"addressLocality\":\"Paris\"},\"paymentAccepted\":\"Cash, Check, Credit card\"},{\"@context\":\"http://schema.org/\",\"@type\":\"Physician\",\"name\":\"Thibaud GIBIER\",\"medicalSpecialty\":\"Interne en chirurgie dentaire\",\"legalName\":null,\"url\":\"/interne-en-chirurgie-dentaire/levallois-perret/thibaud-gibier-levallois-perret\",\"address\":{\"@type\":\"PostalAddress\",\"name\":\"Cabinet dentaire Place de Mexico - Trocadéro\",\"streetAddress\":\"6 Place de Mexico\",\"postalCode\":\"75116\",\"addressLocality\":\"Paris\"},\"paymentAccepted\":\"Cash, Check, Credit card\"},{\"@context\":\"http://schema.org/\",\"@type\":\"Physician\",\"name\":\"Olivia ZANA\",\"medicalSpecialty\":\"Chirurgien-dentiste\",\"legalName\":null,\"url\":\"/dentiste/paris/olivia-zana\",\"address\":{\"@type\":\"PostalAddress\",\"name\":\"\",\"streetAddress\":\"88 Avenue du Docteur Arnold Netter\",\"postalCode\":\"75012\",\"addressLocality\":\"Paris\"},\"paymentAccepted\":\"Cash, Check, Credit card\"},{\"@context\":\"http://schema.org/\",\"@type\":\"Hospital\",\"name\":\"Doctocare\",\"medicalSpecialty\":\"Centre médical et dentaire\",\"legalName\":null,\"url\":\"/centre-medical-et-dentaire/paris/doctocare\",\"address\":{\"@type\":\"PostalAddress\",\"name\":\"Centre dentaire - Corentin (Paris 14e)\",\"streetAddress\":\"54 Rue du Père Corentin\",\"postalCode\":\"75014\",\"addressLocality\":\"Paris\"},\"paymentAccepted\":\"Cash, Check, Credit card\"},{\"@context\":\"http://schema.org/\",\"@type\":\"Physician\",\"name\":\"Michel Abi Harb\",\"medicalSpecialty\":\"Chirurgien-dentiste\",\"legalName\":null,\"url\":\"/dentiste/paris/michel-abi-harb-paris\",\"address\":{\"@type\":\"PostalAddress\",\"name\":\"\",\"streetAddress\":\"16 Rue George Bernard Shaw\",\"postalCode\":\"75015\",\"addressLocality\":\"Paris\"},\"paymentAccepted\":\"Cash, Check, Credit card\"},{\"@context\":\"http://schema.org/\",\"@type\":\"Hospital\",\"name\":\"Centre dentaire Dentimad - Châtelet-Rivoli\",\"medicalSpecialty\":\"Centre dentaire\",\"legalName\":null,\"url\":\"/centre-dentaire/paris/centre-dentaire-dentimad-chatelet-rivoli\",\"address\":{\"@type\":\"PostalAddress\",\"name\":\"Centre dentaire Dentimad - Châtelet-Rivoli\",\"streetAddress\":\"9 Boulevard de Sébastopol\",\"postalCode\":\"75001\",\"addressLocality\":\"Paris\"},\"paymentAccepted\":\"\"}]'"
            ]
          },
          "execution_count": 32,
          "metadata": {},
          "output_type": "execute_result"
        }
      ],
      "source": [
        "text = soup.find_all('div')[2].find('div', class_='row-center row-padding-1').find_all()[1].text\n",
        "text"
      ]
    },
    {
      "cell_type": "code",
      "execution_count": null,
      "metadata": {
        "id": "9yBCJVFMVf-x",
        "outputId": "6911bee8-9189-4811-f1af-4a8b06c8e0cb"
      },
      "outputs": [
        {
          "data": {
            "text/plain": [
              "'{\"totalNumberOfResults\":4350,\"searchResults\":[{\"address\":\"34 Rue Geoffroy-Saint-Hilaire\",\"zipcode\":\"75005\",\"city\":\"Paris\",\"redirect_to_profile\":false,\"id\":11077774,\"is_directory\":false,\"id_label\":\"search-result-11077774\",\"top_specialities\":[\"1 chirurgien-dentiste\"],\"telehealth\":false,\"search_result_path\":\"/dentiste/paris/christine-colombani\",\"search_result_slot_path\":\"/dentiste/paris/christine-colombani\",\"name_with_title\":\"Dr Christine COLOMBANI\",\"is_organization\":false,\"avatar_url\":\"//media.doctolib.com/image/upload/q_auto:eco,f_auto,w_160,h_160,c_fill,g_face/v2ff7qulgilikcf8mrca.jpg\",\"avatar_alt\":\"Dr COLOMBANI, Chirurgien-dentiste à Paris 5\",\"video_consultation_landing_page_path\":\"/video_consultation?origin=desktop_search_results_pract_card\\\\u0026source=christine-colombani\",\"is_profile_with_employee\":false,\"regulation_sector\":\"Conventionné avec droit permanent à dépassement\",\"practice_id\":9574,\"practice_name\":\"\",\"button_label\":\"Prendre rendez-vous\",\"profile_organization_status_name\":null,\"profile_id\":214418,\"exact_match\":true,\"priority_speciality\":false,\"position\":{\"lat\":48.8410012,\"lng\":2.356302899999946},\"speciality_id\":1,\"speciality_label\":\"Chirurgien-dentiste\",\"speciality_is_telehealth_core\":false,\"speciality_is_covid_vaccination_speciality\":false},{\"address\":\"48 Rue de Malte\",\"zipcode\":\"75011\",\"city\":\"Paris\",\"redirect_to_profile\":false,\"id\":10940267,\"is_directory\":false,\"id_label\":\"search-result-10940267\",\"top_specialities\":[\"1 chirurgien-dentiste\"],\"telehealth\":false,\"search_result_path\":\"/dentiste/paris/annelle-deyehe\",\"search_result_slot_path\":\"/dentiste/paris/annelle-deyehe\",\"name_with_title\":\"Dr Annelle Deyehe\",\"is_organization\":false,\"avatar_url\":\"//media.doctolib.com/image/upload/q_auto:eco,f_auto,w_160,h_160,c_fill,g_face/xxzsi7dblczovdg8cwdr.jpg\",\"avatar_alt\":\"Dr Deyehe, Chirurgien-dentiste à Paris 11\",\"video_consultation_landing_page_path\":\"/video_consultation?origin=desktop_search_results_pract_card\\\\u0026source=annelle-deyehe\",\"is_profile_with_employee\":false,\"regulation_sector\":\"Conventionné\",\"practice_id\":59917,\"practice_name\":\"Les chirurgiens-dentistes Paris République \",\"button_label\":\"Prendre rendez-vous\",\"profile_organization_status_name\":null,\"profile_id\":106616,\"exact_match\":true,\"priority_speciality\":false,\"position\":{\"lat\":48.8669449,\"lng\":2.367103600000064},\"speciality_id\":1,\"speciality_label\":\"Chirurgien-dentiste\",\"speciality_is_telehealth_core\":false,\"speciality_is_covid_vaccination_speciality\":false},{\"address\":\"71 Avenue du Général Leclerc\",\"zipcode\":\"75014\",\"city\":\"Paris\",\"redirect_to_profile\":false,\"id\":11595251,\"is_directory\":false,\"id_label\":\"search-result-11595251\",\"top_specialities\":[\"1 chirurgien-dentiste\"],\"telehealth\":false,\"search_result_path\":\"/dentiste/paris/milton-ngangwele-mutandu?pid=practice-237010\",\"search_result_slot_path\":\"/dentiste/paris/milton-ngangwele-mutandu?pid=practice-237010\",\"name_with_title\":\"Dr Milton NGANGWELE MUTANDU\",\"is_organization\":false,\"avatar_url\":\"//media.doctolib.com/image/upload/q_auto:eco,f_auto,w_160,h_160,c_fill,g_face/default_doctor_avatar_m.jpg\",\"avatar_alt\":\"Dr NGANGWELE MUTANDU, Chirurgien-dentiste à Paris 14\",\"video_consultation_landing_page_path\":\"/video_consultation?origin=desktop_search_results_pract_card\\\\u0026source=milton-ngangwele-mutandu\",\"is_profile_with_employee\":false,\"regulation_sector\":null,\"practice_id\":237010,\"practice_name\":\"Centre Dentaire Nobel Santé + Paris 14 Alésia\",\"button_label\":\"Prendre rendez-vous\",\"profile_organization_status_name\":null,\"profile_id\":591639,\"exact_match\":true,\"priority_speciality\":false,\"position\":{\"lat\":48.8283903,\"lng\":2.3277083},\"speciality_id\":1,\"speciality_label\":\"Chirurgien-dentiste\",\"speciality_is_telehealth_core\":false,\"speciality_is_covid_vaccination_speciality\":false},{\"address\":\"81 Avenue Jean Jaurès\",\"zipcode\":\"75019\",\"city\":\"Paris\",\"redirect_to_profile\":false,\"id\":10679527,\"is_directory\":false,\"id_label\":\"search-result-10679527\",\"top_specialities\":[\"1 chirurgien-dentiste\"],\"telehealth\":false,\"search_result_path\":\"/dentiste/paris/karen-smirou?pid=practice-8370\",\"search_result_slot_path\":\"/dentiste/paris/karen-smirou?pid=practice-8370\",\"name_with_title\":\"Dr Karen SMIROU\",\"is_organization\":false,\"avatar_url\":\"//media.doctolib.com/image/upload/q_auto:eco,f_auto,w_160,h_160,c_fill,g_face/xvdqmjdlsym5udq9o0ld.jpg\",\"avatar_alt\":\"Dr SMIROU, Chirurgien-dentiste à Paris 19\",\"video_consultation_landing_page_path\":\"/video_consultation?origin=desktop_search_results_pract_card\\\\u0026source=karen-smirou\",\"is_profile_with_employee\":false,\"regulation_sector\":\"Conventionné\",\"practice_id\":8370,\"practice_name\":\"Cabinet dentaire du docteur Halfon Laurent\",\"button_label\":\"Prendre rendez-vous\",\"profile_organization_status_name\":null,\"profile_id\":217609,\"exact_match\":true,\"priority_speciality\":false,\"position\":{\"lat\":48.8851964,\"lng\":2.37849940000001},\"speciality_id\":1,\"speciality_label\":\"Chirurgien-dentiste\",\"speciality_is_telehealth_core\":false,\"speciality_is_covid_vaccination_speciality\":false},{\"address\":\"323 Rue de Vaugirard\",\"zipcode\":\"75015\",\"city\":\"Paris\",\"redirect_to_profile\":false,\"id\":10866818,\"is_directory\":false,\"id_label\":\"search-result-10866818\",\"top_specialities\":[\"1 chirurgien-dentiste\"],\"telehealth\":false,\"search_result_path\":\"/dentiste/paris/danielle-sarfati-lasry\",\"search_result_slot_path\":\"/dentiste/paris/danielle-sarfati-lasry\",\"name_with_title\":\"Dr Danielle Sarfati-Lasry\",\"is_organization\":false,\"avatar_url\":\"//media.doctolib.com/image/upload/q_auto:eco,f_auto,w_160,h_160,c_fill,g_face/yecpgrkk4cx8zywmysc2.jpg\",\"avatar_alt\":\"Dr Sarfati-Lasry, Chirurgien-dentiste à Paris 15\",\"video_consultation_landing_page_path\":\"/video_consultation?origin=desktop_search_results_pract_card\\\\u0026source=danielle-sarfati-lasry\",\"is_profile_with_employee\":false,\"regulation_sector\":\"Conventionné\",\"practice_id\":52539,\"practice_name\":\"\",\"button_label\":\"Prendre rendez-vous\",\"profile_organization_status_name\":null,\"profile_id\":88832,\"exact_match\":true,\"priority_speciality\":false,\"position\":{\"lat\":48.8381744,\"lng\":2.298515599999973},\"speciality_id\":1,\"speciality_label\":\"Chirurgien-dentiste\",\"speciality_is_telehealth_core\":false,\"speciality_is_covid_vaccination_speciality\":false},{\"address\":\"245 Avenue Daumesnil\",\"zipcode\":\"75012\",\"city\":\"Paris\",\"redirect_to_profile\":false,\"id\":11711428,\"is_directory\":false,\"id_label\":\"search-result-11711428\",\"top_specialities\":[\"1 chirurgien-dentiste\"],\"telehealth\":false,\"search_result_path\":\"/dentiste/paris/sacha-perez-paris-12\",\"search_result_slot_path\":\"/dentiste/paris/sacha-perez-paris-12\",\"name_with_title\":\"Dr Sacha Perez\",\"is_organization\":false,\"avatar_url\":\"//media.doctolib.com/image/upload/q_auto:eco,f_auto,w_160,h_160,c_fill,g_face/mq6r4sghbu3tm5qcdkfu.jpg\",\"avatar_alt\":\"Dr Perez, Chirurgien-dentiste à Paris 12\",\"video_consultation_landing_page_path\":\"/video_consultation?origin=desktop_search_results_pract_card\\\\u0026source=sacha-perez-paris-12\",\"is_profile_with_employee\":false,\"regulation_sector\":\"Conventionné\",\"practice_id\":249036,\"practice_name\":\"Cabinet dentaire du docteur Benjamin Darmon\",\"button_label\":\"Prendre rendez-vous\",\"profile_organization_status_name\":null,\"profile_id\":459094,\"exact_match\":true,\"priority_speciality\":false,\"position\":{\"lat\":48.8377629,\"lng\":2.4013664},\"speciality_id\":1,\"speciality_label\":\"Chirurgien-dentiste\",\"speciality_is_telehealth_core\":false,\"speciality_is_covid_vaccination_speciality\":false},{\"address\":\"76 Rue Notre Dame des Champs\",\"zipcode\":\"75006\",\"city\":\"Paris\",\"redirect_to_profile\":false,\"id\":10659580,\"is_directory\":false,\"id_label\":\"search-result-10659580\",\"top_specialities\":[\"1 chirurgien-dentiste\"],\"telehealth\":false,\"search_result_path\":\"/dentiste/paris/dan-rutbi\",\"search_result_slot_path\":\"/dentiste/paris/dan-rutbi\",\"name_with_title\":\"Dr Dan Rutbi\",\"is_organization\":false,\"avatar_url\":\"//media.doctolib.com/image/upload/q_auto:eco,f_auto,w_160,h_160,c_fill,g_face/dbux3vsbqjfyout8ziqo.jpg\",\"avatar_alt\":\"Dr Rutbi, Chirurgien-dentiste à Paris 6\",\"video_consultation_landing_page_path\":\"/video_consultation?origin=desktop_search_results_pract_card\\\\u0026source=dan-rutbi\",\"is_profile_with_employee\":false,\"regulation_sector\":\"Conventionné\",\"practice_id\":2184,\"practice_name\":\"Clinique dentaire Notre Dame des Champs\",\"button_label\":\"Prendre rendez-vous\",\"profile_organization_status_name\":null,\"profile_id\":267,\"exact_match\":true,\"priority_speciality\":false,\"position\":{\"lat\":48.8423786,\"lng\":2.33190620000005},\"speciality_id\":1,\"speciality_label\":\"Chirurgien-dentiste\",\"speciality_is_telehealth_core\":false,\"speciality_is_covid_vaccination_speciality\":false},{\"address\":\"28 Place Dupleix\",\"zipcode\":\"75015\",\"city\":\"Paris\",\"redirect_to_profile\":false,\"id\":10663961,\"is_directory\":false,\"id_label\":\"search-result-10663961\",\"top_specialities\":[\"1 chirurgien-dentiste\"],\"telehealth\":false,\"search_result_path\":\"/dentiste/paris/johann-pierrard\",\"search_result_slot_path\":\"/dentiste/paris/johann-pierrard\",\"name_with_title\":\"Dr Johann Pierrard\",\"is_organization\":false,\"avatar_url\":\"//media.doctolib.com/image/upload/q_auto:eco,f_auto,w_160,h_160,c_fill,g_face/cs84edvoz0vybsqoqd5v.jpg\",\"avatar_alt\":\"Dr Pierrard, Chirurgien-dentiste à Paris 15\",\"video_consultation_landing_page_path\":\"/video_consultation?origin=desktop_search_results_pract_card\\\\u0026source=johann-pierrard\",\"is_profile_with_employee\":false,\"regulation_sector\":\"\",\"practice_id\":3024,\"practice_name\":\"Cabinet du Docteur Johann Pierrard\",\"button_label\":\"Prendre rendez-vous\",\"profile_organization_status_name\":null,\"profile_id\":5402,\"exact_match\":true,\"priority_speciality\":false,\"position\":{\"lat\":48.8506744,\"lng\":2.295418100000006},\"speciality_id\":1,\"speciality_label\":\"Chirurgien-dentiste\",\"speciality_is_telehealth_core\":false,\"speciality_is_covid_vaccination_speciality\":false},{\"address\":\"59 Avenue de la Bourdonnais\",\"zipcode\":\"75007\",\"city\":\"Paris\",\"redirect_to_profile\":false,\"id\":11310378,\"is_directory\":false,\"id_label\":\"search-result-11310378\",\"top_specialities\":[\"1 chirurgien-dentiste\"],\"telehealth\":false,\"search_result_path\":\"/dentiste/paris/gary-finelle\",\"search_result_slot_path\":\"/dentiste/paris/gary-finelle\",\"name_with_title\":\"Dr Gary Finelle\",\"is_organization\":false,\"avatar_url\":\"//media.doctolib.com/image/upload/q_auto:eco,f_auto,w_160,h_160,c_fill,g_face/hnn3bsntte0nzya42vpl.jpg\",\"avatar_alt\":\"Dr Finelle, Chirurgien-dentiste à Paris 7\",\"video_consultation_landing_page_path\":\"/video_consultation?origin=desktop_search_results_pract_card\\\\u0026source=gary-finelle\",\"is_profile_with_employee\":false,\"regulation_sector\":\"Conventionné\",\"practice_id\":25158,\"practice_name\":\"Dental7Paris\",\"button_label\":\"Prendre rendez-vous\",\"profile_organization_status_name\":null,\"profile_id\":1006,\"exact_match\":true,\"priority_speciality\":false,\"position\":{\"lat\":48.857336,\"lng\":2.301180199999976},\"speciality_id\":1,\"speciality_label\":\"Chirurgien-dentiste\",\"speciality_is_telehealth_core\":false,\"speciality_is_covid_vaccination_speciality\":false},{\"address\":\"4 Rue de Sontay\",\"zipcode\":\"75116\",\"city\":\"Paris\",\"redirect_to_profile\":false,\"id\":11658215,\"is_directory\":false,\"id_label\":\"search-result-11658215\",\"top_specialities\":[\"1 chirurgien-dentiste\"],\"telehealth\":false,\"search_result_path\":\"/dentiste/paris/mazouni-irena\",\"search_result_slot_path\":\"/dentiste/paris/mazouni-irena\",\"name_with_title\":\"Dr Miglena Aleksandrova\",\"is_organization\":false,\"avatar_url\":\"//media.doctolib.com/image/upload/q_auto:eco,f_auto,w_160,h_160,c_fill,g_face/default_doctor_avatar_f.jpg\",\"avatar_alt\":\"Dr Aleksandrova, Chirurgien-dentiste à Paris 16\",\"video_consultation_landing_page_path\":\"/video_consultation?origin=desktop_search_results_pract_card\\\\u0026source=mazouni-irena\",\"is_profile_with_employee\":false,\"regulation_sector\":\"Conventionné\",\"practice_id\":337084,\"practice_name\":\"Cabinet dentaire Edith\",\"button_label\":\"Prendre rendez-vous\",\"profile_organization_status_name\":null,\"profile_id\":864253,\"exact_match\":true,\"priority_speciality\":false,\"position\":{\"lat\":48.8703854,\"lng\":2.2846272},\"speciality_id\":1,\"speciality_label\":\"Chirurgien-dentiste\",\"speciality_is_telehealth_core\":false,\"speciality_is_covid_vaccination_speciality\":false},{\"address\":\"60 Rue Rémy Dumoncel\",\"zipcode\":\"75014\",\"city\":\"Paris\",\"redirect_to_profile\":false,\"id\":11076807,\"is_directory\":false,\"id_label\":\"search-result-11076807\",\"top_specialities\":[\"1 chirurgien-dentiste\"],\"telehealth\":false,\"search_result_path\":\"/dentiste/paris/lia-yacoub\",\"search_result_slot_path\":\"/dentiste/paris/lia-yacoub\",\"name_with_title\":\"Dr Lia YACOUB\",\"is_organization\":false,\"avatar_url\":\"//media.doctolib.com/image/upload/q_auto:eco,f_auto,w_160,h_160,c_fill,g_face/nxh18uoctwcw5tk7oxpa.jpg\",\"avatar_alt\":\"Dr YACOUB, Chirurgien-dentiste à Paris 14\",\"video_consultation_landing_page_path\":\"/video_consultation?origin=desktop_search_results_pract_card\\\\u0026source=lia-yacoub\",\"is_profile_with_employee\":false,\"regulation_sector\":\"Conventionné\",\"practice_id\":44967,\"practice_name\":\"\",\"button_label\":\"Prendre rendez-vous\",\"profile_organization_status_name\":null,\"profile_id\":31260,\"exact_match\":true,\"priority_speciality\":false,\"position\":{\"lat\":48.8296929,\"lng\":2.32909080000002},\"speciality_id\":1,\"speciality_label\":\"Chirurgien-dentiste\",\"speciality_is_telehealth_core\":false,\"speciality_is_covid_vaccination_speciality\":false},{\"address\":\"126 Rue de Tolbiac\",\"zipcode\":\"75013\",\"city\":\"Paris\",\"redirect_to_profile\":false,\"id\":10679641,\"is_directory\":false,\"id_label\":\"search-result-10679641\",\"top_specialities\":[\"1 chirurgien-dentiste\"],\"telehealth\":false,\"search_result_path\":\"/dentiste/paris/didier-achour\",\"search_result_slot_path\":\"/dentiste/paris/didier-achour\",\"name_with_title\":\"Dr Didier Achour\",\"is_organization\":false,\"avatar_url\":\"//media.doctolib.com/image/upload/q_auto:eco,f_auto,w_160,h_160,c_fill,g_face/ghqv2dlzvixfxwcsotpv.jpg\",\"avatar_alt\":\"Dr Achour, Chirurgien-dentiste à Paris 13\",\"video_consultation_landing_page_path\":\"/video_consultation?origin=desktop_search_results_pract_card\\\\u0026source=didier-achour\",\"is_profile_with_employee\":false,\"regulation_sector\":\"\",\"practice_id\":8446,\"practice_name\":\"\",\"button_label\":\"Prendre rendez-vous\",\"profile_organization_status_name\":null,\"profile_id\":14772,\"exact_match\":true,\"priority_speciality\":false,\"position\":{\"lat\":48.8263392,\"lng\":2.359193300000015},\"speciality_id\":1,\"speciality_label\":\"Chirurgien-dentiste\",\"speciality_is_telehealth_core\":false,\"speciality_is_covid_vaccination_speciality\":false},{\"address\":\"91 Rue de Prony\",\"zipcode\":\"75017\",\"city\":\"Paris\",\"redirect_to_profile\":false,\"id\":11298081,\"is_directory\":false,\"id_label\":\"search-result-11298081\",\"top_specialities\":[\"1 chirurgien-dentiste\"],\"telehealth\":false,\"search_result_path\":\"/dentiste/paris/arnaud-delahaye?pid=practice-114566\",\"search_result_slot_path\":\"/dentiste/paris/arnaud-delahaye?pid=practice-114566\",\"name_with_title\":\"Dr Arnaud DELAHAYE\",\"is_organization\":false,\"avatar_url\":\"//media.doctolib.com/image/upload/q_auto:eco,f_auto,w_160,h_160,c_fill,g_face/default_doctor_avatar_m.jpg\",\"avatar_alt\":\"Dr DELAHAYE, Chirurgien-dentiste à Paris 17\",\"video_consultation_landing_page_path\":\"/video_consultation?origin=desktop_search_results_pract_card\\\\u0026source=arnaud-delahaye\",\"is_profile_with_employee\":false,\"regulation_sector\":\"Conventionné\",\"practice_id\":114566,\"practice_name\":\"Dentylis - Paris 17 - Prony Pereire\",\"button_label\":\"Prendre rendez-vous\",\"profile_organization_status_name\":null,\"profile_id\":292973,\"exact_match\":true,\"priority_speciality\":false,\"position\":{\"lat\":48.8839798,\"lng\":2.299910800000021},\"speciality_id\":1,\"speciality_label\":\"Chirurgien-dentiste\",\"speciality_is_telehealth_core\":false,\"speciality_is_covid_vaccination_speciality\":false},{\"address\":\"13 Boulevard de Magenta\",\"zipcode\":\"75010\",\"city\":\"Paris\",\"redirect_to_profile\":false,\"id\":10766860,\"is_directory\":false,\"id_label\":\"search-result-10766860\",\"top_specialities\":[\"1 chirurgien-dentiste\"],\"telehealth\":false,\"search_result_path\":\"/dentiste/paris-10/marc-sawicki\",\"search_result_slot_path\":\"/dentiste/paris-10/marc-sawicki\",\"name_with_title\":\"Dr Marc Sawicki\",\"is_organization\":false,\"avatar_url\":\"//media.doctolib.com/image/upload/q_auto:eco,f_auto,w_160,h_160,c_fill,g_face/he47o3xxjguy7iy3ol5e.jpg\",\"avatar_alt\":\"Dr Sawicki, Chirurgien-dentiste à Paris 10\",\"video_consultation_landing_page_path\":\"/video_consultation?origin=desktop_search_results_pract_card\\\\u0026source=marc-sawicki\",\"is_profile_with_employee\":false,\"regulation_sector\":\"Conventionné\",\"practice_id\":105816,\"practice_name\":\"Cabinet du docteur Sawicki\",\"button_label\":\"Prendre rendez-vous\",\"profile_organization_status_name\":null,\"profile_id\":61780,\"exact_match\":true,\"priority_speciality\":false,\"position\":{\"lat\":48.870113,\"lng\":2.361211000000026},\"speciality_id\":1,\"speciality_label\":\"Chirurgien-dentiste\",\"speciality_is_telehealth_core\":false,\"speciality_is_covid_vaccination_speciality\":false},{\"address\":\"74 Rue de la Croix Nivert\",\"zipcode\":\"75015\",\"city\":\"Paris\",\"redirect_to_profile\":false,\"id\":11079375,\"is_directory\":false,\"id_label\":\"search-result-11079375\",\"top_specialities\":[\"1 chirurgien-dentiste\"],\"telehealth\":false,\"search_result_path\":\"/dentiste/paris/eric-naouri\",\"search_result_slot_path\":\"/dentiste/paris/eric-naouri\",\"name_with_title\":\"Dr Eric Naouri\",\"is_organization\":false,\"avatar_url\":\"//media.doctolib.com/image/upload/q_auto:eco,f_auto,w_160,h_160,c_fill,g_face/hpajas4yiutjitousx6z.jpg\",\"avatar_alt\":\"Dr Naouri, Chirurgien-dentiste à Paris 15\",\"video_consultation_landing_page_path\":\"/video_consultation?origin=desktop_search_results_pract_card\\\\u0026source=eric-naouri\",\"is_profile_with_employee\":false,\"regulation_sector\":\"\",\"practice_id\":10181,\"practice_name\":\"\",\"button_label\":\"Prendre rendez-vous\",\"profile_organization_status_name\":null,\"profile_id\":17443,\"exact_match\":true,\"priority_speciality\":false,\"position\":{\"lat\":48.8445811,\"lng\":2.296666800000025},\"speciality_id\":1,\"speciality_label\":\"Chirurgien-dentiste\",\"speciality_is_telehealth_core\":false,\"speciality_is_covid_vaccination_speciality\":false},{\"address\":\"6 Place de Mexico\",\"zipcode\":\"75116\",\"city\":\"Paris\",\"redirect_to_profile\":false,\"id\":10944895,\"is_directory\":false,\"id_label\":\"search-result-10944895\",\"top_specialities\":[\"1 adjoint chirurgien-dentiste\"],\"telehealth\":false,\"search_result_path\":\"/interne-en-chirurgie-dentaire/levallois-perret/thibaud-gibier-levallois-perret\",\"search_result_slot_path\":\"/interne-en-chirurgie-dentaire/levallois-perret/thibaud-gibier-levallois-perret\",\"name_with_title\":\"M. Thibaud GIBIER\",\"is_organization\":false,\"avatar_url\":\"//media.doctolib.com/image/upload/q_auto:eco,f_auto,w_160,h_160,c_fill,g_face/dr91rfblfjwvejefvuiq.jpg\",\"avatar_alt\":\"T. GIBIER, Interne en chirurgie dentaire à Paris 16\",\"video_consultation_landing_page_path\":\"/video_consultation?origin=desktop_search_results_pract_card\\\\u0026source=thibaud-gibier-levallois-perret\",\"is_profile_with_employee\":false,\"regulation_sector\":null,\"practice_id\":80767,\"practice_name\":\"Cabinet dentaire Place de Mexico - Trocadéro\",\"button_label\":\"Prendre rendez-vous\",\"profile_organization_status_name\":null,\"profile_id\":222842,\"exact_match\":true,\"priority_speciality\":false,\"position\":{\"lat\":48.8657497,\"lng\":2.28331079999998},\"speciality_id\":1,\"speciality_label\":\"Interne en chirurgie dentaire\",\"speciality_is_telehealth_core\":false,\"speciality_is_covid_vaccination_speciality\":false},{\"address\":\"88 Avenue du Docteur Arnold Netter\",\"zipcode\":\"75012\",\"city\":\"Paris\",\"redirect_to_profile\":false,\"id\":11454524,\"is_directory\":false,\"id_label\":\"search-result-11454524\",\"top_specialities\":[\"1 chirurgien-dentiste\"],\"telehealth\":false,\"search_result_path\":\"/dentiste/paris/olivia-zana\",\"search_result_slot_path\":\"/dentiste/paris/olivia-zana\",\"name_with_title\":\"Dr Olivia ZANA\",\"is_organization\":false,\"avatar_url\":\"//media.doctolib.com/image/upload/q_auto:eco,f_auto,w_160,h_160,c_fill,g_face/palnuavn1posqwfijosh.jpg\",\"avatar_alt\":\"Dr ZANA, Chirurgien-dentiste à Paris 12\",\"video_consultation_landing_page_path\":\"/video_consultation?origin=desktop_search_results_pract_card\\\\u0026source=olivia-zana\",\"is_profile_with_employee\":false,\"regulation_sector\":\"Conventionné\",\"practice_id\":276851,\"practice_name\":\"\",\"button_label\":\"Prendre rendez-vous\",\"profile_organization_status_name\":null,\"profile_id\":724206,\"exact_match\":true,\"priority_speciality\":false,\"position\":{\"lat\":48.8467299,\"lng\":2.4063119},\"speciality_id\":1,\"speciality_label\":\"Chirurgien-dentiste\",\"speciality_is_telehealth_core\":false,\"speciality_is_covid_vaccination_speciality\":false},{\"address\":\"54 Rue du Père Corentin\",\"zipcode\":\"75014\",\"city\":\"Paris\",\"redirect_to_profile\":false,\"id\":10972398,\"is_directory\":false,\"id_label\":\"search-result-10972398\",\"top_specialities\":[\"7 chirurgiens-dentistes\"],\"telehealth\":false,\"search_result_path\":\"/centre-medical-et-dentaire/paris/doctocare?highlight%5Bspeciality_ids%5D%5B%5D=1\\\\u0026pid=practice-21793\",\"search_result_slot_path\":\"/centre-medical-et-dentaire/paris/doctocare?highlight%5Bspeciality_ids%5D%5B%5D=1\\\\u0026pid=practice-21793\",\"name_with_title\":\"Doctocare\",\"is_organization\":true,\"avatar_url\":\"//media.doctolib.com/image/upload/q_auto:eco,f_auto,w_160,h_160,c_fill,g_face/a3smjsizawuhts1erlei.jpg\",\"avatar_alt\":\"Doctocare, Centre médical et dentaire à Paris 14\",\"video_consultation_landing_page_path\":\"/video_consultation?origin=desktop_search_results_pract_card\\\\u0026source=doctocare\",\"is_profile_with_employee\":true,\"regulation_sector\":\"Établissement conventionné\",\"practice_id\":21793,\"practice_name\":\"Centre dentaire - Corentin (Paris 14e)\",\"button_label\":\"Prendre rendez-vous\",\"profile_organization_status_name\":\"Centre médical et dentaire\",\"profile_id\":39477,\"exact_match\":true,\"priority_speciality\":false,\"position\":{\"lat\":48.8248859,\"lng\":2.328383799999983},\"speciality_id\":1,\"speciality_label\":null,\"speciality_is_telehealth_core\":false,\"speciality_is_covid_vaccination_speciality\":false},{\"address\":\"16 Rue George Bernard Shaw\",\"zipcode\":\"75015\",\"city\":\"Paris\",\"redirect_to_profile\":false,\"id\":10869024,\"is_directory\":false,\"id_label\":\"search-result-10869024\",\"top_specialities\":[\"1 chirurgien-dentiste\"],\"telehealth\":false,\"search_result_path\":\"/dentiste/paris/michel-abi-harb-paris\",\"search_result_slot_path\":\"/dentiste/paris/michel-abi-harb-paris\",\"name_with_title\":\"Dr Michel Abi Harb\",\"is_organization\":false,\"avatar_url\":\"//media.doctolib.com/image/upload/q_auto:eco,f_auto,w_160,h_160,c_fill,g_face/ahaz2fegzmdvvlla3jn1.jpg\",\"avatar_alt\":\"Dr Abi Harb, Chirurgien-dentiste à Paris 15\",\"video_consultation_landing_page_path\":\"/video_consultation?origin=desktop_search_results_pract_card\\\\u0026source=michel-abi-harb-paris\",\"is_profile_with_employee\":false,\"regulation_sector\":\"Conventionné\",\"practice_id\":53208,\"practice_name\":\"\",\"button_label\":\"Prendre rendez-vous\",\"profile_organization_status_name\":null,\"profile_id\":89739,\"exact_match\":true,\"priority_speciality\":false,\"position\":{\"lat\":48.85187579999999,\"lng\":2.293312900000046},\"speciality_id\":1,\"speciality_label\":\"Chirurgien-dentiste\",\"speciality_is_telehealth_core\":false,\"speciality_is_covid_vaccination_speciality\":false},{\"address\":\"9 Boulevard de Sébastopol\",\"zipcode\":\"75001\",\"city\":\"Paris\",\"redirect_to_profile\":false,\"id\":11633229,\"is_directory\":false,\"id_label\":\"search-result-11633229\",\"top_specialities\":[\"3 chirurgiens-dentistes\"],\"telehealth\":false,\"search_result_path\":\"/centre-dentaire/paris/centre-dentaire-dentimad-chatelet-rivoli?highlight%5Bspeciality_ids%5D%5B%5D=1\",\"search_result_slot_path\":\"/centre-dentaire/paris/centre-dentaire-dentimad-chatelet-rivoli?highlight%5Bspeciality_ids%5D%5B%5D=1\",\"name_with_title\":\"Centre dentaire Dentimad - Châtelet-Rivoli\",\"is_organization\":true,\"avatar_url\":\"//media.doctolib.com/image/upload/q_auto:eco,f_auto,w_160,h_160,c_fill,g_face/o5leqaiqhphi8p5ji47y.jpg\",\"avatar_alt\":\"Centre dentaire Dentimad - Châtelet-Rivoli, Centre dentaire à Paris 1\",\"video_consultation_landing_page_path\":\"/video_consultation?origin=desktop_search_results_pract_card\\\\u0026source=centre-dentaire-dentimad-chatelet-rivoli\",\"is_profile_with_employee\":true,\"regulation_sector\":null,\"practice_id\":255337,\"practice_name\":\"Centre dentaire Dentimad - Châtelet-Rivoli\",\"button_label\":\"Prendre rendez-vous\",\"profile_organization_status_name\":\"Centre dentaire\",\"profile_id\":628228,\"exact_match\":true,\"priority_speciality\":false,\"position\":{\"lat\":48.8588755,\"lng\":2.348088},\"speciality_id\":1,\"speciality_label\":null,\"speciality_is_telehealth_core\":false,\"speciality_is_covid_vaccination_speciality\":false}],\"title\":\"Trouvez à Paris un chirurgien-dentiste (ou un professionnel pratiquant des actes de chirurgie dentaire) proposant la prise de rendez-vous en ligne\",\"secondaryTitle\":\"D\\'autres chirurgiens-dentistes (ou professionnels pratiquant des actes de chirurgie dentaire) proposent la prise de rendez-vous en ligne dans les environs de Paris\",\"titlesByPriority\":{\"prior_at_location\":{\"tag\":\"h1\",\"title\":\"Trouvez à Paris un chirurgien-dentiste (ou un professionnel pratiquant des actes de chirurgie dentaire) proposant la prise de rendez-vous en ligne\"},\"prior_nearby_location\":{\"tag\":\"h1\",\"title\":\"Trouvez à Paris un chirurgien-dentiste (ou un professionnel pratiquant des actes de chirurgie dentaire) proposant la prise de rendez-vous en ligne\"},\"non_prior_at_location\":{\"tag\":\"h1\",\"title\":\"Trouvez à Paris un chirurgien-dentiste (ou un professionnel pratiquant des actes de chirurgie dentaire) proposant la prise de rendez-vous en ligne\"},\"non_prior_nearby_location\":{\"tag\":\"h2\",\"title\":\"D\\'autres professionnels pratiquant des actes de chirurgie dentaire proposent la prise de rendez-vous en ligne dans les environs de Paris\"}},\"speciality\":{\"name\":\"Chirurgien-dentiste\",\"label\":\"Chirurgiens-dentistes\"},\"refVisitMotiveIds\":null,\"refVisitMotiveId\":null,\"startDate\":null,\"page\":1,\"insuranceSector\":null,\"isPrioritySpeciality\":false,\"organizationStatus\":null,\"b2bURL\":\"https://info.doctolib.fr?origin=profiles-no-doctor\\\\u0026utm_button=%28no+profile%29\\\\u0026utm_content-group=search_results_page\\\\u0026utm_page-url=https%3A%2F%2Fwww.doctolib.fr%2Fdentiste%2Fparis\\\\u0026utm_website=doctolib_patients\",\"directoryDoctors\":[],\"directoryDoctorsTitle\":\"D\\'autres chirurgiens-dentistes consultent à Paris\",\"currentPage\":1,\"includedInUnifiedBookFromSearch\":false}'"
            ]
          },
          "execution_count": 33,
          "metadata": {},
          "output_type": "execute_result"
        }
      ],
      "source": [
        "data = (soup.find_all('div')[2].find('div', class_='row-center row-padding-1')).find_all('div')[0].attrs\n",
        "data['data-props']"
      ]
    },
    {
      "cell_type": "code",
      "execution_count": null,
      "metadata": {
        "id": "MFTzEEPkVf-x",
        "outputId": "b41a9dbe-472b-4ae6-fed3-407f4cb2053c"
      },
      "outputs": [
        {
          "data": {
            "text/plain": [
              "{'totalNumberOfResults': 4350,\n",
              " 'searchResults': [{'address': '34 Rue Geoffroy-Saint-Hilaire',\n",
              "   'zipcode': '75005',\n",
              "   'city': 'Paris',\n",
              "   'redirect_to_profile': False,\n",
              "   'id': 11077774,\n",
              "   'is_directory': False,\n",
              "   'id_label': 'search-result-11077774',\n",
              "   'top_specialities': ['1 chirurgien-dentiste'],\n",
              "   'telehealth': False,\n",
              "   'search_result_path': '/dentiste/paris/christine-colombani',\n",
              "   'search_result_slot_path': '/dentiste/paris/christine-colombani',\n",
              "   'name_with_title': 'Dr Christine COLOMBANI',\n",
              "   'is_organization': False,\n",
              "   'avatar_url': '//media.doctolib.com/image/upload/q_auto:eco,f_auto,w_160,h_160,c_fill,g_face/v2ff7qulgilikcf8mrca.jpg',\n",
              "   'avatar_alt': 'Dr COLOMBANI, Chirurgien-dentiste à Paris 5',\n",
              "   'video_consultation_landing_page_path': '/video_consultation?origin=desktop_search_results_pract_card&source=christine-colombani',\n",
              "   'is_profile_with_employee': False,\n",
              "   'regulation_sector': 'Conventionné avec droit permanent à dépassement',\n",
              "   'practice_id': 9574,\n",
              "   'practice_name': '',\n",
              "   'button_label': 'Prendre rendez-vous',\n",
              "   'profile_organization_status_name': None,\n",
              "   'profile_id': 214418,\n",
              "   'exact_match': True,\n",
              "   'priority_speciality': False,\n",
              "   'position': {'lat': 48.8410012, 'lng': 2.356302899999946},\n",
              "   'speciality_id': 1,\n",
              "   'speciality_label': 'Chirurgien-dentiste',\n",
              "   'speciality_is_telehealth_core': False,\n",
              "   'speciality_is_covid_vaccination_speciality': False},\n",
              "  {'address': '48 Rue de Malte',\n",
              "   'zipcode': '75011',\n",
              "   'city': 'Paris',\n",
              "   'redirect_to_profile': False,\n",
              "   'id': 10940267,\n",
              "   'is_directory': False,\n",
              "   'id_label': 'search-result-10940267',\n",
              "   'top_specialities': ['1 chirurgien-dentiste'],\n",
              "   'telehealth': False,\n",
              "   'search_result_path': '/dentiste/paris/annelle-deyehe',\n",
              "   'search_result_slot_path': '/dentiste/paris/annelle-deyehe',\n",
              "   'name_with_title': 'Dr Annelle Deyehe',\n",
              "   'is_organization': False,\n",
              "   'avatar_url': '//media.doctolib.com/image/upload/q_auto:eco,f_auto,w_160,h_160,c_fill,g_face/xxzsi7dblczovdg8cwdr.jpg',\n",
              "   'avatar_alt': 'Dr Deyehe, Chirurgien-dentiste à Paris 11',\n",
              "   'video_consultation_landing_page_path': '/video_consultation?origin=desktop_search_results_pract_card&source=annelle-deyehe',\n",
              "   'is_profile_with_employee': False,\n",
              "   'regulation_sector': 'Conventionné',\n",
              "   'practice_id': 59917,\n",
              "   'practice_name': 'Les chirurgiens-dentistes Paris République ',\n",
              "   'button_label': 'Prendre rendez-vous',\n",
              "   'profile_organization_status_name': None,\n",
              "   'profile_id': 106616,\n",
              "   'exact_match': True,\n",
              "   'priority_speciality': False,\n",
              "   'position': {'lat': 48.8669449, 'lng': 2.367103600000064},\n",
              "   'speciality_id': 1,\n",
              "   'speciality_label': 'Chirurgien-dentiste',\n",
              "   'speciality_is_telehealth_core': False,\n",
              "   'speciality_is_covid_vaccination_speciality': False},\n",
              "  {'address': '71 Avenue du Général Leclerc',\n",
              "   'zipcode': '75014',\n",
              "   'city': 'Paris',\n",
              "   'redirect_to_profile': False,\n",
              "   'id': 11595251,\n",
              "   'is_directory': False,\n",
              "   'id_label': 'search-result-11595251',\n",
              "   'top_specialities': ['1 chirurgien-dentiste'],\n",
              "   'telehealth': False,\n",
              "   'search_result_path': '/dentiste/paris/milton-ngangwele-mutandu?pid=practice-237010',\n",
              "   'search_result_slot_path': '/dentiste/paris/milton-ngangwele-mutandu?pid=practice-237010',\n",
              "   'name_with_title': 'Dr Milton NGANGWELE MUTANDU',\n",
              "   'is_organization': False,\n",
              "   'avatar_url': '//media.doctolib.com/image/upload/q_auto:eco,f_auto,w_160,h_160,c_fill,g_face/default_doctor_avatar_m.jpg',\n",
              "   'avatar_alt': 'Dr NGANGWELE MUTANDU, Chirurgien-dentiste à Paris 14',\n",
              "   'video_consultation_landing_page_path': '/video_consultation?origin=desktop_search_results_pract_card&source=milton-ngangwele-mutandu',\n",
              "   'is_profile_with_employee': False,\n",
              "   'regulation_sector': None,\n",
              "   'practice_id': 237010,\n",
              "   'practice_name': 'Centre Dentaire Nobel Santé + Paris 14 Alésia',\n",
              "   'button_label': 'Prendre rendez-vous',\n",
              "   'profile_organization_status_name': None,\n",
              "   'profile_id': 591639,\n",
              "   'exact_match': True,\n",
              "   'priority_speciality': False,\n",
              "   'position': {'lat': 48.8283903, 'lng': 2.3277083},\n",
              "   'speciality_id': 1,\n",
              "   'speciality_label': 'Chirurgien-dentiste',\n",
              "   'speciality_is_telehealth_core': False,\n",
              "   'speciality_is_covid_vaccination_speciality': False},\n",
              "  {'address': '81 Avenue Jean Jaurès',\n",
              "   'zipcode': '75019',\n",
              "   'city': 'Paris',\n",
              "   'redirect_to_profile': False,\n",
              "   'id': 10679527,\n",
              "   'is_directory': False,\n",
              "   'id_label': 'search-result-10679527',\n",
              "   'top_specialities': ['1 chirurgien-dentiste'],\n",
              "   'telehealth': False,\n",
              "   'search_result_path': '/dentiste/paris/karen-smirou?pid=practice-8370',\n",
              "   'search_result_slot_path': '/dentiste/paris/karen-smirou?pid=practice-8370',\n",
              "   'name_with_title': 'Dr Karen SMIROU',\n",
              "   'is_organization': False,\n",
              "   'avatar_url': '//media.doctolib.com/image/upload/q_auto:eco,f_auto,w_160,h_160,c_fill,g_face/xvdqmjdlsym5udq9o0ld.jpg',\n",
              "   'avatar_alt': 'Dr SMIROU, Chirurgien-dentiste à Paris 19',\n",
              "   'video_consultation_landing_page_path': '/video_consultation?origin=desktop_search_results_pract_card&source=karen-smirou',\n",
              "   'is_profile_with_employee': False,\n",
              "   'regulation_sector': 'Conventionné',\n",
              "   'practice_id': 8370,\n",
              "   'practice_name': 'Cabinet dentaire du docteur Halfon Laurent',\n",
              "   'button_label': 'Prendre rendez-vous',\n",
              "   'profile_organization_status_name': None,\n",
              "   'profile_id': 217609,\n",
              "   'exact_match': True,\n",
              "   'priority_speciality': False,\n",
              "   'position': {'lat': 48.8851964, 'lng': 2.37849940000001},\n",
              "   'speciality_id': 1,\n",
              "   'speciality_label': 'Chirurgien-dentiste',\n",
              "   'speciality_is_telehealth_core': False,\n",
              "   'speciality_is_covid_vaccination_speciality': False},\n",
              "  {'address': '323 Rue de Vaugirard',\n",
              "   'zipcode': '75015',\n",
              "   'city': 'Paris',\n",
              "   'redirect_to_profile': False,\n",
              "   'id': 10866818,\n",
              "   'is_directory': False,\n",
              "   'id_label': 'search-result-10866818',\n",
              "   'top_specialities': ['1 chirurgien-dentiste'],\n",
              "   'telehealth': False,\n",
              "   'search_result_path': '/dentiste/paris/danielle-sarfati-lasry',\n",
              "   'search_result_slot_path': '/dentiste/paris/danielle-sarfati-lasry',\n",
              "   'name_with_title': 'Dr Danielle Sarfati-Lasry',\n",
              "   'is_organization': False,\n",
              "   'avatar_url': '//media.doctolib.com/image/upload/q_auto:eco,f_auto,w_160,h_160,c_fill,g_face/yecpgrkk4cx8zywmysc2.jpg',\n",
              "   'avatar_alt': 'Dr Sarfati-Lasry, Chirurgien-dentiste à Paris 15',\n",
              "   'video_consultation_landing_page_path': '/video_consultation?origin=desktop_search_results_pract_card&source=danielle-sarfati-lasry',\n",
              "   'is_profile_with_employee': False,\n",
              "   'regulation_sector': 'Conventionné',\n",
              "   'practice_id': 52539,\n",
              "   'practice_name': '',\n",
              "   'button_label': 'Prendre rendez-vous',\n",
              "   'profile_organization_status_name': None,\n",
              "   'profile_id': 88832,\n",
              "   'exact_match': True,\n",
              "   'priority_speciality': False,\n",
              "   'position': {'lat': 48.8381744, 'lng': 2.298515599999973},\n",
              "   'speciality_id': 1,\n",
              "   'speciality_label': 'Chirurgien-dentiste',\n",
              "   'speciality_is_telehealth_core': False,\n",
              "   'speciality_is_covid_vaccination_speciality': False},\n",
              "  {'address': '245 Avenue Daumesnil',\n",
              "   'zipcode': '75012',\n",
              "   'city': 'Paris',\n",
              "   'redirect_to_profile': False,\n",
              "   'id': 11711428,\n",
              "   'is_directory': False,\n",
              "   'id_label': 'search-result-11711428',\n",
              "   'top_specialities': ['1 chirurgien-dentiste'],\n",
              "   'telehealth': False,\n",
              "   'search_result_path': '/dentiste/paris/sacha-perez-paris-12',\n",
              "   'search_result_slot_path': '/dentiste/paris/sacha-perez-paris-12',\n",
              "   'name_with_title': 'Dr Sacha Perez',\n",
              "   'is_organization': False,\n",
              "   'avatar_url': '//media.doctolib.com/image/upload/q_auto:eco,f_auto,w_160,h_160,c_fill,g_face/mq6r4sghbu3tm5qcdkfu.jpg',\n",
              "   'avatar_alt': 'Dr Perez, Chirurgien-dentiste à Paris 12',\n",
              "   'video_consultation_landing_page_path': '/video_consultation?origin=desktop_search_results_pract_card&source=sacha-perez-paris-12',\n",
              "   'is_profile_with_employee': False,\n",
              "   'regulation_sector': 'Conventionné',\n",
              "   'practice_id': 249036,\n",
              "   'practice_name': 'Cabinet dentaire du docteur Benjamin Darmon',\n",
              "   'button_label': 'Prendre rendez-vous',\n",
              "   'profile_organization_status_name': None,\n",
              "   'profile_id': 459094,\n",
              "   'exact_match': True,\n",
              "   'priority_speciality': False,\n",
              "   'position': {'lat': 48.8377629, 'lng': 2.4013664},\n",
              "   'speciality_id': 1,\n",
              "   'speciality_label': 'Chirurgien-dentiste',\n",
              "   'speciality_is_telehealth_core': False,\n",
              "   'speciality_is_covid_vaccination_speciality': False},\n",
              "  {'address': '76 Rue Notre Dame des Champs',\n",
              "   'zipcode': '75006',\n",
              "   'city': 'Paris',\n",
              "   'redirect_to_profile': False,\n",
              "   'id': 10659580,\n",
              "   'is_directory': False,\n",
              "   'id_label': 'search-result-10659580',\n",
              "   'top_specialities': ['1 chirurgien-dentiste'],\n",
              "   'telehealth': False,\n",
              "   'search_result_path': '/dentiste/paris/dan-rutbi',\n",
              "   'search_result_slot_path': '/dentiste/paris/dan-rutbi',\n",
              "   'name_with_title': 'Dr Dan Rutbi',\n",
              "   'is_organization': False,\n",
              "   'avatar_url': '//media.doctolib.com/image/upload/q_auto:eco,f_auto,w_160,h_160,c_fill,g_face/dbux3vsbqjfyout8ziqo.jpg',\n",
              "   'avatar_alt': 'Dr Rutbi, Chirurgien-dentiste à Paris 6',\n",
              "   'video_consultation_landing_page_path': '/video_consultation?origin=desktop_search_results_pract_card&source=dan-rutbi',\n",
              "   'is_profile_with_employee': False,\n",
              "   'regulation_sector': 'Conventionné',\n",
              "   'practice_id': 2184,\n",
              "   'practice_name': 'Clinique dentaire Notre Dame des Champs',\n",
              "   'button_label': 'Prendre rendez-vous',\n",
              "   'profile_organization_status_name': None,\n",
              "   'profile_id': 267,\n",
              "   'exact_match': True,\n",
              "   'priority_speciality': False,\n",
              "   'position': {'lat': 48.8423786, 'lng': 2.33190620000005},\n",
              "   'speciality_id': 1,\n",
              "   'speciality_label': 'Chirurgien-dentiste',\n",
              "   'speciality_is_telehealth_core': False,\n",
              "   'speciality_is_covid_vaccination_speciality': False},\n",
              "  {'address': '28 Place Dupleix',\n",
              "   'zipcode': '75015',\n",
              "   'city': 'Paris',\n",
              "   'redirect_to_profile': False,\n",
              "   'id': 10663961,\n",
              "   'is_directory': False,\n",
              "   'id_label': 'search-result-10663961',\n",
              "   'top_specialities': ['1 chirurgien-dentiste'],\n",
              "   'telehealth': False,\n",
              "   'search_result_path': '/dentiste/paris/johann-pierrard',\n",
              "   'search_result_slot_path': '/dentiste/paris/johann-pierrard',\n",
              "   'name_with_title': 'Dr Johann Pierrard',\n",
              "   'is_organization': False,\n",
              "   'avatar_url': '//media.doctolib.com/image/upload/q_auto:eco,f_auto,w_160,h_160,c_fill,g_face/cs84edvoz0vybsqoqd5v.jpg',\n",
              "   'avatar_alt': 'Dr Pierrard, Chirurgien-dentiste à Paris 15',\n",
              "   'video_consultation_landing_page_path': '/video_consultation?origin=desktop_search_results_pract_card&source=johann-pierrard',\n",
              "   'is_profile_with_employee': False,\n",
              "   'regulation_sector': '',\n",
              "   'practice_id': 3024,\n",
              "   'practice_name': 'Cabinet du Docteur Johann Pierrard',\n",
              "   'button_label': 'Prendre rendez-vous',\n",
              "   'profile_organization_status_name': None,\n",
              "   'profile_id': 5402,\n",
              "   'exact_match': True,\n",
              "   'priority_speciality': False,\n",
              "   'position': {'lat': 48.8506744, 'lng': 2.295418100000006},\n",
              "   'speciality_id': 1,\n",
              "   'speciality_label': 'Chirurgien-dentiste',\n",
              "   'speciality_is_telehealth_core': False,\n",
              "   'speciality_is_covid_vaccination_speciality': False},\n",
              "  {'address': '59 Avenue de la Bourdonnais',\n",
              "   'zipcode': '75007',\n",
              "   'city': 'Paris',\n",
              "   'redirect_to_profile': False,\n",
              "   'id': 11310378,\n",
              "   'is_directory': False,\n",
              "   'id_label': 'search-result-11310378',\n",
              "   'top_specialities': ['1 chirurgien-dentiste'],\n",
              "   'telehealth': False,\n",
              "   'search_result_path': '/dentiste/paris/gary-finelle',\n",
              "   'search_result_slot_path': '/dentiste/paris/gary-finelle',\n",
              "   'name_with_title': 'Dr Gary Finelle',\n",
              "   'is_organization': False,\n",
              "   'avatar_url': '//media.doctolib.com/image/upload/q_auto:eco,f_auto,w_160,h_160,c_fill,g_face/hnn3bsntte0nzya42vpl.jpg',\n",
              "   'avatar_alt': 'Dr Finelle, Chirurgien-dentiste à Paris 7',\n",
              "   'video_consultation_landing_page_path': '/video_consultation?origin=desktop_search_results_pract_card&source=gary-finelle',\n",
              "   'is_profile_with_employee': False,\n",
              "   'regulation_sector': 'Conventionné',\n",
              "   'practice_id': 25158,\n",
              "   'practice_name': 'Dental7Paris',\n",
              "   'button_label': 'Prendre rendez-vous',\n",
              "   'profile_organization_status_name': None,\n",
              "   'profile_id': 1006,\n",
              "   'exact_match': True,\n",
              "   'priority_speciality': False,\n",
              "   'position': {'lat': 48.857336, 'lng': 2.301180199999976},\n",
              "   'speciality_id': 1,\n",
              "   'speciality_label': 'Chirurgien-dentiste',\n",
              "   'speciality_is_telehealth_core': False,\n",
              "   'speciality_is_covid_vaccination_speciality': False},\n",
              "  {'address': '4 Rue de Sontay',\n",
              "   'zipcode': '75116',\n",
              "   'city': 'Paris',\n",
              "   'redirect_to_profile': False,\n",
              "   'id': 11658215,\n",
              "   'is_directory': False,\n",
              "   'id_label': 'search-result-11658215',\n",
              "   'top_specialities': ['1 chirurgien-dentiste'],\n",
              "   'telehealth': False,\n",
              "   'search_result_path': '/dentiste/paris/mazouni-irena',\n",
              "   'search_result_slot_path': '/dentiste/paris/mazouni-irena',\n",
              "   'name_with_title': 'Dr Miglena Aleksandrova',\n",
              "   'is_organization': False,\n",
              "   'avatar_url': '//media.doctolib.com/image/upload/q_auto:eco,f_auto,w_160,h_160,c_fill,g_face/default_doctor_avatar_f.jpg',\n",
              "   'avatar_alt': 'Dr Aleksandrova, Chirurgien-dentiste à Paris 16',\n",
              "   'video_consultation_landing_page_path': '/video_consultation?origin=desktop_search_results_pract_card&source=mazouni-irena',\n",
              "   'is_profile_with_employee': False,\n",
              "   'regulation_sector': 'Conventionné',\n",
              "   'practice_id': 337084,\n",
              "   'practice_name': 'Cabinet dentaire Edith',\n",
              "   'button_label': 'Prendre rendez-vous',\n",
              "   'profile_organization_status_name': None,\n",
              "   'profile_id': 864253,\n",
              "   'exact_match': True,\n",
              "   'priority_speciality': False,\n",
              "   'position': {'lat': 48.8703854, 'lng': 2.2846272},\n",
              "   'speciality_id': 1,\n",
              "   'speciality_label': 'Chirurgien-dentiste',\n",
              "   'speciality_is_telehealth_core': False,\n",
              "   'speciality_is_covid_vaccination_speciality': False},\n",
              "  {'address': '60 Rue Rémy Dumoncel',\n",
              "   'zipcode': '75014',\n",
              "   'city': 'Paris',\n",
              "   'redirect_to_profile': False,\n",
              "   'id': 11076807,\n",
              "   'is_directory': False,\n",
              "   'id_label': 'search-result-11076807',\n",
              "   'top_specialities': ['1 chirurgien-dentiste'],\n",
              "   'telehealth': False,\n",
              "   'search_result_path': '/dentiste/paris/lia-yacoub',\n",
              "   'search_result_slot_path': '/dentiste/paris/lia-yacoub',\n",
              "   'name_with_title': 'Dr Lia YACOUB',\n",
              "   'is_organization': False,\n",
              "   'avatar_url': '//media.doctolib.com/image/upload/q_auto:eco,f_auto,w_160,h_160,c_fill,g_face/nxh18uoctwcw5tk7oxpa.jpg',\n",
              "   'avatar_alt': 'Dr YACOUB, Chirurgien-dentiste à Paris 14',\n",
              "   'video_consultation_landing_page_path': '/video_consultation?origin=desktop_search_results_pract_card&source=lia-yacoub',\n",
              "   'is_profile_with_employee': False,\n",
              "   'regulation_sector': 'Conventionné',\n",
              "   'practice_id': 44967,\n",
              "   'practice_name': '',\n",
              "   'button_label': 'Prendre rendez-vous',\n",
              "   'profile_organization_status_name': None,\n",
              "   'profile_id': 31260,\n",
              "   'exact_match': True,\n",
              "   'priority_speciality': False,\n",
              "   'position': {'lat': 48.8296929, 'lng': 2.32909080000002},\n",
              "   'speciality_id': 1,\n",
              "   'speciality_label': 'Chirurgien-dentiste',\n",
              "   'speciality_is_telehealth_core': False,\n",
              "   'speciality_is_covid_vaccination_speciality': False},\n",
              "  {'address': '126 Rue de Tolbiac',\n",
              "   'zipcode': '75013',\n",
              "   'city': 'Paris',\n",
              "   'redirect_to_profile': False,\n",
              "   'id': 10679641,\n",
              "   'is_directory': False,\n",
              "   'id_label': 'search-result-10679641',\n",
              "   'top_specialities': ['1 chirurgien-dentiste'],\n",
              "   'telehealth': False,\n",
              "   'search_result_path': '/dentiste/paris/didier-achour',\n",
              "   'search_result_slot_path': '/dentiste/paris/didier-achour',\n",
              "   'name_with_title': 'Dr Didier Achour',\n",
              "   'is_organization': False,\n",
              "   'avatar_url': '//media.doctolib.com/image/upload/q_auto:eco,f_auto,w_160,h_160,c_fill,g_face/ghqv2dlzvixfxwcsotpv.jpg',\n",
              "   'avatar_alt': 'Dr Achour, Chirurgien-dentiste à Paris 13',\n",
              "   'video_consultation_landing_page_path': '/video_consultation?origin=desktop_search_results_pract_card&source=didier-achour',\n",
              "   'is_profile_with_employee': False,\n",
              "   'regulation_sector': '',\n",
              "   'practice_id': 8446,\n",
              "   'practice_name': '',\n",
              "   'button_label': 'Prendre rendez-vous',\n",
              "   'profile_organization_status_name': None,\n",
              "   'profile_id': 14772,\n",
              "   'exact_match': True,\n",
              "   'priority_speciality': False,\n",
              "   'position': {'lat': 48.8263392, 'lng': 2.359193300000015},\n",
              "   'speciality_id': 1,\n",
              "   'speciality_label': 'Chirurgien-dentiste',\n",
              "   'speciality_is_telehealth_core': False,\n",
              "   'speciality_is_covid_vaccination_speciality': False},\n",
              "  {'address': '91 Rue de Prony',\n",
              "   'zipcode': '75017',\n",
              "   'city': 'Paris',\n",
              "   'redirect_to_profile': False,\n",
              "   'id': 11298081,\n",
              "   'is_directory': False,\n",
              "   'id_label': 'search-result-11298081',\n",
              "   'top_specialities': ['1 chirurgien-dentiste'],\n",
              "   'telehealth': False,\n",
              "   'search_result_path': '/dentiste/paris/arnaud-delahaye?pid=practice-114566',\n",
              "   'search_result_slot_path': '/dentiste/paris/arnaud-delahaye?pid=practice-114566',\n",
              "   'name_with_title': 'Dr Arnaud DELAHAYE',\n",
              "   'is_organization': False,\n",
              "   'avatar_url': '//media.doctolib.com/image/upload/q_auto:eco,f_auto,w_160,h_160,c_fill,g_face/default_doctor_avatar_m.jpg',\n",
              "   'avatar_alt': 'Dr DELAHAYE, Chirurgien-dentiste à Paris 17',\n",
              "   'video_consultation_landing_page_path': '/video_consultation?origin=desktop_search_results_pract_card&source=arnaud-delahaye',\n",
              "   'is_profile_with_employee': False,\n",
              "   'regulation_sector': 'Conventionné',\n",
              "   'practice_id': 114566,\n",
              "   'practice_name': 'Dentylis - Paris 17 - Prony Pereire',\n",
              "   'button_label': 'Prendre rendez-vous',\n",
              "   'profile_organization_status_name': None,\n",
              "   'profile_id': 292973,\n",
              "   'exact_match': True,\n",
              "   'priority_speciality': False,\n",
              "   'position': {'lat': 48.8839798, 'lng': 2.299910800000021},\n",
              "   'speciality_id': 1,\n",
              "   'speciality_label': 'Chirurgien-dentiste',\n",
              "   'speciality_is_telehealth_core': False,\n",
              "   'speciality_is_covid_vaccination_speciality': False},\n",
              "  {'address': '13 Boulevard de Magenta',\n",
              "   'zipcode': '75010',\n",
              "   'city': 'Paris',\n",
              "   'redirect_to_profile': False,\n",
              "   'id': 10766860,\n",
              "   'is_directory': False,\n",
              "   'id_label': 'search-result-10766860',\n",
              "   'top_specialities': ['1 chirurgien-dentiste'],\n",
              "   'telehealth': False,\n",
              "   'search_result_path': '/dentiste/paris-10/marc-sawicki',\n",
              "   'search_result_slot_path': '/dentiste/paris-10/marc-sawicki',\n",
              "   'name_with_title': 'Dr Marc Sawicki',\n",
              "   'is_organization': False,\n",
              "   'avatar_url': '//media.doctolib.com/image/upload/q_auto:eco,f_auto,w_160,h_160,c_fill,g_face/he47o3xxjguy7iy3ol5e.jpg',\n",
              "   'avatar_alt': 'Dr Sawicki, Chirurgien-dentiste à Paris 10',\n",
              "   'video_consultation_landing_page_path': '/video_consultation?origin=desktop_search_results_pract_card&source=marc-sawicki',\n",
              "   'is_profile_with_employee': False,\n",
              "   'regulation_sector': 'Conventionné',\n",
              "   'practice_id': 105816,\n",
              "   'practice_name': 'Cabinet du docteur Sawicki',\n",
              "   'button_label': 'Prendre rendez-vous',\n",
              "   'profile_organization_status_name': None,\n",
              "   'profile_id': 61780,\n",
              "   'exact_match': True,\n",
              "   'priority_speciality': False,\n",
              "   'position': {'lat': 48.870113, 'lng': 2.361211000000026},\n",
              "   'speciality_id': 1,\n",
              "   'speciality_label': 'Chirurgien-dentiste',\n",
              "   'speciality_is_telehealth_core': False,\n",
              "   'speciality_is_covid_vaccination_speciality': False},\n",
              "  {'address': '74 Rue de la Croix Nivert',\n",
              "   'zipcode': '75015',\n",
              "   'city': 'Paris',\n",
              "   'redirect_to_profile': False,\n",
              "   'id': 11079375,\n",
              "   'is_directory': False,\n",
              "   'id_label': 'search-result-11079375',\n",
              "   'top_specialities': ['1 chirurgien-dentiste'],\n",
              "   'telehealth': False,\n",
              "   'search_result_path': '/dentiste/paris/eric-naouri',\n",
              "   'search_result_slot_path': '/dentiste/paris/eric-naouri',\n",
              "   'name_with_title': 'Dr Eric Naouri',\n",
              "   'is_organization': False,\n",
              "   'avatar_url': '//media.doctolib.com/image/upload/q_auto:eco,f_auto,w_160,h_160,c_fill,g_face/hpajas4yiutjitousx6z.jpg',\n",
              "   'avatar_alt': 'Dr Naouri, Chirurgien-dentiste à Paris 15',\n",
              "   'video_consultation_landing_page_path': '/video_consultation?origin=desktop_search_results_pract_card&source=eric-naouri',\n",
              "   'is_profile_with_employee': False,\n",
              "   'regulation_sector': '',\n",
              "   'practice_id': 10181,\n",
              "   'practice_name': '',\n",
              "   'button_label': 'Prendre rendez-vous',\n",
              "   'profile_organization_status_name': None,\n",
              "   'profile_id': 17443,\n",
              "   'exact_match': True,\n",
              "   'priority_speciality': False,\n",
              "   'position': {'lat': 48.8445811, 'lng': 2.296666800000025},\n",
              "   'speciality_id': 1,\n",
              "   'speciality_label': 'Chirurgien-dentiste',\n",
              "   'speciality_is_telehealth_core': False,\n",
              "   'speciality_is_covid_vaccination_speciality': False},\n",
              "  {'address': '6 Place de Mexico',\n",
              "   'zipcode': '75116',\n",
              "   'city': 'Paris',\n",
              "   'redirect_to_profile': False,\n",
              "   'id': 10944895,\n",
              "   'is_directory': False,\n",
              "   'id_label': 'search-result-10944895',\n",
              "   'top_specialities': ['1 adjoint chirurgien-dentiste'],\n",
              "   'telehealth': False,\n",
              "   'search_result_path': '/interne-en-chirurgie-dentaire/levallois-perret/thibaud-gibier-levallois-perret',\n",
              "   'search_result_slot_path': '/interne-en-chirurgie-dentaire/levallois-perret/thibaud-gibier-levallois-perret',\n",
              "   'name_with_title': 'M. Thibaud GIBIER',\n",
              "   'is_organization': False,\n",
              "   'avatar_url': '//media.doctolib.com/image/upload/q_auto:eco,f_auto,w_160,h_160,c_fill,g_face/dr91rfblfjwvejefvuiq.jpg',\n",
              "   'avatar_alt': 'T. GIBIER, Interne en chirurgie dentaire à Paris 16',\n",
              "   'video_consultation_landing_page_path': '/video_consultation?origin=desktop_search_results_pract_card&source=thibaud-gibier-levallois-perret',\n",
              "   'is_profile_with_employee': False,\n",
              "   'regulation_sector': None,\n",
              "   'practice_id': 80767,\n",
              "   'practice_name': 'Cabinet dentaire Place de Mexico - Trocadéro',\n",
              "   'button_label': 'Prendre rendez-vous',\n",
              "   'profile_organization_status_name': None,\n",
              "   'profile_id': 222842,\n",
              "   'exact_match': True,\n",
              "   'priority_speciality': False,\n",
              "   'position': {'lat': 48.8657497, 'lng': 2.28331079999998},\n",
              "   'speciality_id': 1,\n",
              "   'speciality_label': 'Interne en chirurgie dentaire',\n",
              "   'speciality_is_telehealth_core': False,\n",
              "   'speciality_is_covid_vaccination_speciality': False},\n",
              "  {'address': '88 Avenue du Docteur Arnold Netter',\n",
              "   'zipcode': '75012',\n",
              "   'city': 'Paris',\n",
              "   'redirect_to_profile': False,\n",
              "   'id': 11454524,\n",
              "   'is_directory': False,\n",
              "   'id_label': 'search-result-11454524',\n",
              "   'top_specialities': ['1 chirurgien-dentiste'],\n",
              "   'telehealth': False,\n",
              "   'search_result_path': '/dentiste/paris/olivia-zana',\n",
              "   'search_result_slot_path': '/dentiste/paris/olivia-zana',\n",
              "   'name_with_title': 'Dr Olivia ZANA',\n",
              "   'is_organization': False,\n",
              "   'avatar_url': '//media.doctolib.com/image/upload/q_auto:eco,f_auto,w_160,h_160,c_fill,g_face/palnuavn1posqwfijosh.jpg',\n",
              "   'avatar_alt': 'Dr ZANA, Chirurgien-dentiste à Paris 12',\n",
              "   'video_consultation_landing_page_path': '/video_consultation?origin=desktop_search_results_pract_card&source=olivia-zana',\n",
              "   'is_profile_with_employee': False,\n",
              "   'regulation_sector': 'Conventionné',\n",
              "   'practice_id': 276851,\n",
              "   'practice_name': '',\n",
              "   'button_label': 'Prendre rendez-vous',\n",
              "   'profile_organization_status_name': None,\n",
              "   'profile_id': 724206,\n",
              "   'exact_match': True,\n",
              "   'priority_speciality': False,\n",
              "   'position': {'lat': 48.8467299, 'lng': 2.4063119},\n",
              "   'speciality_id': 1,\n",
              "   'speciality_label': 'Chirurgien-dentiste',\n",
              "   'speciality_is_telehealth_core': False,\n",
              "   'speciality_is_covid_vaccination_speciality': False},\n",
              "  {'address': '54 Rue du Père Corentin',\n",
              "   'zipcode': '75014',\n",
              "   'city': 'Paris',\n",
              "   'redirect_to_profile': False,\n",
              "   'id': 10972398,\n",
              "   'is_directory': False,\n",
              "   'id_label': 'search-result-10972398',\n",
              "   'top_specialities': ['7 chirurgiens-dentistes'],\n",
              "   'telehealth': False,\n",
              "   'search_result_path': '/centre-medical-et-dentaire/paris/doctocare?highlight%5Bspeciality_ids%5D%5B%5D=1&pid=practice-21793',\n",
              "   'search_result_slot_path': '/centre-medical-et-dentaire/paris/doctocare?highlight%5Bspeciality_ids%5D%5B%5D=1&pid=practice-21793',\n",
              "   'name_with_title': 'Doctocare',\n",
              "   'is_organization': True,\n",
              "   'avatar_url': '//media.doctolib.com/image/upload/q_auto:eco,f_auto,w_160,h_160,c_fill,g_face/a3smjsizawuhts1erlei.jpg',\n",
              "   'avatar_alt': 'Doctocare, Centre médical et dentaire à Paris 14',\n",
              "   'video_consultation_landing_page_path': '/video_consultation?origin=desktop_search_results_pract_card&source=doctocare',\n",
              "   'is_profile_with_employee': True,\n",
              "   'regulation_sector': 'Établissement conventionné',\n",
              "   'practice_id': 21793,\n",
              "   'practice_name': 'Centre dentaire - Corentin (Paris 14e)',\n",
              "   'button_label': 'Prendre rendez-vous',\n",
              "   'profile_organization_status_name': 'Centre médical et dentaire',\n",
              "   'profile_id': 39477,\n",
              "   'exact_match': True,\n",
              "   'priority_speciality': False,\n",
              "   'position': {'lat': 48.8248859, 'lng': 2.328383799999983},\n",
              "   'speciality_id': 1,\n",
              "   'speciality_label': None,\n",
              "   'speciality_is_telehealth_core': False,\n",
              "   'speciality_is_covid_vaccination_speciality': False},\n",
              "  {'address': '16 Rue George Bernard Shaw',\n",
              "   'zipcode': '75015',\n",
              "   'city': 'Paris',\n",
              "   'redirect_to_profile': False,\n",
              "   'id': 10869024,\n",
              "   'is_directory': False,\n",
              "   'id_label': 'search-result-10869024',\n",
              "   'top_specialities': ['1 chirurgien-dentiste'],\n",
              "   'telehealth': False,\n",
              "   'search_result_path': '/dentiste/paris/michel-abi-harb-paris',\n",
              "   'search_result_slot_path': '/dentiste/paris/michel-abi-harb-paris',\n",
              "   'name_with_title': 'Dr Michel Abi Harb',\n",
              "   'is_organization': False,\n",
              "   'avatar_url': '//media.doctolib.com/image/upload/q_auto:eco,f_auto,w_160,h_160,c_fill,g_face/ahaz2fegzmdvvlla3jn1.jpg',\n",
              "   'avatar_alt': 'Dr Abi Harb, Chirurgien-dentiste à Paris 15',\n",
              "   'video_consultation_landing_page_path': '/video_consultation?origin=desktop_search_results_pract_card&source=michel-abi-harb-paris',\n",
              "   'is_profile_with_employee': False,\n",
              "   'regulation_sector': 'Conventionné',\n",
              "   'practice_id': 53208,\n",
              "   'practice_name': '',\n",
              "   'button_label': 'Prendre rendez-vous',\n",
              "   'profile_organization_status_name': None,\n",
              "   'profile_id': 89739,\n",
              "   'exact_match': True,\n",
              "   'priority_speciality': False,\n",
              "   'position': {'lat': 48.85187579999999, 'lng': 2.293312900000046},\n",
              "   'speciality_id': 1,\n",
              "   'speciality_label': 'Chirurgien-dentiste',\n",
              "   'speciality_is_telehealth_core': False,\n",
              "   'speciality_is_covid_vaccination_speciality': False},\n",
              "  {'address': '9 Boulevard de Sébastopol',\n",
              "   'zipcode': '75001',\n",
              "   'city': 'Paris',\n",
              "   'redirect_to_profile': False,\n",
              "   'id': 11633229,\n",
              "   'is_directory': False,\n",
              "   'id_label': 'search-result-11633229',\n",
              "   'top_specialities': ['3 chirurgiens-dentistes'],\n",
              "   'telehealth': False,\n",
              "   'search_result_path': '/centre-dentaire/paris/centre-dentaire-dentimad-chatelet-rivoli?highlight%5Bspeciality_ids%5D%5B%5D=1',\n",
              "   'search_result_slot_path': '/centre-dentaire/paris/centre-dentaire-dentimad-chatelet-rivoli?highlight%5Bspeciality_ids%5D%5B%5D=1',\n",
              "   'name_with_title': 'Centre dentaire Dentimad - Châtelet-Rivoli',\n",
              "   'is_organization': True,\n",
              "   'avatar_url': '//media.doctolib.com/image/upload/q_auto:eco,f_auto,w_160,h_160,c_fill,g_face/o5leqaiqhphi8p5ji47y.jpg',\n",
              "   'avatar_alt': 'Centre dentaire Dentimad - Châtelet-Rivoli, Centre dentaire à Paris 1',\n",
              "   'video_consultation_landing_page_path': '/video_consultation?origin=desktop_search_results_pract_card&source=centre-dentaire-dentimad-chatelet-rivoli',\n",
              "   'is_profile_with_employee': True,\n",
              "   'regulation_sector': None,\n",
              "   'practice_id': 255337,\n",
              "   'practice_name': 'Centre dentaire Dentimad - Châtelet-Rivoli',\n",
              "   'button_label': 'Prendre rendez-vous',\n",
              "   'profile_organization_status_name': 'Centre dentaire',\n",
              "   'profile_id': 628228,\n",
              "   'exact_match': True,\n",
              "   'priority_speciality': False,\n",
              "   'position': {'lat': 48.8588755, 'lng': 2.348088},\n",
              "   'speciality_id': 1,\n",
              "   'speciality_label': None,\n",
              "   'speciality_is_telehealth_core': False,\n",
              "   'speciality_is_covid_vaccination_speciality': False}],\n",
              " 'title': 'Trouvez à Paris un chirurgien-dentiste (ou un professionnel pratiquant des actes de chirurgie dentaire) proposant la prise de rendez-vous en ligne',\n",
              " 'secondaryTitle': \"D'autres chirurgiens-dentistes (ou professionnels pratiquant des actes de chirurgie dentaire) proposent la prise de rendez-vous en ligne dans les environs de Paris\",\n",
              " 'titlesByPriority': {'prior_at_location': {'tag': 'h1',\n",
              "   'title': 'Trouvez à Paris un chirurgien-dentiste (ou un professionnel pratiquant des actes de chirurgie dentaire) proposant la prise de rendez-vous en ligne'},\n",
              "  'prior_nearby_location': {'tag': 'h1',\n",
              "   'title': 'Trouvez à Paris un chirurgien-dentiste (ou un professionnel pratiquant des actes de chirurgie dentaire) proposant la prise de rendez-vous en ligne'},\n",
              "  'non_prior_at_location': {'tag': 'h1',\n",
              "   'title': 'Trouvez à Paris un chirurgien-dentiste (ou un professionnel pratiquant des actes de chirurgie dentaire) proposant la prise de rendez-vous en ligne'},\n",
              "  'non_prior_nearby_location': {'tag': 'h2',\n",
              "   'title': \"D'autres professionnels pratiquant des actes de chirurgie dentaire proposent la prise de rendez-vous en ligne dans les environs de Paris\"}},\n",
              " 'speciality': {'name': 'Chirurgien-dentiste',\n",
              "  'label': 'Chirurgiens-dentistes'},\n",
              " 'refVisitMotiveIds': None,\n",
              " 'refVisitMotiveId': None,\n",
              " 'startDate': None,\n",
              " 'page': 1,\n",
              " 'insuranceSector': None,\n",
              " 'isPrioritySpeciality': False,\n",
              " 'organizationStatus': None,\n",
              " 'b2bURL': 'https://info.doctolib.fr?origin=profiles-no-doctor&utm_button=%28no+profile%29&utm_content-group=search_results_page&utm_page-url=https%3A%2F%2Fwww.doctolib.fr%2Fdentiste%2Fparis&utm_website=doctolib_patients',\n",
              " 'directoryDoctors': [],\n",
              " 'directoryDoctorsTitle': \"D'autres chirurgiens-dentistes consultent à Paris\",\n",
              " 'currentPage': 1,\n",
              " 'includedInUnifiedBookFromSearch': False}"
            ]
          },
          "execution_count": 34,
          "metadata": {},
          "output_type": "execute_result"
        }
      ],
      "source": [
        "true = True\n",
        "false = False\n",
        "null = None\n",
        "data = eval(data['data-props'])\n",
        "data"
      ]
    },
    {
      "cell_type": "code",
      "execution_count": null,
      "metadata": {
        "id": "OKMzKG5LVf-x",
        "outputId": "be5c82d4-3aba-4b49-9641-1c80e5c50513"
      },
      "outputs": [
        {
          "data": {
            "text/plain": [
              "dict_keys(['totalNumberOfResults', 'searchResults', 'title', 'secondaryTitle', 'titlesByPriority', 'speciality', 'refVisitMotiveIds', 'refVisitMotiveId', 'startDate', 'page', 'insuranceSector', 'isPrioritySpeciality', 'organizationStatus', 'b2bURL', 'directoryDoctors', 'directoryDoctorsTitle', 'currentPage', 'includedInUnifiedBookFromSearch'])"
            ]
          },
          "execution_count": 35,
          "metadata": {},
          "output_type": "execute_result"
        }
      ],
      "source": [
        "data.keys()"
      ]
    },
    {
      "cell_type": "code",
      "execution_count": null,
      "metadata": {
        "id": "CrVZfH8-Vf-x",
        "outputId": "727b6806-0809-4586-8b16-dbab5b63baf8"
      },
      "outputs": [
        {
          "data": {
            "text/plain": [
              "[{'address': '34 Rue Geoffroy-Saint-Hilaire',\n",
              "  'zipcode': '75005',\n",
              "  'city': 'Paris',\n",
              "  'redirect_to_profile': False,\n",
              "  'id': 11077774,\n",
              "  'is_directory': False,\n",
              "  'id_label': 'search-result-11077774',\n",
              "  'top_specialities': ['1 chirurgien-dentiste'],\n",
              "  'telehealth': False,\n",
              "  'search_result_path': '/dentiste/paris/christine-colombani',\n",
              "  'search_result_slot_path': '/dentiste/paris/christine-colombani',\n",
              "  'name_with_title': 'Dr Christine COLOMBANI',\n",
              "  'is_organization': False,\n",
              "  'avatar_url': '//media.doctolib.com/image/upload/q_auto:eco,f_auto,w_160,h_160,c_fill,g_face/v2ff7qulgilikcf8mrca.jpg',\n",
              "  'avatar_alt': 'Dr COLOMBANI, Chirurgien-dentiste à Paris 5',\n",
              "  'video_consultation_landing_page_path': '/video_consultation?origin=desktop_search_results_pract_card&source=christine-colombani',\n",
              "  'is_profile_with_employee': False,\n",
              "  'regulation_sector': 'Conventionné avec droit permanent à dépassement',\n",
              "  'practice_id': 9574,\n",
              "  'practice_name': '',\n",
              "  'button_label': 'Prendre rendez-vous',\n",
              "  'profile_organization_status_name': None,\n",
              "  'profile_id': 214418,\n",
              "  'exact_match': True,\n",
              "  'priority_speciality': False,\n",
              "  'position': {'lat': 48.8410012, 'lng': 2.356302899999946},\n",
              "  'speciality_id': 1,\n",
              "  'speciality_label': 'Chirurgien-dentiste',\n",
              "  'speciality_is_telehealth_core': False,\n",
              "  'speciality_is_covid_vaccination_speciality': False},\n",
              " {'address': '48 Rue de Malte',\n",
              "  'zipcode': '75011',\n",
              "  'city': 'Paris',\n",
              "  'redirect_to_profile': False,\n",
              "  'id': 10940267,\n",
              "  'is_directory': False,\n",
              "  'id_label': 'search-result-10940267',\n",
              "  'top_specialities': ['1 chirurgien-dentiste'],\n",
              "  'telehealth': False,\n",
              "  'search_result_path': '/dentiste/paris/annelle-deyehe',\n",
              "  'search_result_slot_path': '/dentiste/paris/annelle-deyehe',\n",
              "  'name_with_title': 'Dr Annelle Deyehe',\n",
              "  'is_organization': False,\n",
              "  'avatar_url': '//media.doctolib.com/image/upload/q_auto:eco,f_auto,w_160,h_160,c_fill,g_face/xxzsi7dblczovdg8cwdr.jpg',\n",
              "  'avatar_alt': 'Dr Deyehe, Chirurgien-dentiste à Paris 11',\n",
              "  'video_consultation_landing_page_path': '/video_consultation?origin=desktop_search_results_pract_card&source=annelle-deyehe',\n",
              "  'is_profile_with_employee': False,\n",
              "  'regulation_sector': 'Conventionné',\n",
              "  'practice_id': 59917,\n",
              "  'practice_name': 'Les chirurgiens-dentistes Paris République ',\n",
              "  'button_label': 'Prendre rendez-vous',\n",
              "  'profile_organization_status_name': None,\n",
              "  'profile_id': 106616,\n",
              "  'exact_match': True,\n",
              "  'priority_speciality': False,\n",
              "  'position': {'lat': 48.8669449, 'lng': 2.367103600000064},\n",
              "  'speciality_id': 1,\n",
              "  'speciality_label': 'Chirurgien-dentiste',\n",
              "  'speciality_is_telehealth_core': False,\n",
              "  'speciality_is_covid_vaccination_speciality': False},\n",
              " {'address': '71 Avenue du Général Leclerc',\n",
              "  'zipcode': '75014',\n",
              "  'city': 'Paris',\n",
              "  'redirect_to_profile': False,\n",
              "  'id': 11595251,\n",
              "  'is_directory': False,\n",
              "  'id_label': 'search-result-11595251',\n",
              "  'top_specialities': ['1 chirurgien-dentiste'],\n",
              "  'telehealth': False,\n",
              "  'search_result_path': '/dentiste/paris/milton-ngangwele-mutandu?pid=practice-237010',\n",
              "  'search_result_slot_path': '/dentiste/paris/milton-ngangwele-mutandu?pid=practice-237010',\n",
              "  'name_with_title': 'Dr Milton NGANGWELE MUTANDU',\n",
              "  'is_organization': False,\n",
              "  'avatar_url': '//media.doctolib.com/image/upload/q_auto:eco,f_auto,w_160,h_160,c_fill,g_face/default_doctor_avatar_m.jpg',\n",
              "  'avatar_alt': 'Dr NGANGWELE MUTANDU, Chirurgien-dentiste à Paris 14',\n",
              "  'video_consultation_landing_page_path': '/video_consultation?origin=desktop_search_results_pract_card&source=milton-ngangwele-mutandu',\n",
              "  'is_profile_with_employee': False,\n",
              "  'regulation_sector': None,\n",
              "  'practice_id': 237010,\n",
              "  'practice_name': 'Centre Dentaire Nobel Santé + Paris 14 Alésia',\n",
              "  'button_label': 'Prendre rendez-vous',\n",
              "  'profile_organization_status_name': None,\n",
              "  'profile_id': 591639,\n",
              "  'exact_match': True,\n",
              "  'priority_speciality': False,\n",
              "  'position': {'lat': 48.8283903, 'lng': 2.3277083},\n",
              "  'speciality_id': 1,\n",
              "  'speciality_label': 'Chirurgien-dentiste',\n",
              "  'speciality_is_telehealth_core': False,\n",
              "  'speciality_is_covid_vaccination_speciality': False},\n",
              " {'address': '81 Avenue Jean Jaurès',\n",
              "  'zipcode': '75019',\n",
              "  'city': 'Paris',\n",
              "  'redirect_to_profile': False,\n",
              "  'id': 10679527,\n",
              "  'is_directory': False,\n",
              "  'id_label': 'search-result-10679527',\n",
              "  'top_specialities': ['1 chirurgien-dentiste'],\n",
              "  'telehealth': False,\n",
              "  'search_result_path': '/dentiste/paris/karen-smirou?pid=practice-8370',\n",
              "  'search_result_slot_path': '/dentiste/paris/karen-smirou?pid=practice-8370',\n",
              "  'name_with_title': 'Dr Karen SMIROU',\n",
              "  'is_organization': False,\n",
              "  'avatar_url': '//media.doctolib.com/image/upload/q_auto:eco,f_auto,w_160,h_160,c_fill,g_face/xvdqmjdlsym5udq9o0ld.jpg',\n",
              "  'avatar_alt': 'Dr SMIROU, Chirurgien-dentiste à Paris 19',\n",
              "  'video_consultation_landing_page_path': '/video_consultation?origin=desktop_search_results_pract_card&source=karen-smirou',\n",
              "  'is_profile_with_employee': False,\n",
              "  'regulation_sector': 'Conventionné',\n",
              "  'practice_id': 8370,\n",
              "  'practice_name': 'Cabinet dentaire du docteur Halfon Laurent',\n",
              "  'button_label': 'Prendre rendez-vous',\n",
              "  'profile_organization_status_name': None,\n",
              "  'profile_id': 217609,\n",
              "  'exact_match': True,\n",
              "  'priority_speciality': False,\n",
              "  'position': {'lat': 48.8851964, 'lng': 2.37849940000001},\n",
              "  'speciality_id': 1,\n",
              "  'speciality_label': 'Chirurgien-dentiste',\n",
              "  'speciality_is_telehealth_core': False,\n",
              "  'speciality_is_covid_vaccination_speciality': False},\n",
              " {'address': '323 Rue de Vaugirard',\n",
              "  'zipcode': '75015',\n",
              "  'city': 'Paris',\n",
              "  'redirect_to_profile': False,\n",
              "  'id': 10866818,\n",
              "  'is_directory': False,\n",
              "  'id_label': 'search-result-10866818',\n",
              "  'top_specialities': ['1 chirurgien-dentiste'],\n",
              "  'telehealth': False,\n",
              "  'search_result_path': '/dentiste/paris/danielle-sarfati-lasry',\n",
              "  'search_result_slot_path': '/dentiste/paris/danielle-sarfati-lasry',\n",
              "  'name_with_title': 'Dr Danielle Sarfati-Lasry',\n",
              "  'is_organization': False,\n",
              "  'avatar_url': '//media.doctolib.com/image/upload/q_auto:eco,f_auto,w_160,h_160,c_fill,g_face/yecpgrkk4cx8zywmysc2.jpg',\n",
              "  'avatar_alt': 'Dr Sarfati-Lasry, Chirurgien-dentiste à Paris 15',\n",
              "  'video_consultation_landing_page_path': '/video_consultation?origin=desktop_search_results_pract_card&source=danielle-sarfati-lasry',\n",
              "  'is_profile_with_employee': False,\n",
              "  'regulation_sector': 'Conventionné',\n",
              "  'practice_id': 52539,\n",
              "  'practice_name': '',\n",
              "  'button_label': 'Prendre rendez-vous',\n",
              "  'profile_organization_status_name': None,\n",
              "  'profile_id': 88832,\n",
              "  'exact_match': True,\n",
              "  'priority_speciality': False,\n",
              "  'position': {'lat': 48.8381744, 'lng': 2.298515599999973},\n",
              "  'speciality_id': 1,\n",
              "  'speciality_label': 'Chirurgien-dentiste',\n",
              "  'speciality_is_telehealth_core': False,\n",
              "  'speciality_is_covid_vaccination_speciality': False},\n",
              " {'address': '245 Avenue Daumesnil',\n",
              "  'zipcode': '75012',\n",
              "  'city': 'Paris',\n",
              "  'redirect_to_profile': False,\n",
              "  'id': 11711428,\n",
              "  'is_directory': False,\n",
              "  'id_label': 'search-result-11711428',\n",
              "  'top_specialities': ['1 chirurgien-dentiste'],\n",
              "  'telehealth': False,\n",
              "  'search_result_path': '/dentiste/paris/sacha-perez-paris-12',\n",
              "  'search_result_slot_path': '/dentiste/paris/sacha-perez-paris-12',\n",
              "  'name_with_title': 'Dr Sacha Perez',\n",
              "  'is_organization': False,\n",
              "  'avatar_url': '//media.doctolib.com/image/upload/q_auto:eco,f_auto,w_160,h_160,c_fill,g_face/mq6r4sghbu3tm5qcdkfu.jpg',\n",
              "  'avatar_alt': 'Dr Perez, Chirurgien-dentiste à Paris 12',\n",
              "  'video_consultation_landing_page_path': '/video_consultation?origin=desktop_search_results_pract_card&source=sacha-perez-paris-12',\n",
              "  'is_profile_with_employee': False,\n",
              "  'regulation_sector': 'Conventionné',\n",
              "  'practice_id': 249036,\n",
              "  'practice_name': 'Cabinet dentaire du docteur Benjamin Darmon',\n",
              "  'button_label': 'Prendre rendez-vous',\n",
              "  'profile_organization_status_name': None,\n",
              "  'profile_id': 459094,\n",
              "  'exact_match': True,\n",
              "  'priority_speciality': False,\n",
              "  'position': {'lat': 48.8377629, 'lng': 2.4013664},\n",
              "  'speciality_id': 1,\n",
              "  'speciality_label': 'Chirurgien-dentiste',\n",
              "  'speciality_is_telehealth_core': False,\n",
              "  'speciality_is_covid_vaccination_speciality': False},\n",
              " {'address': '76 Rue Notre Dame des Champs',\n",
              "  'zipcode': '75006',\n",
              "  'city': 'Paris',\n",
              "  'redirect_to_profile': False,\n",
              "  'id': 10659580,\n",
              "  'is_directory': False,\n",
              "  'id_label': 'search-result-10659580',\n",
              "  'top_specialities': ['1 chirurgien-dentiste'],\n",
              "  'telehealth': False,\n",
              "  'search_result_path': '/dentiste/paris/dan-rutbi',\n",
              "  'search_result_slot_path': '/dentiste/paris/dan-rutbi',\n",
              "  'name_with_title': 'Dr Dan Rutbi',\n",
              "  'is_organization': False,\n",
              "  'avatar_url': '//media.doctolib.com/image/upload/q_auto:eco,f_auto,w_160,h_160,c_fill,g_face/dbux3vsbqjfyout8ziqo.jpg',\n",
              "  'avatar_alt': 'Dr Rutbi, Chirurgien-dentiste à Paris 6',\n",
              "  'video_consultation_landing_page_path': '/video_consultation?origin=desktop_search_results_pract_card&source=dan-rutbi',\n",
              "  'is_profile_with_employee': False,\n",
              "  'regulation_sector': 'Conventionné',\n",
              "  'practice_id': 2184,\n",
              "  'practice_name': 'Clinique dentaire Notre Dame des Champs',\n",
              "  'button_label': 'Prendre rendez-vous',\n",
              "  'profile_organization_status_name': None,\n",
              "  'profile_id': 267,\n",
              "  'exact_match': True,\n",
              "  'priority_speciality': False,\n",
              "  'position': {'lat': 48.8423786, 'lng': 2.33190620000005},\n",
              "  'speciality_id': 1,\n",
              "  'speciality_label': 'Chirurgien-dentiste',\n",
              "  'speciality_is_telehealth_core': False,\n",
              "  'speciality_is_covid_vaccination_speciality': False},\n",
              " {'address': '28 Place Dupleix',\n",
              "  'zipcode': '75015',\n",
              "  'city': 'Paris',\n",
              "  'redirect_to_profile': False,\n",
              "  'id': 10663961,\n",
              "  'is_directory': False,\n",
              "  'id_label': 'search-result-10663961',\n",
              "  'top_specialities': ['1 chirurgien-dentiste'],\n",
              "  'telehealth': False,\n",
              "  'search_result_path': '/dentiste/paris/johann-pierrard',\n",
              "  'search_result_slot_path': '/dentiste/paris/johann-pierrard',\n",
              "  'name_with_title': 'Dr Johann Pierrard',\n",
              "  'is_organization': False,\n",
              "  'avatar_url': '//media.doctolib.com/image/upload/q_auto:eco,f_auto,w_160,h_160,c_fill,g_face/cs84edvoz0vybsqoqd5v.jpg',\n",
              "  'avatar_alt': 'Dr Pierrard, Chirurgien-dentiste à Paris 15',\n",
              "  'video_consultation_landing_page_path': '/video_consultation?origin=desktop_search_results_pract_card&source=johann-pierrard',\n",
              "  'is_profile_with_employee': False,\n",
              "  'regulation_sector': '',\n",
              "  'practice_id': 3024,\n",
              "  'practice_name': 'Cabinet du Docteur Johann Pierrard',\n",
              "  'button_label': 'Prendre rendez-vous',\n",
              "  'profile_organization_status_name': None,\n",
              "  'profile_id': 5402,\n",
              "  'exact_match': True,\n",
              "  'priority_speciality': False,\n",
              "  'position': {'lat': 48.8506744, 'lng': 2.295418100000006},\n",
              "  'speciality_id': 1,\n",
              "  'speciality_label': 'Chirurgien-dentiste',\n",
              "  'speciality_is_telehealth_core': False,\n",
              "  'speciality_is_covid_vaccination_speciality': False},\n",
              " {'address': '59 Avenue de la Bourdonnais',\n",
              "  'zipcode': '75007',\n",
              "  'city': 'Paris',\n",
              "  'redirect_to_profile': False,\n",
              "  'id': 11310378,\n",
              "  'is_directory': False,\n",
              "  'id_label': 'search-result-11310378',\n",
              "  'top_specialities': ['1 chirurgien-dentiste'],\n",
              "  'telehealth': False,\n",
              "  'search_result_path': '/dentiste/paris/gary-finelle',\n",
              "  'search_result_slot_path': '/dentiste/paris/gary-finelle',\n",
              "  'name_with_title': 'Dr Gary Finelle',\n",
              "  'is_organization': False,\n",
              "  'avatar_url': '//media.doctolib.com/image/upload/q_auto:eco,f_auto,w_160,h_160,c_fill,g_face/hnn3bsntte0nzya42vpl.jpg',\n",
              "  'avatar_alt': 'Dr Finelle, Chirurgien-dentiste à Paris 7',\n",
              "  'video_consultation_landing_page_path': '/video_consultation?origin=desktop_search_results_pract_card&source=gary-finelle',\n",
              "  'is_profile_with_employee': False,\n",
              "  'regulation_sector': 'Conventionné',\n",
              "  'practice_id': 25158,\n",
              "  'practice_name': 'Dental7Paris',\n",
              "  'button_label': 'Prendre rendez-vous',\n",
              "  'profile_organization_status_name': None,\n",
              "  'profile_id': 1006,\n",
              "  'exact_match': True,\n",
              "  'priority_speciality': False,\n",
              "  'position': {'lat': 48.857336, 'lng': 2.301180199999976},\n",
              "  'speciality_id': 1,\n",
              "  'speciality_label': 'Chirurgien-dentiste',\n",
              "  'speciality_is_telehealth_core': False,\n",
              "  'speciality_is_covid_vaccination_speciality': False},\n",
              " {'address': '4 Rue de Sontay',\n",
              "  'zipcode': '75116',\n",
              "  'city': 'Paris',\n",
              "  'redirect_to_profile': False,\n",
              "  'id': 11658215,\n",
              "  'is_directory': False,\n",
              "  'id_label': 'search-result-11658215',\n",
              "  'top_specialities': ['1 chirurgien-dentiste'],\n",
              "  'telehealth': False,\n",
              "  'search_result_path': '/dentiste/paris/mazouni-irena',\n",
              "  'search_result_slot_path': '/dentiste/paris/mazouni-irena',\n",
              "  'name_with_title': 'Dr Miglena Aleksandrova',\n",
              "  'is_organization': False,\n",
              "  'avatar_url': '//media.doctolib.com/image/upload/q_auto:eco,f_auto,w_160,h_160,c_fill,g_face/default_doctor_avatar_f.jpg',\n",
              "  'avatar_alt': 'Dr Aleksandrova, Chirurgien-dentiste à Paris 16',\n",
              "  'video_consultation_landing_page_path': '/video_consultation?origin=desktop_search_results_pract_card&source=mazouni-irena',\n",
              "  'is_profile_with_employee': False,\n",
              "  'regulation_sector': 'Conventionné',\n",
              "  'practice_id': 337084,\n",
              "  'practice_name': 'Cabinet dentaire Edith',\n",
              "  'button_label': 'Prendre rendez-vous',\n",
              "  'profile_organization_status_name': None,\n",
              "  'profile_id': 864253,\n",
              "  'exact_match': True,\n",
              "  'priority_speciality': False,\n",
              "  'position': {'lat': 48.8703854, 'lng': 2.2846272},\n",
              "  'speciality_id': 1,\n",
              "  'speciality_label': 'Chirurgien-dentiste',\n",
              "  'speciality_is_telehealth_core': False,\n",
              "  'speciality_is_covid_vaccination_speciality': False},\n",
              " {'address': '60 Rue Rémy Dumoncel',\n",
              "  'zipcode': '75014',\n",
              "  'city': 'Paris',\n",
              "  'redirect_to_profile': False,\n",
              "  'id': 11076807,\n",
              "  'is_directory': False,\n",
              "  'id_label': 'search-result-11076807',\n",
              "  'top_specialities': ['1 chirurgien-dentiste'],\n",
              "  'telehealth': False,\n",
              "  'search_result_path': '/dentiste/paris/lia-yacoub',\n",
              "  'search_result_slot_path': '/dentiste/paris/lia-yacoub',\n",
              "  'name_with_title': 'Dr Lia YACOUB',\n",
              "  'is_organization': False,\n",
              "  'avatar_url': '//media.doctolib.com/image/upload/q_auto:eco,f_auto,w_160,h_160,c_fill,g_face/nxh18uoctwcw5tk7oxpa.jpg',\n",
              "  'avatar_alt': 'Dr YACOUB, Chirurgien-dentiste à Paris 14',\n",
              "  'video_consultation_landing_page_path': '/video_consultation?origin=desktop_search_results_pract_card&source=lia-yacoub',\n",
              "  'is_profile_with_employee': False,\n",
              "  'regulation_sector': 'Conventionné',\n",
              "  'practice_id': 44967,\n",
              "  'practice_name': '',\n",
              "  'button_label': 'Prendre rendez-vous',\n",
              "  'profile_organization_status_name': None,\n",
              "  'profile_id': 31260,\n",
              "  'exact_match': True,\n",
              "  'priority_speciality': False,\n",
              "  'position': {'lat': 48.8296929, 'lng': 2.32909080000002},\n",
              "  'speciality_id': 1,\n",
              "  'speciality_label': 'Chirurgien-dentiste',\n",
              "  'speciality_is_telehealth_core': False,\n",
              "  'speciality_is_covid_vaccination_speciality': False},\n",
              " {'address': '126 Rue de Tolbiac',\n",
              "  'zipcode': '75013',\n",
              "  'city': 'Paris',\n",
              "  'redirect_to_profile': False,\n",
              "  'id': 10679641,\n",
              "  'is_directory': False,\n",
              "  'id_label': 'search-result-10679641',\n",
              "  'top_specialities': ['1 chirurgien-dentiste'],\n",
              "  'telehealth': False,\n",
              "  'search_result_path': '/dentiste/paris/didier-achour',\n",
              "  'search_result_slot_path': '/dentiste/paris/didier-achour',\n",
              "  'name_with_title': 'Dr Didier Achour',\n",
              "  'is_organization': False,\n",
              "  'avatar_url': '//media.doctolib.com/image/upload/q_auto:eco,f_auto,w_160,h_160,c_fill,g_face/ghqv2dlzvixfxwcsotpv.jpg',\n",
              "  'avatar_alt': 'Dr Achour, Chirurgien-dentiste à Paris 13',\n",
              "  'video_consultation_landing_page_path': '/video_consultation?origin=desktop_search_results_pract_card&source=didier-achour',\n",
              "  'is_profile_with_employee': False,\n",
              "  'regulation_sector': '',\n",
              "  'practice_id': 8446,\n",
              "  'practice_name': '',\n",
              "  'button_label': 'Prendre rendez-vous',\n",
              "  'profile_organization_status_name': None,\n",
              "  'profile_id': 14772,\n",
              "  'exact_match': True,\n",
              "  'priority_speciality': False,\n",
              "  'position': {'lat': 48.8263392, 'lng': 2.359193300000015},\n",
              "  'speciality_id': 1,\n",
              "  'speciality_label': 'Chirurgien-dentiste',\n",
              "  'speciality_is_telehealth_core': False,\n",
              "  'speciality_is_covid_vaccination_speciality': False},\n",
              " {'address': '91 Rue de Prony',\n",
              "  'zipcode': '75017',\n",
              "  'city': 'Paris',\n",
              "  'redirect_to_profile': False,\n",
              "  'id': 11298081,\n",
              "  'is_directory': False,\n",
              "  'id_label': 'search-result-11298081',\n",
              "  'top_specialities': ['1 chirurgien-dentiste'],\n",
              "  'telehealth': False,\n",
              "  'search_result_path': '/dentiste/paris/arnaud-delahaye?pid=practice-114566',\n",
              "  'search_result_slot_path': '/dentiste/paris/arnaud-delahaye?pid=practice-114566',\n",
              "  'name_with_title': 'Dr Arnaud DELAHAYE',\n",
              "  'is_organization': False,\n",
              "  'avatar_url': '//media.doctolib.com/image/upload/q_auto:eco,f_auto,w_160,h_160,c_fill,g_face/default_doctor_avatar_m.jpg',\n",
              "  'avatar_alt': 'Dr DELAHAYE, Chirurgien-dentiste à Paris 17',\n",
              "  'video_consultation_landing_page_path': '/video_consultation?origin=desktop_search_results_pract_card&source=arnaud-delahaye',\n",
              "  'is_profile_with_employee': False,\n",
              "  'regulation_sector': 'Conventionné',\n",
              "  'practice_id': 114566,\n",
              "  'practice_name': 'Dentylis - Paris 17 - Prony Pereire',\n",
              "  'button_label': 'Prendre rendez-vous',\n",
              "  'profile_organization_status_name': None,\n",
              "  'profile_id': 292973,\n",
              "  'exact_match': True,\n",
              "  'priority_speciality': False,\n",
              "  'position': {'lat': 48.8839798, 'lng': 2.299910800000021},\n",
              "  'speciality_id': 1,\n",
              "  'speciality_label': 'Chirurgien-dentiste',\n",
              "  'speciality_is_telehealth_core': False,\n",
              "  'speciality_is_covid_vaccination_speciality': False},\n",
              " {'address': '13 Boulevard de Magenta',\n",
              "  'zipcode': '75010',\n",
              "  'city': 'Paris',\n",
              "  'redirect_to_profile': False,\n",
              "  'id': 10766860,\n",
              "  'is_directory': False,\n",
              "  'id_label': 'search-result-10766860',\n",
              "  'top_specialities': ['1 chirurgien-dentiste'],\n",
              "  'telehealth': False,\n",
              "  'search_result_path': '/dentiste/paris-10/marc-sawicki',\n",
              "  'search_result_slot_path': '/dentiste/paris-10/marc-sawicki',\n",
              "  'name_with_title': 'Dr Marc Sawicki',\n",
              "  'is_organization': False,\n",
              "  'avatar_url': '//media.doctolib.com/image/upload/q_auto:eco,f_auto,w_160,h_160,c_fill,g_face/he47o3xxjguy7iy3ol5e.jpg',\n",
              "  'avatar_alt': 'Dr Sawicki, Chirurgien-dentiste à Paris 10',\n",
              "  'video_consultation_landing_page_path': '/video_consultation?origin=desktop_search_results_pract_card&source=marc-sawicki',\n",
              "  'is_profile_with_employee': False,\n",
              "  'regulation_sector': 'Conventionné',\n",
              "  'practice_id': 105816,\n",
              "  'practice_name': 'Cabinet du docteur Sawicki',\n",
              "  'button_label': 'Prendre rendez-vous',\n",
              "  'profile_organization_status_name': None,\n",
              "  'profile_id': 61780,\n",
              "  'exact_match': True,\n",
              "  'priority_speciality': False,\n",
              "  'position': {'lat': 48.870113, 'lng': 2.361211000000026},\n",
              "  'speciality_id': 1,\n",
              "  'speciality_label': 'Chirurgien-dentiste',\n",
              "  'speciality_is_telehealth_core': False,\n",
              "  'speciality_is_covid_vaccination_speciality': False},\n",
              " {'address': '74 Rue de la Croix Nivert',\n",
              "  'zipcode': '75015',\n",
              "  'city': 'Paris',\n",
              "  'redirect_to_profile': False,\n",
              "  'id': 11079375,\n",
              "  'is_directory': False,\n",
              "  'id_label': 'search-result-11079375',\n",
              "  'top_specialities': ['1 chirurgien-dentiste'],\n",
              "  'telehealth': False,\n",
              "  'search_result_path': '/dentiste/paris/eric-naouri',\n",
              "  'search_result_slot_path': '/dentiste/paris/eric-naouri',\n",
              "  'name_with_title': 'Dr Eric Naouri',\n",
              "  'is_organization': False,\n",
              "  'avatar_url': '//media.doctolib.com/image/upload/q_auto:eco,f_auto,w_160,h_160,c_fill,g_face/hpajas4yiutjitousx6z.jpg',\n",
              "  'avatar_alt': 'Dr Naouri, Chirurgien-dentiste à Paris 15',\n",
              "  'video_consultation_landing_page_path': '/video_consultation?origin=desktop_search_results_pract_card&source=eric-naouri',\n",
              "  'is_profile_with_employee': False,\n",
              "  'regulation_sector': '',\n",
              "  'practice_id': 10181,\n",
              "  'practice_name': '',\n",
              "  'button_label': 'Prendre rendez-vous',\n",
              "  'profile_organization_status_name': None,\n",
              "  'profile_id': 17443,\n",
              "  'exact_match': True,\n",
              "  'priority_speciality': False,\n",
              "  'position': {'lat': 48.8445811, 'lng': 2.296666800000025},\n",
              "  'speciality_id': 1,\n",
              "  'speciality_label': 'Chirurgien-dentiste',\n",
              "  'speciality_is_telehealth_core': False,\n",
              "  'speciality_is_covid_vaccination_speciality': False},\n",
              " {'address': '6 Place de Mexico',\n",
              "  'zipcode': '75116',\n",
              "  'city': 'Paris',\n",
              "  'redirect_to_profile': False,\n",
              "  'id': 10944895,\n",
              "  'is_directory': False,\n",
              "  'id_label': 'search-result-10944895',\n",
              "  'top_specialities': ['1 adjoint chirurgien-dentiste'],\n",
              "  'telehealth': False,\n",
              "  'search_result_path': '/interne-en-chirurgie-dentaire/levallois-perret/thibaud-gibier-levallois-perret',\n",
              "  'search_result_slot_path': '/interne-en-chirurgie-dentaire/levallois-perret/thibaud-gibier-levallois-perret',\n",
              "  'name_with_title': 'M. Thibaud GIBIER',\n",
              "  'is_organization': False,\n",
              "  'avatar_url': '//media.doctolib.com/image/upload/q_auto:eco,f_auto,w_160,h_160,c_fill,g_face/dr91rfblfjwvejefvuiq.jpg',\n",
              "  'avatar_alt': 'T. GIBIER, Interne en chirurgie dentaire à Paris 16',\n",
              "  'video_consultation_landing_page_path': '/video_consultation?origin=desktop_search_results_pract_card&source=thibaud-gibier-levallois-perret',\n",
              "  'is_profile_with_employee': False,\n",
              "  'regulation_sector': None,\n",
              "  'practice_id': 80767,\n",
              "  'practice_name': 'Cabinet dentaire Place de Mexico - Trocadéro',\n",
              "  'button_label': 'Prendre rendez-vous',\n",
              "  'profile_organization_status_name': None,\n",
              "  'profile_id': 222842,\n",
              "  'exact_match': True,\n",
              "  'priority_speciality': False,\n",
              "  'position': {'lat': 48.8657497, 'lng': 2.28331079999998},\n",
              "  'speciality_id': 1,\n",
              "  'speciality_label': 'Interne en chirurgie dentaire',\n",
              "  'speciality_is_telehealth_core': False,\n",
              "  'speciality_is_covid_vaccination_speciality': False},\n",
              " {'address': '88 Avenue du Docteur Arnold Netter',\n",
              "  'zipcode': '75012',\n",
              "  'city': 'Paris',\n",
              "  'redirect_to_profile': False,\n",
              "  'id': 11454524,\n",
              "  'is_directory': False,\n",
              "  'id_label': 'search-result-11454524',\n",
              "  'top_specialities': ['1 chirurgien-dentiste'],\n",
              "  'telehealth': False,\n",
              "  'search_result_path': '/dentiste/paris/olivia-zana',\n",
              "  'search_result_slot_path': '/dentiste/paris/olivia-zana',\n",
              "  'name_with_title': 'Dr Olivia ZANA',\n",
              "  'is_organization': False,\n",
              "  'avatar_url': '//media.doctolib.com/image/upload/q_auto:eco,f_auto,w_160,h_160,c_fill,g_face/palnuavn1posqwfijosh.jpg',\n",
              "  'avatar_alt': 'Dr ZANA, Chirurgien-dentiste à Paris 12',\n",
              "  'video_consultation_landing_page_path': '/video_consultation?origin=desktop_search_results_pract_card&source=olivia-zana',\n",
              "  'is_profile_with_employee': False,\n",
              "  'regulation_sector': 'Conventionné',\n",
              "  'practice_id': 276851,\n",
              "  'practice_name': '',\n",
              "  'button_label': 'Prendre rendez-vous',\n",
              "  'profile_organization_status_name': None,\n",
              "  'profile_id': 724206,\n",
              "  'exact_match': True,\n",
              "  'priority_speciality': False,\n",
              "  'position': {'lat': 48.8467299, 'lng': 2.4063119},\n",
              "  'speciality_id': 1,\n",
              "  'speciality_label': 'Chirurgien-dentiste',\n",
              "  'speciality_is_telehealth_core': False,\n",
              "  'speciality_is_covid_vaccination_speciality': False},\n",
              " {'address': '54 Rue du Père Corentin',\n",
              "  'zipcode': '75014',\n",
              "  'city': 'Paris',\n",
              "  'redirect_to_profile': False,\n",
              "  'id': 10972398,\n",
              "  'is_directory': False,\n",
              "  'id_label': 'search-result-10972398',\n",
              "  'top_specialities': ['7 chirurgiens-dentistes'],\n",
              "  'telehealth': False,\n",
              "  'search_result_path': '/centre-medical-et-dentaire/paris/doctocare?highlight%5Bspeciality_ids%5D%5B%5D=1&pid=practice-21793',\n",
              "  'search_result_slot_path': '/centre-medical-et-dentaire/paris/doctocare?highlight%5Bspeciality_ids%5D%5B%5D=1&pid=practice-21793',\n",
              "  'name_with_title': 'Doctocare',\n",
              "  'is_organization': True,\n",
              "  'avatar_url': '//media.doctolib.com/image/upload/q_auto:eco,f_auto,w_160,h_160,c_fill,g_face/a3smjsizawuhts1erlei.jpg',\n",
              "  'avatar_alt': 'Doctocare, Centre médical et dentaire à Paris 14',\n",
              "  'video_consultation_landing_page_path': '/video_consultation?origin=desktop_search_results_pract_card&source=doctocare',\n",
              "  'is_profile_with_employee': True,\n",
              "  'regulation_sector': 'Établissement conventionné',\n",
              "  'practice_id': 21793,\n",
              "  'practice_name': 'Centre dentaire - Corentin (Paris 14e)',\n",
              "  'button_label': 'Prendre rendez-vous',\n",
              "  'profile_organization_status_name': 'Centre médical et dentaire',\n",
              "  'profile_id': 39477,\n",
              "  'exact_match': True,\n",
              "  'priority_speciality': False,\n",
              "  'position': {'lat': 48.8248859, 'lng': 2.328383799999983},\n",
              "  'speciality_id': 1,\n",
              "  'speciality_label': None,\n",
              "  'speciality_is_telehealth_core': False,\n",
              "  'speciality_is_covid_vaccination_speciality': False},\n",
              " {'address': '16 Rue George Bernard Shaw',\n",
              "  'zipcode': '75015',\n",
              "  'city': 'Paris',\n",
              "  'redirect_to_profile': False,\n",
              "  'id': 10869024,\n",
              "  'is_directory': False,\n",
              "  'id_label': 'search-result-10869024',\n",
              "  'top_specialities': ['1 chirurgien-dentiste'],\n",
              "  'telehealth': False,\n",
              "  'search_result_path': '/dentiste/paris/michel-abi-harb-paris',\n",
              "  'search_result_slot_path': '/dentiste/paris/michel-abi-harb-paris',\n",
              "  'name_with_title': 'Dr Michel Abi Harb',\n",
              "  'is_organization': False,\n",
              "  'avatar_url': '//media.doctolib.com/image/upload/q_auto:eco,f_auto,w_160,h_160,c_fill,g_face/ahaz2fegzmdvvlla3jn1.jpg',\n",
              "  'avatar_alt': 'Dr Abi Harb, Chirurgien-dentiste à Paris 15',\n",
              "  'video_consultation_landing_page_path': '/video_consultation?origin=desktop_search_results_pract_card&source=michel-abi-harb-paris',\n",
              "  'is_profile_with_employee': False,\n",
              "  'regulation_sector': 'Conventionné',\n",
              "  'practice_id': 53208,\n",
              "  'practice_name': '',\n",
              "  'button_label': 'Prendre rendez-vous',\n",
              "  'profile_organization_status_name': None,\n",
              "  'profile_id': 89739,\n",
              "  'exact_match': True,\n",
              "  'priority_speciality': False,\n",
              "  'position': {'lat': 48.85187579999999, 'lng': 2.293312900000046},\n",
              "  'speciality_id': 1,\n",
              "  'speciality_label': 'Chirurgien-dentiste',\n",
              "  'speciality_is_telehealth_core': False,\n",
              "  'speciality_is_covid_vaccination_speciality': False},\n",
              " {'address': '9 Boulevard de Sébastopol',\n",
              "  'zipcode': '75001',\n",
              "  'city': 'Paris',\n",
              "  'redirect_to_profile': False,\n",
              "  'id': 11633229,\n",
              "  'is_directory': False,\n",
              "  'id_label': 'search-result-11633229',\n",
              "  'top_specialities': ['3 chirurgiens-dentistes'],\n",
              "  'telehealth': False,\n",
              "  'search_result_path': '/centre-dentaire/paris/centre-dentaire-dentimad-chatelet-rivoli?highlight%5Bspeciality_ids%5D%5B%5D=1',\n",
              "  'search_result_slot_path': '/centre-dentaire/paris/centre-dentaire-dentimad-chatelet-rivoli?highlight%5Bspeciality_ids%5D%5B%5D=1',\n",
              "  'name_with_title': 'Centre dentaire Dentimad - Châtelet-Rivoli',\n",
              "  'is_organization': True,\n",
              "  'avatar_url': '//media.doctolib.com/image/upload/q_auto:eco,f_auto,w_160,h_160,c_fill,g_face/o5leqaiqhphi8p5ji47y.jpg',\n",
              "  'avatar_alt': 'Centre dentaire Dentimad - Châtelet-Rivoli, Centre dentaire à Paris 1',\n",
              "  'video_consultation_landing_page_path': '/video_consultation?origin=desktop_search_results_pract_card&source=centre-dentaire-dentimad-chatelet-rivoli',\n",
              "  'is_profile_with_employee': True,\n",
              "  'regulation_sector': None,\n",
              "  'practice_id': 255337,\n",
              "  'practice_name': 'Centre dentaire Dentimad - Châtelet-Rivoli',\n",
              "  'button_label': 'Prendre rendez-vous',\n",
              "  'profile_organization_status_name': 'Centre dentaire',\n",
              "  'profile_id': 628228,\n",
              "  'exact_match': True,\n",
              "  'priority_speciality': False,\n",
              "  'position': {'lat': 48.8588755, 'lng': 2.348088},\n",
              "  'speciality_id': 1,\n",
              "  'speciality_label': None,\n",
              "  'speciality_is_telehealth_core': False,\n",
              "  'speciality_is_covid_vaccination_speciality': False}]"
            ]
          },
          "execution_count": 36,
          "metadata": {},
          "output_type": "execute_result"
        }
      ],
      "source": [
        "data['searchResults']"
      ]
    },
    {
      "cell_type": "markdown",
      "source": [
        "# Parite 4 : Gestion des bases de données"
      ],
      "metadata": {
        "id": "_7tibic7LsVM"
      }
    },
    {
      "cell_type": "code",
      "source": [
        "# Code à ajouter dans un fichier \"utiles.py\"\n",
        "\n",
        "import sqlalchemy as db\n",
        "\n",
        "class DataBase():\n",
        "    def __init__(self, name_database='database'):\n",
        "        self.name = name_database\n",
        "        self.url = f\"sqlite:///{name_database}.db\"\n",
        "        self.engine = db.create_engine(self.url)\n",
        "        self.connection = self.engine.connect()\n",
        "        self.metadata = db.MetaData()\n",
        "        self.table = self.engine.table_names()\n",
        "       \n",
        "    \n",
        "    def create_table(self, name_table, **kwargs):\n",
        "        colums = [db.Column(k, v, primary_key = True) if 'id_' in k else db.Column(k, v) for k,v in kwargs.items()]\n",
        "        db.Table(name_table, self.metadata, *colums)\n",
        "        self.metadata.create_all(self.engine)\n",
        "        print(f\"Table : '{name_table}' are created succesfully\")\n",
        "        \n",
        "    def read_table(self, name_table, return_keys=False):\n",
        "        table = db.Table(name_table, self.metadata, autoload=True, autoload_with=self.engine)\n",
        "        if return_keys:table.columns.keys() \n",
        "        else : return table\n",
        "        \n",
        "        \n",
        "    def add_row(self, name_table, **kwarrgs):\n",
        "        name_table = self.read_table(name_table)\n",
        "        \n",
        "        stmt = (\n",
        "            db.insert(name_table).\n",
        "            values(kwarrgs)\n",
        "        )\n",
        "        self.connection.execute(stmt)\n",
        "        print(f'Row id added')\n",
        "        \n",
        "        \n",
        "    def delete_row_by_id(self, table, id_):\n",
        "        name_table = self.read_table(name_table) \n",
        "        \n",
        "        stmt = (\n",
        "            db.delete(name_table).\n",
        "            where(students.c.id_ == id_)\n",
        "            )\n",
        "        self.connection.execute(stmt)\n",
        "        print(f'Row id {id_} deleted')\n",
        "        \n",
        "    def select_table(self, name_table):\n",
        "        name_table = self.read_table(name_table)       \n",
        "        stm = db.select([name_table])\n",
        "        return self.connection.execute(stm).fetchall()"
      ],
      "metadata": {
        "id": "OHu-jdDBLzdE"
      },
      "execution_count": null,
      "outputs": []
    },
    {
      "cell_type": "code",
      "source": [
        "# Import du package sqlalchemy permetant de gérer les bases de données\n",
        "import sqlalchemy as db\n",
        "\n",
        "# Import de la class DataBase permettant de créer des bases de données\n",
        "from utiles import DataBase\n",
        "\n",
        "# Instaciation de la base de données 'database.db'\n",
        "base = DataBase('database')\n",
        "\n",
        "# Création d'une table nommée \"Table_Test\" dans la base de données 'database.db'\n",
        "base.create_table('Table_Test', \n",
        "                 article_id=db.String,\n",
        "                 title=db.String,\n",
        "                 date=db.String,                \n",
        "                 )\n",
        "\n",
        "# Ajout d'une ligne dans la base de données 'database.db'\n",
        "base.add_row('Table_Test',\n",
        "            article_id='id_000',\n",
        "            title='Goolge',\n",
        "            date='15 octobre',  \n",
        "            )\n",
        "\n",
        "\n",
        "# Afficher les colonnes de la table\n",
        "data_read = base.read_table('Table_Test')\n",
        "data_read.columns.keys()\n",
        "\n",
        "# Afficher le contenu de la table 'Table_Test'\n",
        "base.select_table('Table_Test')"
      ],
      "metadata": {
        "id": "2xPtVDoSLvyJ"
      },
      "execution_count": null,
      "outputs": []
    }
  ],
  "metadata": {
    "colab": {
      "collapsed_sections": [],
      "provenance": []
    },
    "kernelspec": {
      "display_name": "Python 3 (ipykernel)",
      "language": "python",
      "name": "python3"
    },
    "language_info": {
      "codemirror_mode": {
        "name": "ipython",
        "version": 3
      },
      "file_extension": ".py",
      "mimetype": "text/x-python",
      "name": "python",
      "nbconvert_exporter": "python",
      "pygments_lexer": "ipython3",
      "version": "3.10.6"
    }
  },
  "nbformat": 4,
  "nbformat_minor": 0
}