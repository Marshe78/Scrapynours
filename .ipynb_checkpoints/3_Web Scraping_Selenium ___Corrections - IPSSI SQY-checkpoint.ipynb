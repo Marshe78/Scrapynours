{
 "cells": [
  {
   "cell_type": "markdown",
   "metadata": {
    "id": "qWUK25s9YosK"
   },
   "source": [
    "# 3. Web Scraping - Selenium\n",
    "\n",
    "<img src = 'https://xn--kvin-duranty-beb.fr/wp-content/uploads/2022/10/Web-Scraping-_-IPSSI-PRS-2.png' >\n",
    "\n",
    "\n",
    "\n",
    "Dans cet exercice, nous utiliserons la bibliothèque Selenium afin de collecter les données des sites internet suivants :\n",
    "\n",
    "- Partie 1 : [Doctolib](https://www.doctolib.fr/dentiste/paris)\n",
    "Nous continuerons là où Beautifullsoup montrait ses limites en collectant de manière automatisée toutes les pages référencées par Doctolib.\n",
    "\n",
    "\n",
    "- Partie 2 : [Les Echos](https://www.lesechos.fr/)\n",
    "Nous collecterons les articles correspondants à la thématiques `Intelligence artificielle`.\n",
    "\n",
    "\n",
    "\n",
    "# Partie 1 - [Doctolib](https://www.doctolib.fr/)\n",
    "\n",
    "\n",
    "<img src='https://upload.wikimedia.org/wikipedia/fr/thumb/7/7f/Logo-doctolib.svg/640px-Logo-doctolib.svg.png'>\n",
    "\n",
    "\n",
    "Les informations que nous souhaitons collecter sont les suivantes :\n",
    "- le nom du praticien\n",
    "- la profession du praticien\n",
    "- l'adresse du praticien\n",
    "- la ville du praticien\n",
    "- l'image de la fiche Doctolib du praticien\n",
    "\n",
    "\n",
    "\n",
    "## 3.1 Installez la bibliothèque Selenium\n",
    "Utilitisez la commande suivante dans votre terminal :  `pip install BeautifulSoup`"
   ]
  },
  {
   "cell_type": "markdown",
   "metadata": {
    "id": "lkzZyh_rOg6b"
   },
   "source": [
    "## 3.2 Télécharger le webdriver [chrome](https://chromedriver.chromium.org/downloads)\n",
    "Placez le ensuite dans le dossier Web-scraping"
   ]
  },
  {
   "cell_type": "markdown",
   "metadata": {
    "id": "yDgO9faeOg6b"
   },
   "source": [
    "## 3.3 Importer l'objet `webdriver`de la bibliothèque de `selenium`\n",
    "Importez également `By` depuis `selenium.webdriver.common.by`"
   ]
  },
  {
   "cell_type": "code",
   "execution_count": null,
   "metadata": {
    "id": "iEygErYlOg6c"
   },
   "outputs": [],
   "source": [
    "from selenium import webdriver\n",
    "from selenium.webdriver.common.by import By"
   ]
  },
  {
   "cell_type": "markdown",
   "metadata": {
    "id": "LUmqgqYeOg6d"
   },
   "source": [
    "## 3.4 Deffinissez une variable `driver = webdriver.Chrome(DRIVER_PATH)` \n",
    "Où `DRIVER_PATH` est le chemin du web driver téléchargé à la question **3.2** ==> `\"./chromedriver\"`."
   ]
  },
  {
   "cell_type": "code",
   "execution_count": null,
   "metadata": {
    "id": "8CpVeZIzOg6d",
    "outputId": "9c71750b-7691-4bec-c77f-2b9597f3d90c"
   },
   "outputs": [
    {
     "name": "stderr",
     "output_type": "stream",
     "text": [
      "/var/folders/xg/zbz96gcd1l318nfzl96_m9dm0000gn/T/ipykernel_20067/3229810231.py:2: DeprecationWarning: executable_path has been deprecated, please pass in a Service object\n",
      "  driver = webdriver.Chrome(DRIVER_PATH)\n"
     ]
    }
   ],
   "source": [
    "DRIVER_PATH = \"./chromedriver\"\n",
    "driver = webdriver.Chrome(DRIVER_PATH)"
   ]
  },
  {
   "cell_type": "markdown",
   "metadata": {
    "id": "SPzwp0rDOg6e"
   },
   "source": [
    "## 3.5 Utilisez la méthode `get(BASE_URL)` de l'objet `driver` puis notez vos observations.\n",
    "`BASE_URL`est le lien pointant vers le site de Doctolib `\"https://www.doctolib.fr/dentiste/paris\"`"
   ]
  },
  {
   "cell_type": "code",
   "execution_count": null,
   "metadata": {
    "id": "FYZpHEr3Og6e"
   },
   "outputs": [],
   "source": [
    "BASE_URL = \"https://www.doctolib.fr/dentiste/paris\"\n",
    "driver.get(BASE_URL)"
   ]
  },
  {
   "cell_type": "code",
   "execution_count": null,
   "metadata": {
    "id": "lKd_CF77Og6f",
    "outputId": "62c0839a-49a6-41b6-f45d-0db463e46e0d"
   },
   "outputs": [
    {
     "data": {
      "text/plain": [
       "'b0ee40c6fc4eb015bed8077fd7648b6e'"
      ]
     },
     "execution_count": 4,
     "metadata": {},
     "output_type": "execute_result"
    }
   ],
   "source": [
    "id_ = driver.session_id\n",
    "id_"
   ]
  },
  {
   "cell_type": "markdown",
   "metadata": {
    "id": "vFvxTx5GOg6f"
   },
   "source": [
    "## 3.6 Affichez l'adresse url courante ainsi que le titre de la page."
   ]
  },
  {
   "cell_type": "code",
   "execution_count": null,
   "metadata": {
    "id": "JKQ34lLVOg6f",
    "outputId": "8803966c-a7f0-4371-a113-ed3cf27a6ee9"
   },
   "outputs": [
    {
     "data": {
      "text/plain": [
       "'https://www.doctolib.fr/dentiste/paris'"
      ]
     },
     "execution_count": 7,
     "metadata": {},
     "output_type": "execute_result"
    }
   ],
   "source": [
    "driver.current_url"
   ]
  },
  {
   "cell_type": "markdown",
   "metadata": {
    "id": "H-705ezMOg6f"
   },
   "source": [
    "## 3.7 Récupérez dans une variable `selection` la liste des praticients présents sur la page\n",
    "Utilisez la méthéode `find_elements`, cette méthode prend deux arguments `By.CLASS_NAME` ainsi que le nom de la class recherchée sur la page."
   ]
  },
  {
   "cell_type": "code",
   "execution_count": null,
   "metadata": {
    "id": "OxU-bgqOOg6g",
    "outputId": "a988365b-7a6b-4991-cdb4-d20e17d14abe"
   },
   "outputs": [
    {
     "data": {
      "text/plain": [
       "[<selenium.webdriver.remote.webelement.WebElement (session=\"b0ee40c6fc4eb015bed8077fd7648b6e\", element=\"01448bf0-b077-4fe3-9f9c-754a9f030103\")>,\n",
       " <selenium.webdriver.remote.webelement.WebElement (session=\"b0ee40c6fc4eb015bed8077fd7648b6e\", element=\"98f96612-8a1c-41dc-b97b-10a13c278f2b\")>,\n",
       " <selenium.webdriver.remote.webelement.WebElement (session=\"b0ee40c6fc4eb015bed8077fd7648b6e\", element=\"32a3912d-4cf5-4ca0-b90f-570b7ababaaf\")>,\n",
       " <selenium.webdriver.remote.webelement.WebElement (session=\"b0ee40c6fc4eb015bed8077fd7648b6e\", element=\"595be926-25c5-4d35-b4dc-896d9a33c067\")>,\n",
       " <selenium.webdriver.remote.webelement.WebElement (session=\"b0ee40c6fc4eb015bed8077fd7648b6e\", element=\"9c829445-388f-4034-a845-ddcea5721856\")>,\n",
       " <selenium.webdriver.remote.webelement.WebElement (session=\"b0ee40c6fc4eb015bed8077fd7648b6e\", element=\"11e85c32-ffe5-4292-891e-141fbbac3496\")>,\n",
       " <selenium.webdriver.remote.webelement.WebElement (session=\"b0ee40c6fc4eb015bed8077fd7648b6e\", element=\"f78a3c83-2a4a-4cc0-9197-189e51d245a6\")>,\n",
       " <selenium.webdriver.remote.webelement.WebElement (session=\"b0ee40c6fc4eb015bed8077fd7648b6e\", element=\"75b96c09-1dfa-4415-b833-7fdddb3ad8ff\")>,\n",
       " <selenium.webdriver.remote.webelement.WebElement (session=\"b0ee40c6fc4eb015bed8077fd7648b6e\", element=\"87aab7e4-290a-4e8b-a939-7d1c129b5d18\")>,\n",
       " <selenium.webdriver.remote.webelement.WebElement (session=\"b0ee40c6fc4eb015bed8077fd7648b6e\", element=\"98ab7b00-c1b5-4466-b9f2-6541a43948fb\")>,\n",
       " <selenium.webdriver.remote.webelement.WebElement (session=\"b0ee40c6fc4eb015bed8077fd7648b6e\", element=\"6358cd69-8bbd-431f-9dba-653761e4841d\")>,\n",
       " <selenium.webdriver.remote.webelement.WebElement (session=\"b0ee40c6fc4eb015bed8077fd7648b6e\", element=\"bb51f8ad-3923-4d91-ac0c-2f9a81d9421e\")>,\n",
       " <selenium.webdriver.remote.webelement.WebElement (session=\"b0ee40c6fc4eb015bed8077fd7648b6e\", element=\"65ffe19f-0621-4bda-8262-95b7b64287ee\")>,\n",
       " <selenium.webdriver.remote.webelement.WebElement (session=\"b0ee40c6fc4eb015bed8077fd7648b6e\", element=\"07a243ab-623c-48d4-bb66-d24b54cf168d\")>,\n",
       " <selenium.webdriver.remote.webelement.WebElement (session=\"b0ee40c6fc4eb015bed8077fd7648b6e\", element=\"b281b6f8-b99e-440e-8a2b-26c2677d3bee\")>,\n",
       " <selenium.webdriver.remote.webelement.WebElement (session=\"b0ee40c6fc4eb015bed8077fd7648b6e\", element=\"7eed34d6-c376-4289-bb1d-a6a477456065\")>,\n",
       " <selenium.webdriver.remote.webelement.WebElement (session=\"b0ee40c6fc4eb015bed8077fd7648b6e\", element=\"18d0ed09-ecf7-4677-b1be-ac09312f96fa\")>,\n",
       " <selenium.webdriver.remote.webelement.WebElement (session=\"b0ee40c6fc4eb015bed8077fd7648b6e\", element=\"23531924-9603-4ac5-b20c-4ac85b5fea94\")>,\n",
       " <selenium.webdriver.remote.webelement.WebElement (session=\"b0ee40c6fc4eb015bed8077fd7648b6e\", element=\"d49327c4-5e2e-42e3-a9f0-8ef3db1a2102\")>,\n",
       " <selenium.webdriver.remote.webelement.WebElement (session=\"b0ee40c6fc4eb015bed8077fd7648b6e\", element=\"399a3bd9-1e9b-486d-9eb7-7a6c17a5e770\")>]"
      ]
     },
     "execution_count": 8,
     "metadata": {},
     "output_type": "execute_result"
    }
   ],
   "source": [
    "selection = driver.find_elements(By.CLASS_NAME, 'dl-search-result')\n",
    "selection"
   ]
  },
  {
   "cell_type": "markdown",
   "metadata": {
    "id": "fTrQx4RdOg6g"
   },
   "source": [
    "## 3.8 Affichez les information du premier élément de `selection` via son instance `text``."
   ]
  },
  {
   "cell_type": "code",
   "execution_count": null,
   "metadata": {
    "id": "18FeqSXLOg6g",
    "outputId": "91afc005-1f16-4186-931c-771ac545ae6f"
   },
   "outputs": [
    {
     "data": {
      "text/plain": [
       "['Dr Muhammad BESEISSO',\n",
       " 'Chirurgien-dentiste',\n",
       " '59 bis Rue de Rochechouart',\n",
       " '75009 Paris',\n",
       " 'Conventionné',\n",
       " 'PRENDRE RENDEZ-VOUS']"
      ]
     },
     "execution_count": 9,
     "metadata": {},
     "output_type": "execute_result"
    }
   ],
   "source": [
    "driver.find_elements(By.CLASS_NAME, 'dl-search-result')[0].text.split('\\n')"
   ]
  },
  {
   "cell_type": "code",
   "execution_count": null,
   "metadata": {
    "id": "T9uthX8UOg6g",
    "outputId": "9a894bf5-b18b-4252-fec5-95f974d34ef8"
   },
   "outputs": [
    {
     "data": {
      "text/plain": [
       "['Centre de Santé République (CSR)',\n",
       " 'Centre de santé',\n",
       " '2 chirurgiens-dentistes',\n",
       " '13 Rue Yves Toudic',\n",
       " '75010 Paris',\n",
       " 'Établissement conventionné',\n",
       " 'PRENDRE RENDEZ-VOUS']"
      ]
     },
     "execution_count": 10,
     "metadata": {},
     "output_type": "execute_result"
    }
   ],
   "source": [
    "driver.find_elements(By.CLASS_NAME, 'dl-search-result')[-1].text.split('\\n')"
   ]
  },
  {
   "cell_type": "markdown",
   "metadata": {
    "id": "SikOH6F0Og6g"
   },
   "source": [
    "## 3.9 Recherchez à nouveau à l'aide de la méthode `find_element` la photo du premier praticien figurant dans la liste ``selection``."
   ]
  },
  {
   "cell_type": "code",
   "execution_count": null,
   "metadata": {
    "id": "nAzQqPb8Og6h",
    "outputId": "4c124a5c-e9c2-4105-bd86-30cd31a68e06"
   },
   "outputs": [
    {
     "data": {
      "text/plain": [
       "<selenium.webdriver.remote.webelement.WebElement (session=\"b0ee40c6fc4eb015bed8077fd7648b6e\", element=\"8d7cc0a5-5fd0-4826-bcb3-88ac2302c2cb\")>"
      ]
     },
     "execution_count": 11,
     "metadata": {},
     "output_type": "execute_result"
    }
   ],
   "source": [
    "driver.find_elements(By.CLASS_NAME, \n",
    "                     'dl-search-result-presentation')[0].find_element(By.CLASS_NAME, \n",
    "                                                                      'dl-image')"
   ]
  },
  {
   "cell_type": "markdown",
   "metadata": {
    "id": "pLyOHOoEOg6h"
   },
   "source": [
    "## 3.10 Récupérez à présent le lien de cette image en utilisant la méthode `get_attribute`."
   ]
  },
  {
   "cell_type": "code",
   "execution_count": null,
   "metadata": {
    "id": "Ks_JxlILOg6h",
    "outputId": "96880e24-5854-405c-cf9d-1fca998a6eae"
   },
   "outputs": [
    {
     "data": {
      "text/plain": [
       "'https://media.doctolib.com/image/upload/q_auto:eco,f_auto,w_160,h_160,c_fill,g_face/nebsb2ahbrs4g3minql6.jpg'"
      ]
     },
     "execution_count": 12,
     "metadata": {},
     "output_type": "execute_result"
    }
   ],
   "source": [
    "driver.find_elements(By.CLASS_NAME, \n",
    "                     'dl-search-result-presentation')[0].find_element(By.CLASS_NAME, \n",
    "                                                                      'dl-image').get_attribute('src')"
   ]
  },
  {
   "cell_type": "markdown",
   "metadata": {
    "id": "nmYW2LYXOg6h"
   },
   "source": [
    "## 3.11 Créez une fonction `collect_data` qui renvoie un fichier `json` contenant les informations de tous les praticiens ainsi que leurs photos de profil."
   ]
  },
  {
   "cell_type": "code",
   "execution_count": null,
   "metadata": {
    "id": "eDH6Bm43Og6h"
   },
   "outputs": [],
   "source": [
    "def collect_data(selection):\n",
    "    data = {}\n",
    "\n",
    "    for u in selection:\n",
    "        id_ = u.get_attribute('id')\n",
    "        data_praticien = {}\n",
    "        \n",
    "        data_praticien['name'] = u.text.split('\\n')[0]\n",
    "        data_praticien['job'] = u.text.split('\\n')[1]\n",
    "        data_praticien['adress'] = u.text.split('\\n')[2]\n",
    "        data_praticien['city'] = u.text.split('\\n')[3]\n",
    "        data_praticien['img'] = u.find_element(By.CLASS_NAME, 'dl-image').get_attribute('src')\n",
    "        \n",
    "        data[id_] = data_praticien\n",
    "\n",
    "    return data"
   ]
  },
  {
   "cell_type": "code",
   "execution_count": null,
   "metadata": {
    "id": "DXrDd_lSOg6h",
    "outputId": "7c4eff34-ca81-40e1-f53c-c2dd0733c80e"
   },
   "outputs": [
    {
     "data": {
      "text/plain": [
       "{'search-result-1183855': {'name': 'Jack BEN GUIGUI',\n",
       "  'job': 'Chirurgien-dentiste',\n",
       "  'adress': '20 Rue de Rivoli',\n",
       "  'city': '75004 Paris',\n",
       "  'img': 'https://media.doctolib.com/image/upload/q_auto:eco,f_auto,w_160,h_160,c_fill,g_face/default_doctor_avatar_m.jpg'},\n",
       " 'search-result-116905': {'name': 'Dr Alain AFLALO',\n",
       "  'job': 'Chirurgien-dentiste',\n",
       "  'adress': '79 BOULEVARD DE GRENELLE',\n",
       "  'city': '75015 PARIS',\n",
       "  'img': 'https://media.doctolib.com/image/upload/q_auto:eco,f_auto,w_160,h_160,c_fill,g_face/l0dfhw0bhuozrv7nh2lm.jpg'},\n",
       " 'search-result-145485': {'name': 'Dr Jacques NAHON',\n",
       "  'job': 'Chirurgien-dentiste',\n",
       "  'adress': '73 Avenue Paul Doumer',\n",
       "  'city': '75116 Paris',\n",
       "  'img': 'https://media.doctolib.com/image/upload/q_auto:eco,f_auto,w_160,h_160,c_fill,g_face/iob4bpezjuf4eztsb02i.jpg'},\n",
       " 'search-result-426758': {'name': 'Dr Caroline Chenneveau',\n",
       "  'job': 'Chirurgien-dentiste',\n",
       "  'adress': '97 Rue de Belleville',\n",
       "  'city': '75019 Paris',\n",
       "  'img': 'https://media.doctolib.com/image/upload/q_auto:eco,f_auto,w_160,h_160,c_fill,g_face/rarvuib8fddtyahprt7s.jpg'},\n",
       " 'search-result-572865': {'name': 'Dr Pierre Zhang',\n",
       "  'job': 'Chirurgien-dentiste',\n",
       "  'adress': '28 Villa de Lourcine',\n",
       "  'city': '75014 Paris',\n",
       "  'img': 'https://media.doctolib.com/image/upload/q_auto:eco,f_auto,w_160,h_160,c_fill,g_face/jejw0tcrvgkgzgkkcs6o.jpg'},\n",
       " 'search-result-28309': {'name': 'Dr Emmanuel RONSSERAY',\n",
       "  'job': 'Chirurgien-dentiste',\n",
       "  'adress': '17 Rue la Fayette',\n",
       "  'city': '75009 Paris',\n",
       "  'img': 'https://media.doctolib.com/image/upload/q_auto:eco,f_auto,w_160,h_160,c_fill,g_face/exssgidvvy9kyclb239b.jpg'},\n",
       " 'search-result-1008811': {'name': 'Dr Deborah GENTILE',\n",
       "  'job': 'Chirurgien-dentiste',\n",
       "  'adress': '119 Avenue de Clichy',\n",
       "  'city': '75017 Paris',\n",
       "  'img': 'https://media.doctolib.com/image/upload/q_auto:eco,f_auto,w_160,h_160,c_fill,g_face/zc0xvfewbzcjymupsl0w.jpg'},\n",
       " 'search-result-410831': {'name': 'Centre dentaire du château',\n",
       "  'job': 'Centre dentaire',\n",
       "  'adress': '5 chirurgiens-dentistes',\n",
       "  'city': '116 Rue de Rivoli',\n",
       "  'img': 'https://media.doctolib.com/image/upload/q_auto:eco,f_auto,w_160,h_160,c_fill,g_face/nvxv3cbkmy6ctz5qhciw.jpg'},\n",
       " 'search-result-1138920': {'name': 'Dr Jean-Luc Gaussen',\n",
       "  'job': 'Chirurgien-dentiste',\n",
       "  'adress': '16 Avenue du Général Leclerc',\n",
       "  'city': '75014 Paris',\n",
       "  'img': 'https://media.doctolib.com/image/upload/q_auto:eco,f_auto,w_160,h_160,c_fill,g_face/rznzjktr39aak36o90dd.jpg'},\n",
       " 'search-result-430641': {'name': 'Dr Marjorie BLOCH',\n",
       "  'job': 'Chirurgien-dentiste',\n",
       "  'adress': '22 Rue de Turin',\n",
       "  'city': '75008 Paris',\n",
       "  'img': 'https://media.doctolib.com/image/upload/q_auto:eco,f_auto,w_160,h_160,c_fill,g_face/tvc6fpcgqbcekv54nlkj.jpg'},\n",
       " 'search-result-250188': {'name': 'Dr Sarah DONAY',\n",
       "  'job': 'Chirurgien-dentiste',\n",
       "  'adress': '159 Rue de Charonne',\n",
       "  'city': '75011 Paris',\n",
       "  'img': 'https://media.doctolib.com/image/upload/q_auto:eco,f_auto,w_160,h_160,c_fill,g_face/hbyvutmkpg7ij4ln80f3.jpg'},\n",
       " 'search-result-118169': {'name': 'Dr Sébastien ROUMI',\n",
       "  'job': 'Chirurgien-dentiste',\n",
       "  'adress': '161 Boulevard Voltaire',\n",
       "  'city': '75011 Paris',\n",
       "  'img': 'https://media.doctolib.com/image/upload/q_auto:eco,f_auto,w_160,h_160,c_fill,g_face/i5srly7dmu78tsw6fv5b.jpg'},\n",
       " 'search-result-315862': {'name': 'Centre Dentaire Ternes Wagram',\n",
       "  'job': 'Centre dentaire',\n",
       "  'adress': '5 chirurgiens-dentistes',\n",
       "  'city': '21 Avenue des Ternes',\n",
       "  'img': 'https://media.doctolib.com/image/upload/q_auto:eco,f_auto,w_160,h_160,c_fill,g_face/j0l9b2w1rsvmlyflyflu.jpg'},\n",
       " 'search-result-1125677': {'name': 'Dr Anis REMADI',\n",
       "  'job': 'Chirurgien-dentiste',\n",
       "  'adress': '17 Rue de la Tremoille',\n",
       "  'city': '75008 Paris',\n",
       "  'img': 'https://media.doctolib.com/image/upload/q_auto:eco,f_auto,w_160,h_160,c_fill,g_face/wv7jku9eydjyww4sxxzy.jpg'},\n",
       " 'search-result-50244': {'name': 'Dr Marion BRIAND',\n",
       "  'job': 'Chirurgien-dentiste',\n",
       "  'adress': '5 Rue Nicolo',\n",
       "  'city': '75116 Paris',\n",
       "  'img': 'https://media.doctolib.com/image/upload/q_auto:eco,f_auto,w_160,h_160,c_fill,g_face/ww7yovtxlyln6ju4jvs7.jpg'},\n",
       " 'search-result-1141656': {'name': 'Dr Renaud BORDIER',\n",
       "  'job': 'Chirurgien-dentiste',\n",
       "  'adress': '5 Rue du Havre',\n",
       "  'city': '75008 Paris',\n",
       "  'img': 'https://media.doctolib.com/image/upload/q_auto:eco,f_auto,w_160,h_160,c_fill,g_face/tqy7ear61zziw0ehkmkn.jpg'},\n",
       " 'search-result-168846': {'name': 'Dr Paola SORIA',\n",
       "  'job': 'Orthodontiste',\n",
       "  'adress': '11 Rue Gilbert Cesbron',\n",
       "  'city': '75017 Paris',\n",
       "  'img': 'https://media.doctolib.com/image/upload/q_auto:eco,f_auto,w_160,h_160,c_fill,g_face/ufez5bd59hhwnuw9nyig.jpg'},\n",
       " 'search-result-24149': {'name': 'Dr Léon Amzalag',\n",
       "  'job': 'Chirurgien-dentiste',\n",
       "  'adress': '15 Rue Gaillon',\n",
       "  'city': '75002 Paris',\n",
       "  'img': 'https://media.doctolib.com/image/upload/q_auto:eco,f_auto,w_160,h_160,c_fill,g_face/fme3ty0ub6pawglewo2w.jpg'},\n",
       " 'search-result-1161390': {'name': 'Centre dentaire Paris 12 - Gare de Lyon - Dentego',\n",
       "  'job': 'Centre dentaire',\n",
       "  'adress': '7 chirurgiens-dentistes',\n",
       "  'city': '5 Rue de Lyon',\n",
       "  'img': 'https://media.doctolib.com/image/upload/q_auto:eco,f_auto,w_160,h_160,c_fill,g_face/kcsauxavmuxyyxey5nxd.jpg'},\n",
       " 'search-result-319958': {'name': 'Dr François Evenou',\n",
       "  'job': 'Chirurgien-dentiste',\n",
       "  'adress': '6 ter Boulevard Delessert',\n",
       "  'city': '75016 Paris',\n",
       "  'img': 'https://media.doctolib.com/image/upload/q_auto:eco,f_auto,w_160,h_160,c_fill,g_face/gngmxdoo39azd5gtp6xu.jpg'}}"
      ]
     },
     "execution_count": 32,
     "metadata": {},
     "output_type": "execute_result"
    }
   ],
   "source": [
    "data = collect_data(selection)\n",
    "len(data), data"
   ]
  },
  {
   "cell_type": "markdown",
   "metadata": {
    "id": "r-Ss22SfOg6i"
   },
   "source": [
    "## 3.9 Automatisez la collecte sur les pages 5 premières pages de résultats."
   ]
  },
  {
   "cell_type": "code",
   "execution_count": null,
   "metadata": {
    "id": "X4lMipeJOg6i",
    "outputId": "934a6d3f-8f85-416c-8dbf-06b83318a91d"
   },
   "outputs": [
    {
     "data": {
      "text/plain": [
       "{0: {'name': 'Jack BEN GUIGUI',\n",
       "  'job': 'Chirurgien-dentiste',\n",
       "  'adress': '20 Rue de Rivoli',\n",
       "  'city': '75004 Paris',\n",
       "  'img': 'https://media.doctolib.com/image/upload/q_auto:eco,f_auto,w_160,h_160,c_fill,g_face/default_doctor_avatar_m.jpg'},\n",
       " 1: {'name': 'Dr Alain AFLALO',\n",
       "  'job': 'Chirurgien-dentiste',\n",
       "  'adress': '79 BOULEVARD DE GRENELLE',\n",
       "  'city': '75015 PARIS',\n",
       "  'img': 'https://media.doctolib.com/image/upload/q_auto:eco,f_auto,w_160,h_160,c_fill,g_face/l0dfhw0bhuozrv7nh2lm.jpg'},\n",
       " 2: {'name': 'Dr Jacques NAHON',\n",
       "  'job': 'Chirurgien-dentiste',\n",
       "  'adress': '73 Avenue Paul Doumer',\n",
       "  'city': '75116 Paris',\n",
       "  'img': 'https://media.doctolib.com/image/upload/q_auto:eco,f_auto,w_160,h_160,c_fill,g_face/iob4bpezjuf4eztsb02i.jpg'},\n",
       " 3: {'name': 'Dr Caroline Chenneveau',\n",
       "  'job': 'Chirurgien-dentiste',\n",
       "  'adress': '97 Rue de Belleville',\n",
       "  'city': '75019 Paris',\n",
       "  'img': 'https://media.doctolib.com/image/upload/q_auto:eco,f_auto,w_160,h_160,c_fill,g_face/rarvuib8fddtyahprt7s.jpg'},\n",
       " 4: {'name': 'Dr Pierre Zhang',\n",
       "  'job': 'Chirurgien-dentiste',\n",
       "  'adress': '28 Villa de Lourcine',\n",
       "  'city': '75014 Paris',\n",
       "  'img': 'https://media.doctolib.com/image/upload/q_auto:eco,f_auto,w_160,h_160,c_fill,g_face/jejw0tcrvgkgzgkkcs6o.jpg'},\n",
       " 5: {'name': 'Dr Emmanuel RONSSERAY',\n",
       "  'job': 'Chirurgien-dentiste',\n",
       "  'adress': '17 Rue la Fayette',\n",
       "  'city': '75009 Paris',\n",
       "  'img': 'https://media.doctolib.com/image/upload/q_auto:eco,f_auto,w_160,h_160,c_fill,g_face/exssgidvvy9kyclb239b.jpg'},\n",
       " 6: {'name': 'Dr Deborah GENTILE',\n",
       "  'job': 'Chirurgien-dentiste',\n",
       "  'adress': '119 Avenue de Clichy',\n",
       "  'city': '75017 Paris',\n",
       "  'img': 'https://media.doctolib.com/image/upload/q_auto:eco,f_auto,w_160,h_160,c_fill,g_face/zc0xvfewbzcjymupsl0w.jpg'},\n",
       " 7: {'name': 'Centre dentaire du château',\n",
       "  'job': 'Centre dentaire',\n",
       "  'adress': '5 chirurgiens-dentistes',\n",
       "  'city': '116 Rue de Rivoli',\n",
       "  'img': 'https://media.doctolib.com/image/upload/q_auto:eco,f_auto,w_160,h_160,c_fill,g_face/nvxv3cbkmy6ctz5qhciw.jpg'},\n",
       " 8: {'name': 'Dr Jean-Luc Gaussen',\n",
       "  'job': 'Chirurgien-dentiste',\n",
       "  'adress': '16 Avenue du Général Leclerc',\n",
       "  'city': '75014 Paris',\n",
       "  'img': 'https://media.doctolib.com/image/upload/q_auto:eco,f_auto,w_160,h_160,c_fill,g_face/rznzjktr39aak36o90dd.jpg'},\n",
       " 9: {'name': 'Dr Marjorie BLOCH',\n",
       "  'job': 'Chirurgien-dentiste',\n",
       "  'adress': '22 Rue de Turin',\n",
       "  'city': '75008 Paris',\n",
       "  'img': 'https://media.doctolib.com/image/upload/q_auto:eco,f_auto,w_160,h_160,c_fill,g_face/tvc6fpcgqbcekv54nlkj.jpg'},\n",
       " 10: {'name': 'Dr Sarah DONAY',\n",
       "  'job': 'Chirurgien-dentiste',\n",
       "  'adress': '159 Rue de Charonne',\n",
       "  'city': '75011 Paris',\n",
       "  'img': 'https://media.doctolib.com/image/upload/q_auto:eco,f_auto,w_160,h_160,c_fill,g_face/hbyvutmkpg7ij4ln80f3.jpg'},\n",
       " 11: {'name': 'Dr Sébastien ROUMI',\n",
       "  'job': 'Chirurgien-dentiste',\n",
       "  'adress': '161 Boulevard Voltaire',\n",
       "  'city': '75011 Paris',\n",
       "  'img': 'https://media.doctolib.com/image/upload/q_auto:eco,f_auto,w_160,h_160,c_fill,g_face/i5srly7dmu78tsw6fv5b.jpg'},\n",
       " 12: {'name': 'Centre Dentaire Ternes Wagram',\n",
       "  'job': 'Centre dentaire',\n",
       "  'adress': '5 chirurgiens-dentistes',\n",
       "  'city': '21 Avenue des Ternes',\n",
       "  'img': 'https://media.doctolib.com/image/upload/q_auto:eco,f_auto,w_160,h_160,c_fill,g_face/j0l9b2w1rsvmlyflyflu.jpg'},\n",
       " 13: {'name': 'Dr Anis REMADI',\n",
       "  'job': 'Chirurgien-dentiste',\n",
       "  'adress': '17 Rue de la Tremoille',\n",
       "  'city': '75008 Paris',\n",
       "  'img': 'https://media.doctolib.com/image/upload/q_auto:eco,f_auto,w_160,h_160,c_fill,g_face/wv7jku9eydjyww4sxxzy.jpg'},\n",
       " 14: {'name': 'Dr Marion BRIAND',\n",
       "  'job': 'Chirurgien-dentiste',\n",
       "  'adress': '5 Rue Nicolo',\n",
       "  'city': '75116 Paris',\n",
       "  'img': 'https://media.doctolib.com/image/upload/q_auto:eco,f_auto,w_160,h_160,c_fill,g_face/ww7yovtxlyln6ju4jvs7.jpg'},\n",
       " 15: {'name': 'Dr Renaud BORDIER',\n",
       "  'job': 'Chirurgien-dentiste',\n",
       "  'adress': '5 Rue du Havre',\n",
       "  'city': '75008 Paris',\n",
       "  'img': 'https://media.doctolib.com/image/upload/q_auto:eco,f_auto,w_160,h_160,c_fill,g_face/tqy7ear61zziw0ehkmkn.jpg'},\n",
       " 16: {'name': 'Dr Paola SORIA',\n",
       "  'job': 'Orthodontiste',\n",
       "  'adress': '11 Rue Gilbert Cesbron',\n",
       "  'city': '75017 Paris',\n",
       "  'img': 'https://media.doctolib.com/image/upload/q_auto:eco,f_auto,w_160,h_160,c_fill,g_face/ufez5bd59hhwnuw9nyig.jpg'},\n",
       " 17: {'name': 'Dr Léon Amzalag',\n",
       "  'job': 'Chirurgien-dentiste',\n",
       "  'adress': '15 Rue Gaillon',\n",
       "  'city': '75002 Paris',\n",
       "  'img': 'https://media.doctolib.com/image/upload/q_auto:eco,f_auto,w_160,h_160,c_fill,g_face/fme3ty0ub6pawglewo2w.jpg'},\n",
       " 18: {'name': 'Centre dentaire Paris 12 - Gare de Lyon - Dentego',\n",
       "  'job': 'Centre dentaire',\n",
       "  'adress': '7 chirurgiens-dentistes',\n",
       "  'city': '5 Rue de Lyon',\n",
       "  'img': 'https://media.doctolib.com/image/upload/q_auto:eco,f_auto,w_160,h_160,c_fill,g_face/kcsauxavmuxyyxey5nxd.jpg'},\n",
       " 19: {'name': 'Dr François Evenou',\n",
       "  'job': 'Chirurgien-dentiste',\n",
       "  'adress': '6 ter Boulevard Delessert',\n",
       "  'city': '75016 Paris',\n",
       "  'img': 'https://media.doctolib.com/image/upload/q_auto:eco,f_auto,w_160,h_160,c_fill,g_face/gngmxdoo39azd5gtp6xu.jpg'}}"
      ]
     },
     "execution_count": 23,
     "metadata": {},
     "output_type": "execute_result"
    }
   ],
   "source": [
    "data"
   ]
  },
  {
   "cell_type": "code",
   "execution_count": null,
   "metadata": {
    "id": "I96n2BybOg6i"
   },
   "outputs": [],
   "source": [
    "for n in range(2, 5):\n",
    "    \n",
    "    driver.get(f'https://www.doctolib.fr/dentiste/paris?page={n}')\n",
    "    \n",
    "    selection = driver.find_elements(By.CLASS_NAME, 'dl-search-result')\n",
    "    data.update(collect_data(selection))\n",
    "    \n",
    "    \n",
    "len(data), data"
   ]
  },
  {
   "cell_type": "markdown",
   "metadata": {
    "id": "6hEwRkyLOg6i"
   },
   "source": [
    "# Partie 2 - Collectes automatisée | [Les Echos](https://www.lesechos.fr/)\n",
    "\n",
    "\n",
    "\n",
    "<br>\n",
    "\n",
    "<br>\n",
    "\n",
    "\n",
    "<img src = 'https://upload.wikimedia.org/wikipedia/fr/thumb/b/bb/Les_echos_%28logo%29.svg/1200px-Les_echos_%28logo%29.svg.png'>\n",
    "\n",
    "<br><br>\n",
    "\n",
    "Les informations que nous souhaitons collecter sont les suivantes :\n",
    "\n",
    "- l’auteur,\n",
    "- la date de publication,\n",
    "- le titre,\n",
    "- le contenu de la page,\n"
   ]
  },
  {
   "cell_type": "code",
   "execution_count": null,
   "metadata": {
    "id": "6FzH1N6AOg6i",
    "outputId": "ce233fea-4846-4308-f328-ec7979b82cff"
   },
   "outputs": [
    {
     "name": "stderr",
     "output_type": "stream",
     "text": [
      "/var/folders/xg/zbz96gcd1l318nfzl96_m9dm0000gn/T/ipykernel_20067/2339178516.py:3: DeprecationWarning: executable_path has been deprecated, please pass in a Service object\n",
      "  driver = webdriver.Chrome(DRIVER_PATH)\n"
     ]
    },
    {
     "name": "stdout",
     "output_type": "stream",
     "text": [
      "True\n",
      "True\n",
      "True\n",
      "True\n",
      "True\n",
      "True\n",
      "True\n",
      "True\n",
      "True\n",
      "True\n",
      "True\n",
      "True\n",
      "True\n",
      "True\n",
      "True\n",
      "True\n",
      "True\n",
      "True\n",
      "True\n",
      "True\n"
     ]
    }
   ],
   "source": [
    "import time\n",
    "DRIVER_PATH = \"./chromedriver\"\n",
    "BASE_URL = \"https://www.lesechos.fr\"\n",
    "driver = webdriver.Chrome(DRIVER_PATH)\n",
    "\n",
    "driver.get(BASE_URL)\n",
    "\n",
    "\n",
    "# Cookies concents\n",
    "buttons = driver.find_elements(By.CLASS_NAME,\"didomi-components-button\")\n",
    "buttons[1].click()\n",
    "\n",
    "\n",
    "# Bouton recherche\n",
    "driver.find_elements(By.TAG_NAME, \"button\")[1].click()\n",
    "\n",
    "time.sleep(2)\n",
    "\n",
    "driver.find_element(By.CLASS_NAME, \n",
    "                    'sc-14kwckt-29').send_keys('Intelligence Artificielle\\ue007')\n",
    "\n",
    "\n",
    "time.sleep(2)\n",
    "\n",
    "# Liste des articles\n",
    "articles = driver.find_elements(By.CLASS_NAME, \"sc-14kwckt-6.sc-1ohdft1-0.jOjJTh.eUIWcH.sc-4cuy4z-0.iruOfP\")\n",
    "nb_article = len(articles)\n",
    "\n",
    "data = []\n",
    "\n",
    "for n in range(nb_article):\n",
    "    \n",
    "    try:\n",
    "        articles[n].click()\n",
    "        time.sleep(2)\n",
    "        data.append([t.text for t in driver.find_elements(By.CLASS_NAME, 'sc-14kwckt-6')])\n",
    "\n",
    "        driver.back()\n",
    "        time.sleep(2)\n",
    "        articles = driver.find_elements(By.CLASS_NAME, \"sc-14kwckt-6.sc-1ohdft1-0.jOjJTh.eUIWcH.sc-4cuy4z-0.iruOfP\")\n",
    "\n",
    "    except:pass"
   ]
  },
  {
   "cell_type": "code",
   "execution_count": null,
   "metadata": {
    "id": "hzck_EQaOg6i"
   },
   "outputs": [],
   "source": [
    "# Correction V2\n",
    "\n",
    "import time\n",
    "from selenium import webdriver\n",
    "from selenium.webdriver.common.by import By\n",
    "from selenium.webdriver.common.keys import Keys\n",
    "import sys\n",
    "\n",
    "\n",
    "driver = webdriver.Chrome('./chromedriver')\n",
    "driver.get('https://www.lesechos.fr/')\n",
    "driver.set_window_size(800,2000)\n",
    "driver.set_window_position(800,0)\n",
    "#driver.implicitly_wait(1)\n",
    "\n",
    "\n",
    "\n",
    "search_query = 'Intelligence artificielle'\n",
    "n = 1\n",
    "\n",
    "#search_query = ''.join(arg+' ' for arg in sys.argv[1:-1])\n",
    "#n = int(sys.argv[-1])\n",
    "\n",
    "def metadata_collect(data):\n",
    "    time.sleep(2)\n",
    "    articles = driver.find_elements(By.TAG_NAME, 'article')\n",
    "    print(f'Collection des métédata de la page de recherche : {len(articles)} articles')\n",
    "    \n",
    "    for article in articles: \n",
    "        data_temp = {}\n",
    "\n",
    "        # Collecte des images des articles\n",
    "        try:data_temp['img'] = article.find_element(By.TAG_NAME, 'img').get_attribute('src')\n",
    "        except:data_temp['img'] = None\n",
    "\n",
    "        # Collecte des images des titres\n",
    "        try:data_temp['title'] = article.find_element(By.TAG_NAME, 'h3').text\n",
    "        except:data_temp['title'] = None\n",
    "\n",
    "        # Collecte des images des liens\n",
    "        try:\n",
    "            data_temp['link'] = article.find_element(By.TAG_NAME, 'a').get_attribute('href')\n",
    "            id_= data_temp['link'].split('-')[-1]\n",
    "        except:data_temp['link'] = None\n",
    "\n",
    "        # Collecte des images des contents\n",
    "        try:data_temp['content'] = True\n",
    "        except:data_temp['content'] = None\n",
    "\n",
    "        data[id_] = data_temp\n",
    "    return data\n",
    "\n",
    "\n",
    "def content_collect(data, search_query):\n",
    "    for u in data:\n",
    "        driver.get(data[u]['link'])\n",
    "        time.sleep(2)\n",
    "\n",
    "        # Collecte des images des dates de publication\n",
    "        try:data[u]['time'] = driver.find_element(By.XPATH, \n",
    "                                                  '/html/head/meta[22]').get_attribute('content')\n",
    "        except:data[u]['time'] = None\n",
    "\n",
    "        # Collecte des images du contenue des pages   \n",
    "        try:data[u]['content'] = str([p.text for p in driver.find_elements(By.CLASS_NAME,\n",
    "                                                                           'sc-14kwckt-6.gPHWRV')])\n",
    "        except:\n",
    "            data[u]['content'] = None\n",
    "\n",
    "        # Collecte des auteurs \n",
    "        try:\n",
    "            data[u]['author'] = driver.find_element(By.CLASS_NAME,'sc-1oe11kk-0.gPfqhZ').text\n",
    "        except:\n",
    "            data[u]['author'] = None\n",
    "            \n",
    "        print(data)\n",
    "\n",
    "        with open(f'data {search_query}.json', 'w') as f:\n",
    "            f.write(str(data))\n",
    "\n",
    "    return data\n",
    "\n",
    "\n",
    "# Cookies consent\n",
    "driver.find_element(By.ID, 'didomi-notice-agree-button').click()\n",
    "\n",
    "# Bare de recherche\n",
    "driver.find_element(By.CLASS_NAME,\n",
    "                    'sc-14kwckt-16.sc-5udzxv-0.hIJloJ.fPxKzE.sc-ctlfsq-0.cQrgEv').click()\n",
    "\n",
    "time.sleep(1)\n",
    "# Recherche par mots clés\n",
    "driver.find_element(By.TAG_NAME, \n",
    "                    'input').send_keys(search_query+Keys.ENTER)\n",
    "\n",
    "# Url de la page de recherche\n",
    "serach_url = driver.current_url\n",
    "\n",
    "data = {}\n",
    "\n",
    "for page in range(2,n+2):\n",
    "    print(f'Data Collect from page : {page-1}')\n",
    "    data = metadata_collect(data)\n",
    "    driver.get(serach_url + f'&page={page}')\n",
    "\n",
    "\n",
    "data = content_collect(data, search_query)\n",
    "\n",
    "#driver.close()"
   ]
  }
 ],
 "metadata": {
  "colab": {
   "collapsed_sections": [],
   "provenance": []
  },
  "kernelspec": {
   "display_name": "Python 3 (ipykernel)",
   "language": "python",
   "name": "python3"
  },
  "language_info": {
   "codemirror_mode": {
    "name": "ipython",
    "version": 3
   },
   "file_extension": ".py",
   "mimetype": "text/x-python",
   "name": "python",
   "nbconvert_exporter": "python",
   "pygments_lexer": "ipython3",
   "version": "3.9.12"
  }
 },
 "nbformat": 4,
 "nbformat_minor": 1
}
