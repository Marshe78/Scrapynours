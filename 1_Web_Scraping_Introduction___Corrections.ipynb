{
  "cells": [
    {
      "cell_type": "markdown",
      "metadata": {
        "id": "oi9T2_uR5i3N"
      },
      "source": [
        "# 1. Web Scraping - Introduction\n",
        "\n",
        "<img src='https://xn--kvin-duranty-beb.fr/wp-content/uploads/2022/10/Web-Scraping-_-IPSSI-PRS.png'>\n",
        "\n",
        "\n",
        "Dans ce premier exercice nous allons utiliser le package `requests` afin de scaper le premier site internet mis en ligne par Tim Berners-Lee le concepteur du langage de programation html, et du protocole http.\n",
        "\n",
        "Cette exercice a pour but de revoir les base de la programation html, il est important bien co:prendre les notions de balise de tag et d'attribut afin de poursuivre ce cours dans les meilleurs conditions.\n",
        "\n",
        "\n",
        "## 1.1 Importez le package `requests`."
      ]
    },
    {
      "cell_type": "code",
      "execution_count": null,
      "metadata": {
        "id": "c_z7EiJ3YXHx"
      },
      "outputs": [],
      "source": [
        "import requests"
      ]
    },
    {
      "cell_type": "markdown",
      "metadata": {
        "id": "mFfvtGma5i3Q"
      },
      "source": [
        "## 1.2 Utilisez la méthode `get` du package `requests` afin d'obtenir la page [TheProject](http://info.cern.ch/hypertext/WWW/TheProject.html).\n",
        "\n",
        "Stoquez le résultat dans une variable `response` puis affihez le type de cette variable ainsi que le statut de la réponse en utilisant l'instance `status_code`."
      ]
    },
    {
      "cell_type": "code",
      "execution_count": null,
      "metadata": {
        "colab": {
          "base_uri": "https://localhost:8080/"
        },
        "id": "5Ca5aPEW5i3Q",
        "outputId": "e3c8bedd-0dd1-41af-d14c-aa7db03d2135"
      },
      "outputs": [
        {
          "output_type": "execute_result",
          "data": {
            "text/plain": [
              "requests.models.Response"
            ]
          },
          "metadata": {},
          "execution_count": 2
        }
      ],
      "source": [
        "headers = {'User-Agent': 'Mozilla/5.0 (Macintosh; Intel Mac OS X 10_15_7) AppleWebKit/537.36 (KHTML, like Gecko) Chrome/106.0.0.0 Safari/537.36'}\n",
        "\n",
        "response = requests.get(\"http://info.cern.ch/hypertext/WWW/TheProject.html\", headers)\n",
        "type(response)"
      ]
    },
    {
      "cell_type": "code",
      "execution_count": null,
      "metadata": {
        "colab": {
          "base_uri": "https://localhost:8080/"
        },
        "id": "sawMMS2-5i3Q",
        "outputId": "6b4d7871-1dce-41d7-c3ad-873c3667d0fc"
      },
      "outputs": [
        {
          "output_type": "execute_result",
          "data": {
            "text/plain": [
              "200"
            ]
          },
          "metadata": {},
          "execution_count": 3
        }
      ],
      "source": [
        "response.status_code"
      ]
    },
    {
      "cell_type": "markdown",
      "metadata": {
        "id": "zaEToY3R5i3R"
      },
      "source": [
        "## 1.3 Utilisez l'instance `text` de la variable `response` et notez vos observations.\n",
        "Sauvegardez le résultat '`The World Wide Web project.html`' puis ouvrez ce fichier avec votre navigateur, notez vos observations.\n",
        "\n"
      ]
    },
    {
      "cell_type": "code",
      "execution_count": null,
      "metadata": {
        "colab": {
          "base_uri": "https://localhost:8080/",
          "height": 143
        },
        "id": "jAQD_xaj5i3R",
        "outputId": "81a1cde5-8f31-4110-8b07-fdf2cdf5485d"
      },
      "outputs": [
        {
          "output_type": "execute_result",
          "data": {
            "text/plain": [
              "'<HEADER>\\n<TITLE>The World Wide Web project</TITLE>\\n<NEXTID N=\"55\">\\n</HEADER>\\n<BODY>\\n<H1>World Wide Web</H1>The WorldWideWeb (W3) is a wide-area<A\\nNAME=0 HREF=\"WhatIs.html\">\\nhypermedia</A> information retrieval\\ninitiative aiming to give universal\\naccess to a large universe of documents.<P>\\nEverything there is online about\\nW3 is linked directly or indirectly\\nto this document, including an <A\\nNAME=24 HREF=\"Summary.html\">executive\\nsummary</A> of the project, <A\\nNAME=29 HREF=\"Administration/Mailing/Overview.html\">Mailing lists</A>\\n, <A\\nNAME=30 HREF=\"Policy.html\">Policy</A> , November\\'s  <A\\nNAME=34 HREF=\"News/9211.html\">W3  news</A> ,\\n<A\\nNAME=41 HREF=\"FAQ/List.html\">Frequently Asked Questions</A> .\\n<DL>\\n<DT><A\\nNAME=44 HREF=\"../DataSources/Top.html\">What\\'s out there?</A>\\n<DD> Pointers to the\\nworld\\'s online information,<A\\nNAME=45 HREF=\"../DataSources/bySubject/Overview.html\"> subjects</A>\\n, <A\\nNAME=z54 HREF=\"../DataSources/WWW/Servers.html\">W3 servers</A>, etc.\\n<DT><A\\nNAME=46 HREF=\"Help.html\">Help</A>\\n<DD> on the browser you are using\\n<DT><A\\nNAME=13 HREF=\"Status.html\">Software Products</A>\\n<DD> A list of W3 project\\ncomponents and their current state.\\n(e.g. <A\\nNAME=27 HREF=\"LineMode/Browser.html\">Line Mode</A> ,X11 <A\\nNAME=35 HREF=\"Status.html#35\">Viola</A> ,  <A\\nNAME=26 HREF=\"NeXT/WorldWideWeb.html\">NeXTStep</A>\\n, <A\\nNAME=25 HREF=\"Daemon/Overview.html\">Servers</A> , <A\\nNAME=51 HREF=\"Tools/Overview.html\">Tools</A> ,<A\\nNAME=53 HREF=\"MailRobot/Overview.html\"> Mail robot</A> ,<A\\nNAME=52 HREF=\"Status.html#57\">\\nLibrary</A> )\\n<DT><A\\nNAME=47 HREF=\"Technical.html\">Technical</A>\\n<DD> Details of protocols, formats,\\nprogram internals etc\\n<DT><A\\nNAME=40 HREF=\"Bibliography.html\">Bibliography</A>\\n<DD> Paper documentation\\non  W3 and references.\\n<DT><A\\nNAME=14 HREF=\"People.html\">People</A>\\n<DD> A list of some people involved\\nin the project.\\n<DT><A\\nNAME=15 HREF=\"History.html\">History</A>\\n<DD> A summary of the history\\nof the project.\\n<DT><A\\nNAME=37 HREF=\"Helping.html\">How can I help</A> ?\\n<DD> If you would like\\nto support the web..\\n<DT><A\\nNAME=48 HREF=\"../README.html\">Getting code</A>\\n<DD> Getting the code by<A\\nNAME=49 HREF=\"LineMode/Defaults/Distribution.html\">\\nanonymous FTP</A> , etc.</A>\\n</DL>\\n</BODY>\\n'"
            ],
            "application/vnd.google.colaboratory.intrinsic+json": {
              "type": "string"
            }
          },
          "metadata": {},
          "execution_count": 4
        }
      ],
      "source": [
        "response.text"
      ]
    },
    {
      "cell_type": "code",
      "execution_count": null,
      "metadata": {
        "id": "NdJ1wbuj5i3R"
      },
      "outputs": [],
      "source": [
        "with open('The World Wide Web project.html', 'w') as f:\n",
        "    f.write(response.text)"
      ]
    },
    {
      "cell_type": "markdown",
      "metadata": {
        "id": "YPWby_UF5i3S"
      },
      "source": [
        "## 1.4 Quelle instance de la variable `response` contient l'adresse URL de la page observée ?"
      ]
    },
    {
      "cell_type": "code",
      "execution_count": null,
      "metadata": {
        "colab": {
          "base_uri": "https://localhost:8080/",
          "height": 53
        },
        "id": "KsBkup6F5i3S",
        "outputId": "8aad5e41-156d-425e-9a3e-8384da4dae7a"
      },
      "outputs": [
        {
          "output_type": "execute_result",
          "data": {
            "text/plain": [
              "'http://info.cern.ch/hypertext/WWW/TheProject.html?User-Agent=Mozilla%2F5.0+%28Macintosh%3B+Intel+Mac+OS+X+10_15_7%29+AppleWebKit%2F537.36+%28KHTML%2C+like+Gecko%29+Chrome%2F106.0.0.0+Safari%2F537.36'"
            ],
            "application/vnd.google.colaboratory.intrinsic+json": {
              "type": "string"
            }
          },
          "metadata": {},
          "execution_count": 6
        }
      ],
      "source": [
        "response.url"
      ]
    },
    {
      "cell_type": "markdown",
      "metadata": {
        "id": "3-njyNi-5i3S"
      },
      "source": [
        "## 1.5 Combien de titre 'h1' contient la page  `The World Wide Web project` ?\n",
        "! Atention aux majuscules !"
      ]
    },
    {
      "cell_type": "code",
      "execution_count": null,
      "metadata": {
        "colab": {
          "base_uri": "https://localhost:8080/"
        },
        "id": "FdMQR9VO5i3S",
        "outputId": "40468565-f808-4215-b5ff-e5794e35eaf7"
      },
      "outputs": [
        {
          "output_type": "execute_result",
          "data": {
            "text/plain": [
              "2"
            ]
          },
          "metadata": {},
          "execution_count": 7
        }
      ],
      "source": [
        "len(response.text.split('<H1'))"
      ]
    },
    {
      "cell_type": "markdown",
      "metadata": {
        "id": "QrMCcrzB5i3T"
      },
      "source": [
        "## 1.6 Combien de lien possède la page `The World Wide Web project` ?"
      ]
    },
    {
      "cell_type": "code",
      "execution_count": null,
      "metadata": {
        "colab": {
          "base_uri": "https://localhost:8080/"
        },
        "id": "D-OceEPN5i3T",
        "outputId": "d789858a-3efe-421c-edfd-42ba019f5488"
      },
      "outputs": [
        {
          "output_type": "execute_result",
          "data": {
            "text/plain": [
              "26"
            ]
          },
          "metadata": {},
          "execution_count": 8
        }
      ],
      "source": [
        "len(response.text.split('HREF'))"
      ]
    },
    {
      "cell_type": "markdown",
      "metadata": {
        "id": "4u0n28wV5i3T"
      },
      "source": [
        "## 1.7 Récupérez tous les liens de la page à l'aide d'une fonction.\n",
        "\n",
        "Créez une fonction `get_links` qui prend en argument une variable `response` (de type requests.models.Response) et qui retourne une liste contenant tous les liens présents sur la page."
      ]
    },
    {
      "cell_type": "code",
      "execution_count": null,
      "metadata": {
        "id": "QHzy3hV05i3T"
      },
      "outputs": [],
      "source": [
        "def get_links(response:requests.models.Response):\n",
        "    \n",
        "    link = [u.split('\"')[1] for u in response.text.split('HREF')[1:]]\n",
        "    return [response.url.split('TheProject.html')[0]+u for u in link ]"
      ]
    },
    {
      "cell_type": "code",
      "execution_count": null,
      "metadata": {
        "colab": {
          "base_uri": "https://localhost:8080/"
        },
        "id": "hVRsZMWo5i3T",
        "outputId": "90b19800-9b9b-4803-a7ce-ce19dc64663a"
      },
      "outputs": [
        {
          "output_type": "execute_result",
          "data": {
            "text/plain": [
              "['http://info.cern.ch/hypertext/WWW/WhatIs.html',\n",
              " 'http://info.cern.ch/hypertext/WWW/Summary.html',\n",
              " 'http://info.cern.ch/hypertext/WWW/Administration/Mailing/Overview.html',\n",
              " 'http://info.cern.ch/hypertext/WWW/Policy.html',\n",
              " 'http://info.cern.ch/hypertext/WWW/News/9211.html',\n",
              " 'http://info.cern.ch/hypertext/WWW/FAQ/List.html',\n",
              " 'http://info.cern.ch/hypertext/WWW/../DataSources/Top.html',\n",
              " 'http://info.cern.ch/hypertext/WWW/../DataSources/bySubject/Overview.html',\n",
              " 'http://info.cern.ch/hypertext/WWW/../DataSources/WWW/Servers.html',\n",
              " 'http://info.cern.ch/hypertext/WWW/Help.html',\n",
              " 'http://info.cern.ch/hypertext/WWW/Status.html',\n",
              " 'http://info.cern.ch/hypertext/WWW/LineMode/Browser.html',\n",
              " 'http://info.cern.ch/hypertext/WWW/Status.html#35',\n",
              " 'http://info.cern.ch/hypertext/WWW/NeXT/WorldWideWeb.html',\n",
              " 'http://info.cern.ch/hypertext/WWW/Daemon/Overview.html',\n",
              " 'http://info.cern.ch/hypertext/WWW/Tools/Overview.html',\n",
              " 'http://info.cern.ch/hypertext/WWW/MailRobot/Overview.html',\n",
              " 'http://info.cern.ch/hypertext/WWW/Status.html#57',\n",
              " 'http://info.cern.ch/hypertext/WWW/Technical.html',\n",
              " 'http://info.cern.ch/hypertext/WWW/Bibliography.html',\n",
              " 'http://info.cern.ch/hypertext/WWW/People.html',\n",
              " 'http://info.cern.ch/hypertext/WWW/History.html',\n",
              " 'http://info.cern.ch/hypertext/WWW/Helping.html',\n",
              " 'http://info.cern.ch/hypertext/WWW/../README.html',\n",
              " 'http://info.cern.ch/hypertext/WWW/LineMode/Defaults/Distribution.html']"
            ]
          },
          "metadata": {},
          "execution_count": 10
        }
      ],
      "source": [
        "links = get_links(response)\n",
        "links"
      ]
    },
    {
      "cell_type": "markdown",
      "metadata": {
        "id": "HeUd4lJm5i3T"
      },
      "source": [
        "## 1.8 Vérifiez que les pages de cette liste existent."
      ]
    },
    {
      "cell_type": "code",
      "execution_count": null,
      "metadata": {
        "colab": {
          "base_uri": "https://localhost:8080/"
        },
        "id": "NK5e_joN5i3T",
        "outputId": "7df50dbe-ef9b-4d73-fab7-d50dad3580d9"
      },
      "outputs": [
        {
          "output_type": "execute_result",
          "data": {
            "text/plain": [
              "[200,\n",
              " 200,\n",
              " 404,\n",
              " 200,\n",
              " 200,\n",
              " 200,\n",
              " 200,\n",
              " 200,\n",
              " 200,\n",
              " 200,\n",
              " 200,\n",
              " 200,\n",
              " 200,\n",
              " 200,\n",
              " 200,\n",
              " 200,\n",
              " 200,\n",
              " 200,\n",
              " 200,\n",
              " 200,\n",
              " 200,\n",
              " 200,\n",
              " 200,\n",
              " 200,\n",
              " 200]"
            ]
          },
          "metadata": {},
          "execution_count": 11
        }
      ],
      "source": [
        "[requests.get(u).status_code for u in links]"
      ]
    },
    {
      "cell_type": "code",
      "execution_count": null,
      "metadata": {
        "colab": {
          "base_uri": "https://localhost:8080/"
        },
        "id": "_jR0OnSp5i3U",
        "outputId": "b0c5a57f-74d2-4f89-cb31-e344ff93f97a"
      },
      "outputs": [
        {
          "output_type": "execute_result",
          "data": {
            "text/plain": [
              "['http://info.cern.ch/hypertext/WWW/WhatIs.html',\n",
              " 'http://info.cern.ch/hypertext/WWW/Summary.html',\n",
              " 'http://info.cern.ch/hypertext/WWW/Policy.html',\n",
              " 'http://info.cern.ch/hypertext/WWW/News/9211.html',\n",
              " 'http://info.cern.ch/hypertext/WWW/FAQ/List.html',\n",
              " 'http://info.cern.ch/hypertext/WWW/../DataSources/Top.html',\n",
              " 'http://info.cern.ch/hypertext/WWW/../DataSources/bySubject/Overview.html',\n",
              " 'http://info.cern.ch/hypertext/WWW/../DataSources/WWW/Servers.html',\n",
              " 'http://info.cern.ch/hypertext/WWW/Help.html',\n",
              " 'http://info.cern.ch/hypertext/WWW/Status.html',\n",
              " 'http://info.cern.ch/hypertext/WWW/LineMode/Browser.html',\n",
              " 'http://info.cern.ch/hypertext/WWW/Status.html#35',\n",
              " 'http://info.cern.ch/hypertext/WWW/NeXT/WorldWideWeb.html',\n",
              " 'http://info.cern.ch/hypertext/WWW/Daemon/Overview.html',\n",
              " 'http://info.cern.ch/hypertext/WWW/Tools/Overview.html',\n",
              " 'http://info.cern.ch/hypertext/WWW/MailRobot/Overview.html',\n",
              " 'http://info.cern.ch/hypertext/WWW/Status.html#57',\n",
              " 'http://info.cern.ch/hypertext/WWW/Technical.html',\n",
              " 'http://info.cern.ch/hypertext/WWW/Bibliography.html',\n",
              " 'http://info.cern.ch/hypertext/WWW/People.html',\n",
              " 'http://info.cern.ch/hypertext/WWW/History.html',\n",
              " 'http://info.cern.ch/hypertext/WWW/Helping.html',\n",
              " 'http://info.cern.ch/hypertext/WWW/../README.html',\n",
              " 'http://info.cern.ch/hypertext/WWW/LineMode/Defaults/Distribution.html']"
            ]
          },
          "metadata": {},
          "execution_count": 12
        }
      ],
      "source": [
        "[requests.get(u).url for u in links if requests.get(u).status_code == 200]"
      ]
    },
    {
      "cell_type": "markdown",
      "metadata": {
        "id": "aWAoXHPe5i3U"
      },
      "source": [
        "## 1.9 Récupérez les liens présents sur la deuxième pagede cette liste"
      ]
    },
    {
      "cell_type": "code",
      "execution_count": null,
      "metadata": {
        "id": "Q5ibct4j5i3U"
      },
      "outputs": [],
      "source": [
        "link = requests.get(links[0]).text.split('HREF')[1:]"
      ]
    },
    {
      "cell_type": "code",
      "execution_count": null,
      "metadata": {
        "colab": {
          "base_uri": "https://localhost:8080/",
          "height": 35
        },
        "id": "nMGLI2Iw5i3U",
        "outputId": "465118d4-05f9-4072-a1cb-78bd474baf71"
      },
      "outputs": [
        {
          "output_type": "execute_result",
          "data": {
            "text/plain": [
              "'http://info.cern.ch/hypertext/WWW/WhatIs.html'"
            ],
            "application/vnd.google.colaboratory.intrinsic+json": {
              "type": "string"
            }
          },
          "metadata": {},
          "execution_count": 14
        }
      ],
      "source": [
        "requests.get(links[0]).url"
      ]
    },
    {
      "cell_type": "code",
      "execution_count": null,
      "metadata": {
        "colab": {
          "base_uri": "https://localhost:8080/"
        },
        "id": "7mPaqd0-5i3U",
        "outputId": "1711382d-ec12-4ce4-8d25-25607edf11ac"
      },
      "outputs": [
        {
          "output_type": "execute_result",
          "data": {
            "text/plain": [
              "['Terms.html#link',\n",
              " 'Xanadu.html#Nelson',\n",
              " '../History.html',\n",
              " 'Talks/YesWeCan.snd',\n",
              " 'Terms.html',\n",
              " '../Conferences/Overview.html',\n",
              " '../Products/Overview.html',\n",
              " 'news:alt.hypertext',\n",
              " 'TheProject.html',\n",
              " '../Standards/Overview.html']"
            ]
          },
          "metadata": {},
          "execution_count": 15
        }
      ],
      "source": [
        "[u.split(\"=\")[1].split(\">\")[0] for u in link]"
      ]
    },
    {
      "cell_type": "code",
      "execution_count": null,
      "metadata": {
        "id": "0i5Qh8705i3U"
      },
      "outputs": [],
      "source": [
        "def get_links(response:requests.models.Response):\n",
        "    page = requests.get(links[0]).url.split('/')[-1]\n",
        "    url_page = response.url.split(page)[0]\n",
        "    \n",
        "    link = response.text.split('HREF')[1:]\n",
        "    return [url_page+u.split(\"=\")[1].split(\">\")[0] for u in link ]"
      ]
    },
    {
      "cell_type": "code",
      "execution_count": null,
      "metadata": {
        "colab": {
          "base_uri": "https://localhost:8080/"
        },
        "id": "mfPWnoeA5i3U",
        "outputId": "db3694c2-548f-4c88-a428-0fe069a4b64c"
      },
      "outputs": [
        {
          "output_type": "execute_result",
          "data": {
            "text/plain": [
              "['http://info.cern.ch/hypertext/WWW/News/9211.html\"../MidasWWW/Status.html\"',\n",
              " 'http://info.cern.ch/hypertext/WWW/News/9211.html\"../Macintosh/Status.html\"',\n",
              " 'http://info.cern.ch/hypertext/WWW/News/9211.html\"../Curses/Release_00.html\"',\n",
              " 'http://info.cern.ch/hypertext/WWW/News/9211.html\"http://kviexp.kvi.nl/\"',\n",
              " 'http://info.cern.ch/hypertext/WWW/News/9211.html\"//ftp.cwi.nl/pub/www/default.html\"',\n",
              " 'http://info.cern.ch/hypertext/WWW/News/9211.html\"http://info.in2p3.fr.:80/\"',\n",
              " 'http://info.cern.ch/hypertext/WWW/News/9211.html\"http://hoohoo.ncsa.uiuc.edu:80/\"',\n",
              " 'http://info.cern.ch/hypertext/WWW/News/9211.html\"//ftp.cwi.nl/pub/www/audio-formats/a00.html\"',\n",
              " 'http://info.cern.ch/hypertext/WWW/News/9211.html\"http://hoohoo.ncsa.uiuc.edu:80/docs/collage.html\"',\n",
              " 'http://info.cern.ch/hypertext/WWW/News/9211.html\"http://rd13doc:80/\"',\n",
              " 'http://info.cern.ch/hypertext/WWW/News/9211.html\"http://fatty.law.cornell.edu.:80/usr2/wwwtext/lii.table.html\"',\n",
              " 'http://info.cern.ch/hypertext/WWW/News/9211.html\"9209.html\"',\n",
              " 'http://info.cern.ch/hypertext/WWW/News/9211.html\"http://info.cern.ch./hypertext/TBL_Disclaimer.html\"']"
            ]
          },
          "metadata": {},
          "execution_count": 17
        }
      ],
      "source": [
        "get_links(requests.get(links[4]))"
      ]
    }
  ],
  "metadata": {
    "colab": {
      "provenance": []
    },
    "kernelspec": {
      "display_name": "Python 3 (ipykernel)",
      "language": "python",
      "name": "python3"
    },
    "language_info": {
      "codemirror_mode": {
        "name": "ipython",
        "version": 3
      },
      "file_extension": ".py",
      "mimetype": "text/x-python",
      "name": "python",
      "nbconvert_exporter": "python",
      "pygments_lexer": "ipython3",
      "version": "3.10.6"
    }
  },
  "nbformat": 4,
  "nbformat_minor": 0
}