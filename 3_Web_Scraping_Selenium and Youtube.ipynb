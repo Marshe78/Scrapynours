{
 "cells": [
  {
   "cell_type": "code",
   "execution_count": 1,
   "id": "70b275e6",
   "metadata": {
    "id": "70b275e6",
    "outputId": "41c53471-2330-4920-a842-9fe0d50d59db"
   },
   "outputs": [
    {
     "name": "stderr",
     "output_type": "stream",
     "text": [
      "/var/folders/xg/zbz96gcd1l318nfzl96_m9dm0000gn/T/ipykernel_60837/3380313814.py:5: DeprecationWarning: executable_path has been deprecated, please pass in a Service object\n",
      "  driver = webdriver.Chrome('./chromedriver')\n"
     ]
    },
    {
     "data": {
      "text/plain": [
       "['https://www.youtube.com/watch?v=e-bK07aaOHg&list=PLbH8UGHWFlsR75kpcyxgi2xoHtvemBJaw&index=1',\n",
       " 'https://www.youtube.com/watch?v=sYcvF9RWXow&list=PLbH8UGHWFlsR75kpcyxgi2xoHtvemBJaw&index=2',\n",
       " 'https://www.youtube.com/watch?v=lRpQejW9TwA&list=PLbH8UGHWFlsR75kpcyxgi2xoHtvemBJaw&index=3',\n",
       " 'https://www.youtube.com/watch?v=4wH0itOzVeA&list=PLbH8UGHWFlsR75kpcyxgi2xoHtvemBJaw&index=4',\n",
       " 'https://www.youtube.com/watch?v=BmLKlfV1vmc&list=PLbH8UGHWFlsR75kpcyxgi2xoHtvemBJaw&index=5',\n",
       " 'https://www.youtube.com/watch?v=k0NNgLbb2bw&list=PLbH8UGHWFlsR75kpcyxgi2xoHtvemBJaw&index=6',\n",
       " 'https://www.youtube.com/watch?v=V72qJ_oaPks&list=PLbH8UGHWFlsR75kpcyxgi2xoHtvemBJaw&index=7',\n",
       " 'https://www.youtube.com/watch?v=8Tl9IX11mJc&list=PLbH8UGHWFlsR75kpcyxgi2xoHtvemBJaw&index=8',\n",
       " 'https://www.youtube.com/watch?v=WwDZ7akdPAc&list=PLbH8UGHWFlsR75kpcyxgi2xoHtvemBJaw&index=9',\n",
       " 'https://www.youtube.com/watch?v=ZlgIuIinL5k&list=PLbH8UGHWFlsR75kpcyxgi2xoHtvemBJaw&index=10',\n",
       " 'https://www.youtube.com/watch?v=40JvShGTHXc&list=PLbH8UGHWFlsR75kpcyxgi2xoHtvemBJaw&index=11',\n",
       " 'https://www.youtube.com/watch?v=u43anaZPZLM&list=PLbH8UGHWFlsR75kpcyxgi2xoHtvemBJaw&index=12',\n",
       " 'https://www.youtube.com/watch?v=ABxr-CZhSuw&list=PLbH8UGHWFlsR75kpcyxgi2xoHtvemBJaw&index=13',\n",
       " 'https://www.youtube.com/watch?v=0qoDhxDN3ls&list=PLbH8UGHWFlsR75kpcyxgi2xoHtvemBJaw&index=14',\n",
       " 'https://www.youtube.com/watch?v=VchjStwLOsQ&list=PLbH8UGHWFlsR75kpcyxgi2xoHtvemBJaw&index=15',\n",
       " 'https://www.youtube.com/watch?v=uaBYPA7X0vg&list=PLbH8UGHWFlsR75kpcyxgi2xoHtvemBJaw&index=16',\n",
       " 'https://www.youtube.com/watch?v=al2fzo1GKvA&list=PLbH8UGHWFlsR75kpcyxgi2xoHtvemBJaw&index=17',\n",
       " 'https://www.youtube.com/watch?v=LWkvJGAHLmc&list=PLbH8UGHWFlsR75kpcyxgi2xoHtvemBJaw&index=18',\n",
       " 'https://www.youtube.com/watch?v=j35nGYQdjjM&list=PLbH8UGHWFlsR75kpcyxgi2xoHtvemBJaw&index=19',\n",
       " 'https://www.youtube.com/watch?v=bPDnWWxrdTU&list=PLbH8UGHWFlsR75kpcyxgi2xoHtvemBJaw&index=20',\n",
       " 'https://www.youtube.com/watch?v=NBMITIGtIwA&list=PLbH8UGHWFlsR75kpcyxgi2xoHtvemBJaw&index=21',\n",
       " 'https://www.youtube.com/watch?v=pSblMhWtmGs&list=PLbH8UGHWFlsR75kpcyxgi2xoHtvemBJaw&index=22',\n",
       " 'https://www.youtube.com/watch?v=p_QIU2iwWbE&list=PLbH8UGHWFlsR75kpcyxgi2xoHtvemBJaw&index=23',\n",
       " 'https://www.youtube.com/watch?v=KhbJ1pNpfDU&list=PLbH8UGHWFlsR75kpcyxgi2xoHtvemBJaw&index=24',\n",
       " 'https://www.youtube.com/watch?v=9MtrSCbmciY&list=PLbH8UGHWFlsR75kpcyxgi2xoHtvemBJaw&index=25',\n",
       " 'https://www.youtube.com/watch?v=U0aI9W7h970&list=PLbH8UGHWFlsR75kpcyxgi2xoHtvemBJaw&index=26',\n",
       " 'https://www.youtube.com/watch?v=rpxWN4uS7x8&list=PLbH8UGHWFlsR75kpcyxgi2xoHtvemBJaw&index=27',\n",
       " 'https://www.youtube.com/watch?v=D7-YDr6ZVZI&list=PLbH8UGHWFlsR75kpcyxgi2xoHtvemBJaw&index=28',\n",
       " 'https://www.youtube.com/watch?v=mJ4BhdQAdKU&list=PLbH8UGHWFlsR75kpcyxgi2xoHtvemBJaw&index=29',\n",
       " 'https://www.youtube.com/watch?v=ijs_KbH9qtw&list=PLbH8UGHWFlsR75kpcyxgi2xoHtvemBJaw&index=30',\n",
       " 'https://www.youtube.com/watch?v=zbR30yrzjrA&list=PLbH8UGHWFlsR75kpcyxgi2xoHtvemBJaw&index=31',\n",
       " 'https://www.youtube.com/watch?v=PUtp9C5HfNI&list=PLbH8UGHWFlsR75kpcyxgi2xoHtvemBJaw&index=32',\n",
       " 'https://www.youtube.com/watch?v=oY2UCdhKKFs&list=PLbH8UGHWFlsR75kpcyxgi2xoHtvemBJaw&index=33',\n",
       " 'https://www.youtube.com/watch?v=7XLdBThKnUk&list=PLbH8UGHWFlsR75kpcyxgi2xoHtvemBJaw&index=34',\n",
       " 'https://www.youtube.com/watch?v=-SROHpVPIlY&list=PLbH8UGHWFlsR75kpcyxgi2xoHtvemBJaw&index=35',\n",
       " 'https://www.youtube.com/watch?v=Upsz3g4VaTQ&list=PLbH8UGHWFlsR75kpcyxgi2xoHtvemBJaw&index=36',\n",
       " 'https://www.youtube.com/watch?v=c0vlju6Dnr0&list=PLbH8UGHWFlsR75kpcyxgi2xoHtvemBJaw&index=37',\n",
       " 'https://www.youtube.com/watch?v=IyFcEkJW1XE&list=PLbH8UGHWFlsR75kpcyxgi2xoHtvemBJaw&index=38',\n",
       " 'https://www.youtube.com/watch?v=Az12YfF_bmI&list=PLbH8UGHWFlsR75kpcyxgi2xoHtvemBJaw&index=39',\n",
       " 'https://www.youtube.com/watch?v=q4q2SeDrFaE&list=PLbH8UGHWFlsR75kpcyxgi2xoHtvemBJaw&index=40',\n",
       " 'https://www.youtube.com/watch?v=3IY2pfG-tA0&list=PLbH8UGHWFlsR75kpcyxgi2xoHtvemBJaw&index=41',\n",
       " 'https://www.youtube.com/watch?v=KmlPes31opA&list=PLbH8UGHWFlsR75kpcyxgi2xoHtvemBJaw&index=42',\n",
       " 'https://www.youtube.com/watch?v=O8qh761Pw1Q&list=PLbH8UGHWFlsR75kpcyxgi2xoHtvemBJaw&index=43',\n",
       " 'https://www.youtube.com/watch?v=bvNZkRe6dME&list=PLbH8UGHWFlsR75kpcyxgi2xoHtvemBJaw&index=44',\n",
       " 'https://www.youtube.com/watch?v=-v4ohHwlE44&list=PLbH8UGHWFlsR75kpcyxgi2xoHtvemBJaw&index=45',\n",
       " 'https://www.youtube.com/watch?v=BHt3Z0IA8DE&list=PLbH8UGHWFlsR75kpcyxgi2xoHtvemBJaw&index=46',\n",
       " 'https://www.youtube.com/watch?v=PDVLOnjMMZg&list=PLbH8UGHWFlsR75kpcyxgi2xoHtvemBJaw&index=47',\n",
       " 'https://www.youtube.com/watch?v=Qm30keNVAO4&list=PLbH8UGHWFlsR75kpcyxgi2xoHtvemBJaw&index=48',\n",
       " 'https://www.youtube.com/watch?v=mAf0E-O4J-k&list=PLbH8UGHWFlsR75kpcyxgi2xoHtvemBJaw&index=49',\n",
       " 'https://www.youtube.com/watch?v=Lm113H7ybbc&list=PLbH8UGHWFlsR75kpcyxgi2xoHtvemBJaw&index=50',\n",
       " 'https://www.youtube.com/watch?v=JGw-ojI5eHg&list=PLbH8UGHWFlsR75kpcyxgi2xoHtvemBJaw&index=51',\n",
       " 'https://www.youtube.com/watch?v=MIehKREnLdM&list=PLbH8UGHWFlsR75kpcyxgi2xoHtvemBJaw&index=52',\n",
       " 'https://www.youtube.com/watch?v=kuqUXIOYZPM&list=PLbH8UGHWFlsR75kpcyxgi2xoHtvemBJaw&index=53',\n",
       " 'https://www.youtube.com/watch?v=2C0laxOLVL8&list=PLbH8UGHWFlsR75kpcyxgi2xoHtvemBJaw&index=54']"
      ]
     },
     "execution_count": 1,
     "metadata": {},
     "output_type": "execute_result"
    }
   ],
   "source": [
    "from selenium import webdriver\n",
    "from selenium.webdriver.common.by import By\n",
    "import time\n",
    "\n",
    "driver = webdriver.Chrome('./chromedriver')\n",
    "driver.get('https://www.youtube.com/watch?v=e-bK07aaOHg&list=PLbH8UGHWFlsR75kpcyxgi2xoHtvemBJaw')\n",
    "\n",
    "time.sleep(1)\n",
    "\n",
    "driver.find_elements(By.CLASS_NAME, 'style-scope.ytd-button-renderer.style-primary.size-default')[0].click()\n",
    "\n",
    "time.sleep(1)\n",
    "links = driver.find_elements(By.CLASS_NAME, 'yt-simple-endpoint.inline-block.style-scope.ytd-thumbnail')\n",
    "videos = [link.get_attribute('href') for link in links][1:]\n",
    "videos = [video for video in videos if 'index' in video]\n",
    "videos"
   ]
  },
  {
   "cell_type": "code",
   "execution_count": 2,
   "id": "e001577b",
   "metadata": {
    "id": "e001577b"
   },
   "outputs": [
    {
     "name": "stdout",
     "output_type": "stream",
     "text": [
      "Nombre de vidéos à télécharger ?2\n"
     ]
    }
   ],
   "source": [
    "driver.get('https://www.freemake.com/fr/free_video_downloader_ideal/')\n",
    "\n",
    "time.sleep(1)\n",
    "\n",
    "n = int(input('Nombre de vidéos à télécharger ? '))\n",
    "\n",
    "for video in videos[:n]:\n",
    "    driver.find_element(By.CLASS_NAME,\n",
    "                        'service_input_link.service-input-link_behavior-heuristic-enabled').send_keys(video)\n",
    "\n",
    "\n",
    "    time.sleep(5)\n",
    "    driver.find_element(By.ID, 'freeDownloadNowButton').click()\n",
    "\n",
    "    time.sleep(5)\n",
    "    driver.refresh()\n",
    "    \n",
    "driver.close()"
   ]
  },
  {
   "cell_type": "code",
   "execution_count": 3,
   "id": "c2bd5706",
   "metadata": {},
   "outputs": [],
   "source": []
  },
  {
   "cell_type": "code",
   "execution_count": null,
   "id": "a62c554a",
   "metadata": {},
   "outputs": [],
   "source": []
  }
 ],
 "metadata": {
  "colab": {
   "provenance": []
  },
  "kernelspec": {
   "display_name": "Python 3 (ipykernel)",
   "language": "python",
   "name": "python3"
  },
  "language_info": {
   "codemirror_mode": {
    "name": "ipython",
    "version": 3
   },
   "file_extension": ".py",
   "mimetype": "text/x-python",
   "name": "python",
   "nbconvert_exporter": "python",
   "pygments_lexer": "ipython3",
   "version": "3.10.6"
  }
 },
 "nbformat": 4,
 "nbformat_minor": 5
}
